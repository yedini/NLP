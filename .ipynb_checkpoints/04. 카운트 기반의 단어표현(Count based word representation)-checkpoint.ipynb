{
 "cells": [
  {
   "attachments": {
    "image.png": {
     "image/png": "[encoded data removed]"
    }
   },
   "cell_type": "markdown",
   "id": "ec38fcde",
   "metadata": {},
   "source": [
    "## 1. 단어의 표현 방법\n",
    "머신러닝 등의 알고리즘이 적용된 본격적인 자연어 처리를 위해서는 문자를 숫자로 수치화해야 한다.        \n",
    "- 국소 표현(Local Representation) = 이산 표현(Discrete Representation)        \n",
    "해당 단어 그 자체만 보고 특정값을 매핑하여 표현\n",
    "- 분산 표현(Distributed Representation) = 연속 표현(Continuous Representation)      \n",
    "해당 단어를 표현하고자 주변을 참고하여 단어를 표현하는 방법.\n",
    "![image.png](attachment:image.png)\n",
    "- 챕터 4: Bag of Words, DTM\n",
    "- 챕터 6: LSA(토픽 모델링)\n",
    "- 챕터 10: Word2Vec, FastText, GloVe"
   ]
  },
  {
   "cell_type": "markdown",
   "id": "5693b745",
   "metadata": {},
   "source": [
    "## 2. Bag of Words(BoW)"
   ]
  },
  {
   "cell_type": "markdown",
   "id": "c8ea2347",
   "metadata": {},
   "source": [
    "### 1) Bag of Words란?\n",
    "단어들의 순서는 전혀 고려하지 않고 출현 빈도(frequency)에만 집중하는 텍스트 데이터의 수치화 표현방법.           \n",
    "주로 어떤 단어가 얼마나 등장했는지를 기준으로 문서가 어떤 성격의 문서인지 판단할 때 쓰인다.     \n",
    "(1) 각 단어에 고유한 정수 인덱스 부여      \n",
    "(2) 각 인덱스 위치에 단어 토큰의 등장 횟수를 기록한 벡터 생성"
   ]
  },
  {
   "cell_type": "markdown",
   "id": "9757ecc6",
   "metadata": {},
   "source": [
    "예) 정부가 발표하는 물가상승률과 소비자가 느끼는 물가상승률은 다르다."
   ]
  },
  {
   "cell_type": "code",
   "execution_count": 1,
   "id": "ddfffe1f",
   "metadata": {},
   "outputs": [],
   "source": [
    "from konlpy.tag import Okt\n",
    "import re\n",
    "okt=Okt()"
   ]
  },
  {
   "cell_type": "code",
   "execution_count": 3,
   "id": "5a303b59",
   "metadata": {},
   "outputs": [
    {
     "name": "stdout",
     "output_type": "stream",
     "text": [
      "{'정부': 0, '가': 1, '발표': 2, '하는': 3, '물가상승률': 4, '과': 5, '소비자': 6, '느끼는': 7, '은': 8, '다르다': 9}\n",
      "[1, 2, 1, 1, 2, 1, 1, 1, 1, 1]\n"
     ]
    }
   ],
   "source": [
    "# 정규표현식을 이용해서 온점 제거\n",
    "token = re.sub(\"(\\.)\", \"\", \"정부가 발표하는 물가상승률과 소비자가 느끼는 물가상승률은 다르다.\")\n",
    "\n",
    "# okt 형태소 분석기를 이용하여 token화\n",
    "token = okt.morphs(token)\n",
    "\n",
    "\n",
    "word2index={}\n",
    "bow=[]\n",
    "for voca in token:\n",
    "    if voca not in word2index.keys():\n",
    "        #word2index에 없는 단어 새로 추가\n",
    "        word2index[voca]=len(word2index) \n",
    "        #insert: 리스트 내 (첫번째 인자)번째 요소에 (두번째 인자)값 추가하기\n",
    "        bow.insert(len(word2index)-1, 1)   # 기본값으로 1\n",
    "        \n",
    "    else:\n",
    "        index=word2index.get(voca)  #voca에 대응되는 dictionary의 value\n",
    "        bow[index]= bow[index]+1 # 해당 위치에 1 더하기 -> 단어 개수 세기\n",
    "        \n",
    "print(word2index) # unique한 토큰들의 index\n",
    "print(bow) # 각 token이 몇번 나오는지"
   ]
  },
  {
   "cell_type": "markdown",
   "id": "a26db5b1",
   "metadata": {},
   "source": [
    "### 2) 사이킷런의 CountVectorizer 클래스로 BoW 만들기"
   ]
  },
  {
   "cell_type": "code",
   "execution_count": 6,
   "id": "a822abff",
   "metadata": {},
   "outputs": [
    {
     "name": "stdout",
     "output_type": "stream",
     "text": [
      "[[1 1 2 1 2 1]]\n",
      "{'you': 4, 'know': 1, 'want': 3, 'your': 5, 'love': 2, 'because': 0}\n"
     ]
    }
   ],
   "source": [
    "from sklearn.feature_extraction.text import CountVectorizer\n",
    "\n",
    "corpus=['you know I want your love. because I love you.']\n",
    "vector=CountVectorizer()\n",
    "print(vector.fit_transform(corpus).toarray()) # 각 단어의 빈도수 기록\n",
    "print(vector.vocabulary_) # 각 단어에 인덱스가 어떻게 부여되어있는지"
   ]
  },
  {
   "cell_type": "markdown",
   "id": "9da17152",
   "metadata": {},
   "source": [
    "- CountVectorizer는 기본적으로 길이가 2 이상인 문자만 토큰으로 인식해서 I는 빠졌다!\n",
    "- 띄어쓰기를 기준으로 단어를 분리하므로, 한국어는 힘들듯하다 (예: '물가상승률과' 와 '물가상승률은' 을 두 단어로 인식함)"
   ]
  },
  {
   "cell_type": "markdown",
   "id": "e5ac9751",
   "metadata": {},
   "source": [
    "### 3) 불용어를 제거한 BoW 만들기"
   ]
  },
  {
   "cell_type": "markdown",
   "id": "2c4deb7e",
   "metadata": {},
   "source": [
    "#### 사용자가 직접 정의한 불용어 사용"
   ]
  },
  {
   "cell_type": "code",
   "execution_count": 7,
   "id": "c9b6c172",
   "metadata": {},
   "outputs": [
    {
     "name": "stdout",
     "output_type": "stream",
     "text": [
      "[[1 1 1 1 1]]\n",
      "{'family': 1, 'important': 2, 'thing': 4, 'it': 3, 'everything': 0}\n"
     ]
    }
   ],
   "source": [
    "text=[\"Family is not an important thing. It's everything.\"]\n",
    "vect=CountVectorizer(stop_words=[\"the\", \"a\", \"an\", \"is\", \"not\"])\n",
    "print(vect.fit_transform(text).toarray())\n",
    "print(vect.vocabulary_)"
   ]
  },
  {
   "cell_type": "markdown",
   "id": "72768650",
   "metadata": {},
   "source": [
    "#### CountVectorizer에서 제공하는 자체 불용어 사용"
   ]
  },
  {
   "cell_type": "code",
   "execution_count": 8,
   "id": "f9b5cb1c",
   "metadata": {},
   "outputs": [
    {
     "name": "stdout",
     "output_type": "stream",
     "text": [
      "[[1 1 1]]\n",
      "{'family': 0, 'important': 1, 'thing': 2}\n"
     ]
    }
   ],
   "source": [
    "text=[\"Family is not an important thing. It's everything.\"]\n",
    "vect=CountVectorizer(stop_words=\"english\")\n",
    "print(vect.fit_transform(text).toarray())\n",
    "print(vect.vocabulary_)"
   ]
  },
  {
   "cell_type": "markdown",
   "id": "0f2b766d",
   "metadata": {},
   "source": [
    "#### NLTK에서 지원하는 불용어 사용"
   ]
  },
  {
   "cell_type": "code",
   "execution_count": 9,
   "id": "fe8ff34e",
   "metadata": {},
   "outputs": [
    {
     "name": "stdout",
     "output_type": "stream",
     "text": [
      "[[1 1 1 1]]\n",
      "{'family': 1, 'important': 2, 'thing': 3, 'everything': 0}\n"
     ]
    }
   ],
   "source": [
    "from nltk.corpus import stopwords\n",
    "\n",
    "text=[\"Family is not an important thing. It's everything.\"]\n",
    "sw = stopwords.words(\"english\")\n",
    "vect = CountVectorizer(stop_words =sw)\n",
    "print(vect.fit_transform(text).toarray()) \n",
    "print(vect.vocabulary_)"
   ]
  },
  {
   "cell_type": "markdown",
   "id": "6e02ec7a",
   "metadata": {},
   "source": [
    "## 3. 문서 단어 행렬(Document-Term Matrix, DTM)"
   ]
  },
  {
   "attachments": {
    "image.png": {
     "image/png": "[encoded data removed]"
    }
   },
   "cell_type": "markdown",
   "id": "1f04f7cc",
   "metadata": {},
   "source": [
    "### 1) DTM의 표기법\n",
    "- 문서 단어 행렬: 다수의 문서에서 등장하는 각 단어들의 빈도를 행렬로 표현한 것.(각 문서에 대한 BoW를 하나의 행렬로 만듦.)\n",
    "![image.png](attachment:image.png)\n",
    "문서들을 서로 비교할 수 있도록 수치화할 수 있다."
   ]
  },
  {
   "cell_type": "markdown",
   "id": "b9b87d42",
   "metadata": {},
   "source": [
    "### 2) DTM의 한계\n",
    "#### (1) 희소 표현(Sparse representation)\n",
    "전체 단어집합의 크기를 차원으로 가지고 대부분의 값이 0 => 공간적 낭비, 계산 리소스 증가        \n",
    "=> 전처리를 통해 단어집합의 크기를 줄이는 과정이 필요함.(구두점, 빈도수가 낮은 단어, 불용어 제거, 어간 및 표제어 추출 등)       \n",
    "#### (2) 단순 빈도수 기반 접근\n",
    "각 문서에는 중요한 단어와 불필요한 단어가 혼재되어 있음.__(이러한 단점을 극복하기 위해 사용하는 것이 TF-IDF!!)__"
   ]
  },
  {
   "cell_type": "markdown",
   "id": "bdee8fee",
   "metadata": {},
   "source": [
    "## 4. TF-IDF (Term Frequency-Inverse Document Frequency)"
   ]
  },
  {
   "attachments": {
    "image-2.png": {
     "image/png": "[encoded data removed]"
    },
    "image.png": {
     "image/png": "[encoded data removed]"
    }
   },
   "cell_type": "markdown",
   "id": "f839da67",
   "metadata": {},
   "source": [
    "### 1) TF-IDF (Term Frequency-Inverse Document Frequency, 단어 빈도-역 문서 빈도)\n",
    "- 단어 빈도와 역 문서 빈도(문서의 빈도에 특정 식을 취함)를 사용하여 DTM 내 각 단어들마다 중요한 정도를 가중치로 주는 방법.     \n",
    "DTM을 만든 후 TF-IDF 가중치를 부여하는 순서로 진행된다.        \n",
    "- 주로 문서의 유사도 구할때, 검색 시스템에서 검색 결과의 중요도를 정할 때, 문서 내에서 특정 단어의 중요도를 구할 때 등에 쓰인다.\n",
    "- TF-IDF는 TF와 IDF를 곱한다는 의미.       \n",
    "문서:d, 단어:t, 문서의 총 개수:n이라고 할 때        \n",
    "    1. tf(d,t): 특정 문서 d에서의 특정 단어 t 등장 횟수.       \n",
    "    DTM에서 각 단어들이 가진 값과 같다.\n",
    "    1. df(t): 특정 단어 t가 등장한 문서의 수.  \n",
    "    등장한 총 횟수랑은 상관없이 등장한 문서의 수만 집계!\n",
    "    1. idf(d,t): df(t)에 반비례하는 수\n",
    "    $idf(d,t)=log(n/(1+df(t)))$              \n",
    "    이때 log는 문서 수 n이 커질 때 IDF값이 기하급수적으로 커지는 것을 막고, 희귀 단어에 엄청난 가중치가 부여되는 것을 방지한다.        \n",
    "    __TF-IDF는 모든 문서에서 자주 등장하는 단어는 중요도가 낮고, 특정 문서에만 자주 등장하는 단어는 중요도가 높다고 판단한다.__\n",
    "          \n",
    "예) 3.의 DTM 예시에 대한 IDF\n",
    "![image.png](attachment:image.png)\n",
    "문서 2개에서 등장한 단어의 경우 가중치가 낮아진다!        \n",
    "            \n",
    "DTM에서 TF를 가져올 수 있으므로, DTM에서 단어별로 IDF값을 곱해준다.\n",
    "![image-2.png](attachment:image-2.png)\n",
    "- 문서2와 문서3의 바나나에 대한 가중치가 다른데, 문서2는 한번 언급하고 3에서는 두번 언급하기 때문에 문서 3에서의 바나나를 더욱 중요한 단어라고 판단하기 때문."
   ]
  },
  {
   "cell_type": "markdown",
   "id": "2725b95d",
   "metadata": {},
   "source": [
    "### 2) TF-IDF 구현"
   ]
  },
  {
   "cell_type": "code",
   "execution_count": 1,
   "id": "457bcf82",
   "metadata": {},
   "outputs": [],
   "source": [
    "import pandas as pd\n",
    "from math import log"
   ]
  },
  {
   "cell_type": "code",
   "execution_count": 2,
   "id": "4cbb1484",
   "metadata": {},
   "outputs": [],
   "source": [
    "# 4개의 문서를 docs에 저장\n",
    "docs = [\n",
    "  '먹고 싶은 사과',\n",
    "  '먹고 싶은 바나나',\n",
    "  '길고 노란 바나나 바나나',\n",
    "  '저는 과일이 좋아요'\n",
    "]\n",
    "\n",
    "vocab = list(set(w for doc in docs for w in doc.split())) # split 디폴트: 띄어쓰기\n",
    "vocab.sort()"
   ]
  },
  {
   "cell_type": "code",
   "execution_count": 3,
   "id": "7a4ac344",
   "metadata": {},
   "outputs": [
    {
     "data": {
      "text/plain": [
       "['과일이', '길고', '노란', '먹고', '바나나', '사과', '싶은', '저는', '좋아요']"
      ]
     },
     "execution_count": 3,
     "metadata": {},
     "output_type": "execute_result"
    }
   ],
   "source": [
    "vocab"
   ]
  },
  {
   "cell_type": "code",
   "execution_count": 6,
   "id": "da2c881a",
   "metadata": {},
   "outputs": [],
   "source": [
    "# tf. idf. tf-idf 값을 구하는 함수 구현\n",
    "N = len(docs)\n",
    "\n",
    "def tf(t,d):\n",
    "    return d.count(t)\n",
    "\n",
    "def idf(t):\n",
    "    df = 0\n",
    "    for doc in docs:\n",
    "        df += t in doc  #doc 안에 있으면 집계\n",
    "    return log(N/(df+1))\n",
    "\n",
    "def tfidf(t,d):\n",
    "    return tf(t,d)*idf(t)"
   ]
  },
  {
   "cell_type": "code",
   "execution_count": 7,
   "id": "451f20b1",
   "metadata": {},
   "outputs": [
    {
     "data": {
      "text/html": [
       "<div>\n",
       "<style scoped>\n",
       "    .dataframe tbody tr th:only-of-type {\n",
       "        vertical-align: middle;\n",
       "    }\n",
       "\n",
       "    .dataframe tbody tr th {\n",
       "        vertical-align: top;\n",
       "    }\n",
       "\n",
       "    .dataframe thead th {\n",
       "        text-align: right;\n",
       "    }\n",
       "</style>\n",
       "<table border=\"1\" class=\"dataframe\">\n",
       "  <thead>\n",
       "    <tr style=\"text-align: right;\">\n",
       "      <th></th>\n",
       "      <th>과일이</th>\n",
       "      <th>길고</th>\n",
       "      <th>노란</th>\n",
       "      <th>먹고</th>\n",
       "      <th>바나나</th>\n",
       "      <th>사과</th>\n",
       "      <th>싶은</th>\n",
       "      <th>저는</th>\n",
       "      <th>좋아요</th>\n",
       "    </tr>\n",
       "  </thead>\n",
       "  <tbody>\n",
       "    <tr>\n",
       "      <th>0</th>\n",
       "      <td>0</td>\n",
       "      <td>0</td>\n",
       "      <td>0</td>\n",
       "      <td>1</td>\n",
       "      <td>0</td>\n",
       "      <td>1</td>\n",
       "      <td>1</td>\n",
       "      <td>0</td>\n",
       "      <td>0</td>\n",
       "    </tr>\n",
       "    <tr>\n",
       "      <th>1</th>\n",
       "      <td>0</td>\n",
       "      <td>0</td>\n",
       "      <td>0</td>\n",
       "      <td>1</td>\n",
       "      <td>1</td>\n",
       "      <td>0</td>\n",
       "      <td>1</td>\n",
       "      <td>0</td>\n",
       "      <td>0</td>\n",
       "    </tr>\n",
       "    <tr>\n",
       "      <th>2</th>\n",
       "      <td>0</td>\n",
       "      <td>1</td>\n",
       "      <td>1</td>\n",
       "      <td>0</td>\n",
       "      <td>2</td>\n",
       "      <td>0</td>\n",
       "      <td>0</td>\n",
       "      <td>0</td>\n",
       "      <td>0</td>\n",
       "    </tr>\n",
       "    <tr>\n",
       "      <th>3</th>\n",
       "      <td>1</td>\n",
       "      <td>0</td>\n",
       "      <td>0</td>\n",
       "      <td>0</td>\n",
       "      <td>0</td>\n",
       "      <td>0</td>\n",
       "      <td>0</td>\n",
       "      <td>1</td>\n",
       "      <td>1</td>\n",
       "    </tr>\n",
       "  </tbody>\n",
       "</table>\n",
       "</div>"
      ],
      "text/plain": [
       "   과일이  길고  노란  먹고  바나나  사과  싶은  저는  좋아요\n",
       "0    0   0   0   1    0   1   1   0    0\n",
       "1    0   0   0   1    1   0   1   0    0\n",
       "2    0   1   1   0    2   0   0   0    0\n",
       "3    1   0   0   0    0   0   0   1    1"
      ]
     },
     "execution_count": 7,
     "metadata": {},
     "output_type": "execute_result"
    }
   ],
   "source": [
    "# tf 구하기 (dtm을 데이터프레임에 저장하여 출력)\n",
    "result=[]\n",
    "for i in range(N):  # 문서마다 수행\n",
    "    result.append([])\n",
    "    d = docs[i]\n",
    "    for j in range(len(vocab)):\n",
    "        t=vocab[j]\n",
    "        result[-1].append(tf(t,d))\n",
    "        \n",
    "tf_ = pd.DataFrame(result, columns=vocab)\n",
    "tf_"
   ]
  },
  {
   "cell_type": "code",
   "execution_count": 8,
   "id": "41e38920",
   "metadata": {},
   "outputs": [
    {
     "data": {
      "text/html": [
       "<div>\n",
       "<style scoped>\n",
       "    .dataframe tbody tr th:only-of-type {\n",
       "        vertical-align: middle;\n",
       "    }\n",
       "\n",
       "    .dataframe tbody tr th {\n",
       "        vertical-align: top;\n",
       "    }\n",
       "\n",
       "    .dataframe thead th {\n",
       "        text-align: right;\n",
       "    }\n",
       "</style>\n",
       "<table border=\"1\" class=\"dataframe\">\n",
       "  <thead>\n",
       "    <tr style=\"text-align: right;\">\n",
       "      <th></th>\n",
       "      <th>IDF</th>\n",
       "    </tr>\n",
       "  </thead>\n",
       "  <tbody>\n",
       "    <tr>\n",
       "      <th>과일이</th>\n",
       "      <td>0.693147</td>\n",
       "    </tr>\n",
       "    <tr>\n",
       "      <th>길고</th>\n",
       "      <td>0.693147</td>\n",
       "    </tr>\n",
       "    <tr>\n",
       "      <th>노란</th>\n",
       "      <td>0.693147</td>\n",
       "    </tr>\n",
       "    <tr>\n",
       "      <th>먹고</th>\n",
       "      <td>0.287682</td>\n",
       "    </tr>\n",
       "    <tr>\n",
       "      <th>바나나</th>\n",
       "      <td>0.287682</td>\n",
       "    </tr>\n",
       "    <tr>\n",
       "      <th>사과</th>\n",
       "      <td>0.693147</td>\n",
       "    </tr>\n",
       "    <tr>\n",
       "      <th>싶은</th>\n",
       "      <td>0.287682</td>\n",
       "    </tr>\n",
       "    <tr>\n",
       "      <th>저는</th>\n",
       "      <td>0.693147</td>\n",
       "    </tr>\n",
       "    <tr>\n",
       "      <th>좋아요</th>\n",
       "      <td>0.693147</td>\n",
       "    </tr>\n",
       "  </tbody>\n",
       "</table>\n",
       "</div>"
      ],
      "text/plain": [
       "          IDF\n",
       "과일이  0.693147\n",
       "길고   0.693147\n",
       "노란   0.693147\n",
       "먹고   0.287682\n",
       "바나나  0.287682\n",
       "사과   0.693147\n",
       "싶은   0.287682\n",
       "저는   0.693147\n",
       "좋아요  0.693147"
      ]
     },
     "execution_count": 8,
     "metadata": {},
     "output_type": "execute_result"
    }
   ],
   "source": [
    "# 각 단어의 idf 구하기\n",
    "result=[]\n",
    "for j in range(len(vocab)):\n",
    "    t=vocab[j]\n",
    "    result.append(idf(t))\n",
    "    \n",
    "idf_ = pd.DataFrame(result, index=vocab, columns=[\"IDF\"])\n",
    "idf_"
   ]
  },
  {
   "cell_type": "code",
   "execution_count": 11,
   "id": "62b2ba71",
   "metadata": {},
   "outputs": [
    {
     "data": {
      "text/html": [
       "<div>\n",
       "<style scoped>\n",
       "    .dataframe tbody tr th:only-of-type {\n",
       "        vertical-align: middle;\n",
       "    }\n",
       "\n",
       "    .dataframe tbody tr th {\n",
       "        vertical-align: top;\n",
       "    }\n",
       "\n",
       "    .dataframe thead th {\n",
       "        text-align: right;\n",
       "    }\n",
       "</style>\n",
       "<table border=\"1\" class=\"dataframe\">\n",
       "  <thead>\n",
       "    <tr style=\"text-align: right;\">\n",
       "      <th></th>\n",
       "      <th>과일이</th>\n",
       "      <th>길고</th>\n",
       "      <th>노란</th>\n",
       "      <th>먹고</th>\n",
       "      <th>바나나</th>\n",
       "      <th>사과</th>\n",
       "      <th>싶은</th>\n",
       "      <th>저는</th>\n",
       "      <th>좋아요</th>\n",
       "    </tr>\n",
       "  </thead>\n",
       "  <tbody>\n",
       "    <tr>\n",
       "      <th>0</th>\n",
       "      <td>0.000000</td>\n",
       "      <td>0.000000</td>\n",
       "      <td>0.000000</td>\n",
       "      <td>0.287682</td>\n",
       "      <td>0.000000</td>\n",
       "      <td>0.693147</td>\n",
       "      <td>0.287682</td>\n",
       "      <td>0.000000</td>\n",
       "      <td>0.000000</td>\n",
       "    </tr>\n",
       "    <tr>\n",
       "      <th>1</th>\n",
       "      <td>0.000000</td>\n",
       "      <td>0.000000</td>\n",
       "      <td>0.000000</td>\n",
       "      <td>0.287682</td>\n",
       "      <td>0.287682</td>\n",
       "      <td>0.000000</td>\n",
       "      <td>0.287682</td>\n",
       "      <td>0.000000</td>\n",
       "      <td>0.000000</td>\n",
       "    </tr>\n",
       "    <tr>\n",
       "      <th>2</th>\n",
       "      <td>0.000000</td>\n",
       "      <td>0.693147</td>\n",
       "      <td>0.693147</td>\n",
       "      <td>0.000000</td>\n",
       "      <td>0.575364</td>\n",
       "      <td>0.000000</td>\n",
       "      <td>0.000000</td>\n",
       "      <td>0.000000</td>\n",
       "      <td>0.000000</td>\n",
       "    </tr>\n",
       "    <tr>\n",
       "      <th>3</th>\n",
       "      <td>0.693147</td>\n",
       "      <td>0.000000</td>\n",
       "      <td>0.000000</td>\n",
       "      <td>0.000000</td>\n",
       "      <td>0.000000</td>\n",
       "      <td>0.000000</td>\n",
       "      <td>0.000000</td>\n",
       "      <td>0.693147</td>\n",
       "      <td>0.693147</td>\n",
       "    </tr>\n",
       "  </tbody>\n",
       "</table>\n",
       "</div>"
      ],
      "text/plain": [
       "        과일이        길고        노란        먹고       바나나        사과        싶은  \\\n",
       "0  0.000000  0.000000  0.000000  0.287682  0.000000  0.693147  0.287682   \n",
       "1  0.000000  0.000000  0.000000  0.287682  0.287682  0.000000  0.287682   \n",
       "2  0.000000  0.693147  0.693147  0.000000  0.575364  0.000000  0.000000   \n",
       "3  0.693147  0.000000  0.000000  0.000000  0.000000  0.000000  0.000000   \n",
       "\n",
       "         저는       좋아요  \n",
       "0  0.000000  0.000000  \n",
       "1  0.000000  0.000000  \n",
       "2  0.000000  0.000000  \n",
       "3  0.693147  0.693147  "
      ]
     },
     "execution_count": 11,
     "metadata": {},
     "output_type": "execute_result"
    }
   ],
   "source": [
    "# if-idf 행렬 출력\n",
    "result=[]\n",
    "for i in range(N):\n",
    "    result.append([])\n",
    "    d=docs[i]\n",
    "    for j in range(len(vocab)):\n",
    "        t=vocab[j]\n",
    "        result[-1].append(tfidf(t,d))\n",
    "        \n",
    "tfidf_ = pd.DataFrame(result, columns=vocab)\n",
    "tfidf_"
   ]
  },
  {
   "cell_type": "markdown",
   "id": "c6830502",
   "metadata": {},
   "source": [
    "위의 식을 바탕으로 했을 때 문제점이 존재하기 때문에 실제 tf-idf 구현을 제공하는 패키지에서는 기본 식에서 조정된 식을 많이 사용함.      \n",
    "예) 전체 문서 수가 4개인데 df(t)의 값이 3인 경우, log항의 분자 분모값이 같아져서 1이 되고 idf(d,t)이 0이 된다."
   ]
  },
  {
   "cell_type": "markdown",
   "id": "ca77cc64",
   "metadata": {},
   "source": [
    "### 3) scikit learn을 이용한 DTM과 df-idf 실습\n",
    "위에서 말한 문제점을 극복하기 위해,       \n",
    "$idf(d,t)=log(n/(df(t)+1))+1$ 로 계산해서 log항의 값이 0이 되더라도 idf값이 최소 1 이상의 값을 갖게 한다."
   ]
  },
  {
   "cell_type": "code",
   "execution_count": 12,
   "id": "44d9a37b",
   "metadata": {},
   "outputs": [
    {
     "name": "stdout",
     "output_type": "stream",
     "text": [
      "[[0 1 0 1 0 1 0 1 1]\n",
      " [0 0 1 0 0 0 0 1 0]\n",
      " [1 0 0 0 1 0 1 0 0]]\n",
      "{'you': 7, 'know': 1, 'want': 5, 'your': 8, 'love': 3, 'like': 2, 'what': 6, 'should': 4, 'do': 0}\n"
     ]
    }
   ],
   "source": [
    "# CountVectorizer를 이용하여 DTM 만들기\n",
    "from sklearn.feature_extraction.text import CountVectorizer\n",
    "\n",
    "corpus = [\n",
    "    'you know I want your love',\n",
    "    'I like you',\n",
    "    'what should I do ',    \n",
    "]\n",
    "\n",
    "vector = CountVectorizer()\n",
    "print(vector.fit_transform(corpus).toarray()) #corpus로부터 각 빈도수 기록\n",
    "print(vector.vocabulary_) # 각 단어의 인덱스"
   ]
  },
  {
   "cell_type": "markdown",
   "id": "750d21ea",
   "metadata": {},
   "source": [
    "=> 첫번째 열은 0번째 인덱스를 가진 do에 해당."
   ]
  },
  {
   "cell_type": "markdown",
   "id": "01234d74",
   "metadata": {},
   "source": [
    "#### TfidfVectorizer 사용: L2 정규화를 이용해서 값을 조정한다."
   ]
  },
  {
   "cell_type": "code",
   "execution_count": 13,
   "id": "8afe771e",
   "metadata": {},
   "outputs": [
    {
     "name": "stdout",
     "output_type": "stream",
     "text": [
      "[[0.         0.46735098 0.         0.46735098 0.         0.46735098\n",
      "  0.         0.35543247 0.46735098]\n",
      " [0.         0.         0.79596054 0.         0.         0.\n",
      "  0.         0.60534851 0.        ]\n",
      " [0.57735027 0.         0.         0.         0.57735027 0.\n",
      "  0.57735027 0.         0.        ]]\n",
      "{'you': 7, 'know': 1, 'want': 5, 'your': 8, 'love': 3, 'like': 2, 'what': 6, 'should': 4, 'do': 0}\n"
     ]
    }
   ],
   "source": [
    "from sklearn.feature_extraction.text import TfidfVectorizer\n",
    "\n",
    "corpus = [\n",
    "    'you know I want your love',\n",
    "    'I like you',\n",
    "    'what should I do ',    \n",
    "]\n",
    "\n",
    "tfidfv = TfidfVectorizer().fit(corpus)\n",
    "print(tfidfv.transform(corpus).toarray())\n",
    "print(tfidfv.vocabulary_)"
   ]
  }
 ],
 "metadata": {
  "kernelspec": {
   "display_name": "Python 3 (ipykernel)",
   "language": "python",
   "name": "python3"
  },
  "language_info": {
   "codemirror_mode": {
    "name": "ipython",
    "version": 3
   },
   "file_extension": ".py",
   "mimetype": "text/x-python",
   "name": "python",
   "nbconvert_exporter": "python",
   "pygments_lexer": "ipython3",
   "version": "3.8.10"
  }
 },
 "nbformat": 4,
 "nbformat_minor": 5
}
