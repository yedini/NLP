{
 "cells": [
  {
   "cell_type": "markdown",
   "id": "155e22b6",
   "metadata": {},
   "source": [
    "## 토큰화(Tokenization)\n",
    "주어진 코퍼스(corpus)에서 토큰이라 불리는 단위로 나누는 작업.     \n",
    "토큰의 단위는 상황에 따라 다른데 보통 의미를 갖는 단위로 토큰을 정의한다."
   ]
  },
  {
   "cell_type": "markdown",
   "id": "8b1340eb",
   "metadata": {},
   "source": [
    "#### 1. Word tokenization\n",
    "토큰의 기준을 단어로 하는 경우. 여기서 단어는 단어 단위 외에도 단어구, 의미를 갖는 문자열로 간주되기도 한다        \n",
    "토큰화 작업은 단순히 구두점이나 특수문자를 전부 제거하는 작업으로만 해결되지 않음.(전부 제거하면 의미를 잃어버리는 경우도 발생함)     \n",
    "게다가 한국어의 경우 띄어쓰기만으로는 단어 토큰을 구분하기 어렵다."
   ]
  },
  {
   "cell_type": "markdown",
   "id": "9537f43c",
   "metadata": {},
   "source": [
    "#### 2. 토큰화 중 생기는 선택의 순간\n",
    "예시) '가 들어가 있는 단어를 어떻게 토큰으로 분류해야 할까     \n",
    "Don't be fooled by the dark sounding name, Mr. Jone's Orphanage is as cheery as cheery goes for a pastry shop.    \n",
    "위 문장에서 Don't와 Jone's는 어떻게 토큰화할 수 있을까?     \n",
    "=> 영어 corpus tokenizaion에 사용하는 nltk 패키지로 '를 처리해보자."
   ]
  },
  {
   "cell_type": "markdown",
   "id": "d165d2a2",
   "metadata": {},
   "source": [
    "- word_tokenize 사용"
   ]
  },
  {
   "cell_type": "code",
   "execution_count": 1,
   "id": "7e92a0b6",
   "metadata": {},
   "outputs": [
    {
     "name": "stdout",
     "output_type": "stream",
     "text": [
      "['Do', \"n't\", 'be', 'fooled', 'by', 'the', 'dark', 'sounding', 'name', ',', 'Mr.', 'Jone', \"'s\", 'Orphanage', 'is', 'as', 'cheery', 'as', 'cheery', 'goes', 'for', 'a', 'pastry', 'shop', '.']\n"
     ]
    }
   ],
   "source": [
    "from nltk.tokenize import word_tokenize\n",
    "print(word_tokenize(\"Don't be fooled by the dark sounding name, Mr. Jone's Orphanage is as cheery as cheery goes for a pastry shop.\"))"
   ]
  },
  {
   "cell_type": "markdown",
   "id": "def78681",
   "metadata": {},
   "source": [
    "- wordPunctTokenizer => 구두점을 별도로 분류하므로, work_tokenize와 달리 don't를 don , ', t로 분류하고 Jone's를 Jone, ', s로 분류함"
   ]
  },
  {
   "cell_type": "code",
   "execution_count": 2,
   "id": "c87104b9",
   "metadata": {},
   "outputs": [
    {
     "name": "stdout",
     "output_type": "stream",
     "text": [
      "['Don', \"'\", 't', 'be', 'fooled', 'by', 'the', 'dark', 'sounding', 'name', ',', 'Mr', '.', 'Jone', \"'\", 's', 'Orphanage', 'is', 'as', 'cheery', 'as', 'cheery', 'goes', 'for', 'a', 'pastry', 'shop', '.']\n"
     ]
    }
   ],
   "source": [
    "from nltk.tokenize import WordPunctTokenizer\n",
    "print(WordPunctTokenizer().tokenize(\"Don't be fooled by the dark sounding name, Mr. Jone's Orphanage is as cheery as cheery goes for a pastry shop.\"))"
   ]
  },
  {
   "cell_type": "markdown",
   "id": "50e1c394",
   "metadata": {},
   "source": [
    "- keras의 text_to_word_sequence: 기본적으로 모든 알파벳을 소문자로 바꾸고, 마침표나 콤마 느낌표 등의 구두점을 제거함. 그러나 '는 보존한다."
   ]
  },
  {
   "cell_type": "code",
   "execution_count": 3,
   "id": "183b6f9c",
   "metadata": {},
   "outputs": [
    {
     "name": "stdout",
     "output_type": "stream",
     "text": [
      "[\"don't\", 'be', 'fooled', 'by', 'the', 'dark', 'sounding', 'name', 'mr', \"jone's\", 'orphanage', 'is', 'as', 'cheery', 'as', 'cheery', 'goes', 'for', 'a', 'pastry', 'shop']\n"
     ]
    }
   ],
   "source": [
    "from tensorflow.keras.preprocessing.text import text_to_word_sequence\n",
    "print(text_to_word_sequence(\"Don't be fooled by the dark sounding name, Mr. Jone's Orphanage is as cheery as cheery goes for a pastry shop.\"))"
   ]
  },
  {
   "cell_type": "markdown",
   "id": "c921e7a6",
   "metadata": {},
   "source": [
    "#### 3. 토큰화에서 고려해야할 사항\n",
    "- 구두점이나 특수 문자를 단순히 제외해서는 안됨\n",
    "- 줄임말 또는 단어 내 띄어쓰기"
   ]
  },
  {
   "cell_type": "markdown",
   "id": "47a723b1",
   "metadata": {},
   "source": [
    "예) Penn Treebank Tokenization: 표준으로 쓰이고 있는 토큰화 방법 중 하나     \n",
    "- 규칙 1. 하이픈(-)으로 구성된 단어는 하나로 유지한다.\n",
    "- 규칙 2. dosen't과 같이 아포스트로피(')로 '접어'가 함께하는 단어는 분리한다."
   ]
  },
  {
   "cell_type": "code",
   "execution_count": 4,
   "id": "9096d2ab",
   "metadata": {},
   "outputs": [
    {
     "name": "stdout",
     "output_type": "stream",
     "text": [
      "['Starting', 'a', 'home-based', 'restaurant', 'may', 'be', 'an', 'ideal.', 'it', 'does', \"n't\", 'have', 'a', 'food', 'chain', 'or', 'restaurant', 'of', 'their', 'own', '.']\n"
     ]
    }
   ],
   "source": [
    "from nltk.tokenize import TreebankWordTokenizer\n",
    "tokenizer=TreebankWordTokenizer()\n",
    "text=\"Starting a home-based restaurant may be an ideal. it doesn't have a food chain or restaurant of their own.\"\n",
    "print(tokenizer.tokenize(text))"
   ]
  },
  {
   "cell_type": "markdown",
   "id": "c45ae286",
   "metadata": {},
   "source": [
    "-> home-base는 규칙1에 따라 하나로 취급되고, dosen't의 경우 규칙2에 따라 dose와 n't로 분리한다."
   ]
  },
  {
   "cell_type": "markdown",
   "id": "43047fd5",
   "metadata": {},
   "source": [
    "#### 4. 문장 토큰화: 토큰의 단위가 문장일 때\n",
    "코퍼스가 문장 단위로 구분되어있지 않는 상태일 때 문장 토큰화가 필요함.        \n",
    "문장의 중간에 마침표가 들어가는 경우가 있기 때문에 단순이 마침표 등으로 문장을 토큰화하기는 힘들다.       \n",
    "예) IP 192.168.56.31 서버에 들어가서 로그 파일 저장해서 ukairia777@gmail.com로 결과 좀 보내줘. 그러고나서 점심 먹으러 가자.        \n",
    "         \n",
    "따라서 어떤 국적의 언어인지, 코퍼스 내에서 특수문자들이 어떻게 사용되고 있는지에 따라 직접 규칙을 정의해볼 수 있다."
   ]
  },
  {
   "cell_type": "code",
   "execution_count": 5,
   "id": "5f97c9a9",
   "metadata": {},
   "outputs": [
    {
     "name": "stdout",
     "output_type": "stream",
     "text": [
      "['His barber kept his word.', 'But keeping such a huge secret to himself was driving him crazy.', 'Finally, the barber went up a mountain and almost to the edge of a cliff.', 'He dug a hole in the midst of some reeds.', 'He looked about, to make sure no one was near.']\n"
     ]
    }
   ],
   "source": [
    "from nltk.tokenize import sent_tokenize\n",
    "text=\"His barber kept his word. But keeping such a huge secret to himself was driving him crazy. Finally, the barber went up a mountain and almost to the edge of a cliff. He dug a hole in the midst of some reeds. He looked about, to make sure no one was near.\"\n",
    "print(sent_tokenize(text))"
   ]
  },
  {
   "cell_type": "markdown",
   "id": "f31f6bc0",
   "metadata": {},
   "source": [
    "- 문장 중간에 마침표가 들어가는 경우"
   ]
  },
  {
   "cell_type": "code",
   "execution_count": 6,
   "id": "1f943f12",
   "metadata": {},
   "outputs": [
    {
     "name": "stdout",
     "output_type": "stream",
     "text": [
      "['I am actively looking for Ph.D. students.', 'and you are a Ph.D student.']\n"
     ]
    }
   ],
   "source": [
    "text=\"I am actively looking for Ph.D. students. and you are a Ph.D student.\"\n",
    "print(sent_tokenize(text))"
   ]
  },
  {
   "cell_type": "markdown",
   "id": "9bda926d",
   "metadata": {},
   "source": [
    "nltk에서는 단순히 마침표로 문장을 구분하지 않음 => Ph.D를 문장 내의 단어로 인식해서 성공적으로 인식한다!"
   ]
  },
  {
   "cell_type": "markdown",
   "id": "e3116821",
   "metadata": {},
   "source": [
    "*문장토큰화에서 마침표 처리를 위해, 입력에 따라 두개의 클래스로 분류하는 이진분류기를 사용하기도 한다.      \n",
    "이때 두개의 클래스: 마침표가 단어의 일부분(약어로 쓰임) / 마침표가 문장의 구분자인 경우.     \n",
    "이진 분류기는 임의의 규칙을 함수로 코딩하거나, 머신러닝으로 분류기를 구현함."
   ]
  },
  {
   "cell_type": "markdown",
   "id": "3f02cd66",
   "metadata": {},
   "source": [
    "- 한국어 문장 토큰화 도구 : KSS (Korean Sentence Splitter)"
   ]
  },
  {
   "cell_type": "code",
   "execution_count": 7,
   "id": "128c18ed",
   "metadata": {},
   "outputs": [
    {
     "name": "stdout",
     "output_type": "stream",
     "text": [
      "Collecting kssNote: you may need to restart the kernel to use updated packages.\n",
      "  Downloading kss-2.5.1-py3-none-any.whl (65 kB)\n",
      "Installing collected packages: kss\n",
      "Successfully installed kss-2.5.1\n",
      "\n"
     ]
    }
   ],
   "source": [
    "#pip install kss"
   ]
  },
  {
   "cell_type": "code",
   "execution_count": 8,
   "id": "d2e117bd",
   "metadata": {},
   "outputs": [
    {
     "name": "stdout",
     "output_type": "stream",
     "text": [
      "['딥 러닝 자연어 처리가 재미있기는 합니다.', '그런데 문제는 영어보다 한국어로 할 때 너무 어려워요.', '농담아니에요.', '이제 해보면 알걸요?']\n"
     ]
    }
   ],
   "source": [
    "import kss\n",
    "text='딥 러닝 자연어 처리가 재미있기는 합니다. 그런데 문제는 영어보다 한국어로 할 때 너무 어려워요. 농담아니에요. 이제 해보면 알걸요?'\n",
    "print(kss.split_sentences(text))"
   ]
  },
  {
   "cell_type": "markdown",
   "id": "698f4879",
   "metadata": {},
   "source": [
    "영어의 경우 단어 단위로 띄어쓰기가 이루어지지만,     \n",
    "한국어의 경우 띄어쓰기 단위는 '어절'임. 어절 토큰화는 단어 토큰화와 다르기 때문에 한국어 NLP에서는 지양되고 있다.          \n",
    "             \n",
    "한국어NLP가 어려운 이유      \n",
    "1) 한국어는 교착어임: 조사라는게 존재해서 단어 하나에 여러 조사가 띄어쓰기 없이 붙는다. => 한국어 NLP에서 조사는 분리해줘야 함.         \n",
    "=> 형태소의 개념에 대한이해 필요. (형태소: 뜻을 가진 가장 작은 말의 단위)         \n",
    "            \n",
    "*형태소           \n",
    "- 자립 형태소: 접사, 어미, 조사와 상관없이 자립하여 사용할 수 있는 형태소. 그 자체로 단어가 됨 -> 체언(명사,대명사,수사), 수식언(관형사,부사), 감탄사 등      \n",
    "- 의존 형태소: 다른 형태소와 결합하여 사용되는 형태소. 접사, 어미, 조사, 어간 등\n",
    "               \n",
    "               \n",
    "2) 한국어는 띄어쓰기가 영어보다 잘 지켜지지 않는다: 띄어쓰기가 지켜지지 않아도 글을 쉽게 이해할 수 있음."
   ]
  },
  {
   "cell_type": "markdown",
   "id": "b21e8805",
   "metadata": {},
   "source": [
    "#### 5. 품사 태깅(Part-of-speech tagging)\n",
    "같은 표기의 단어라도 품사에 따라 단어의 의미가 달라지기도 함(예: fly는 동사로 날다, 명사로 파리)        \n",
    "따라서 단어 토큰화 과정에서 각 단어가 어떤 품사로 쓰였는지 구분하기도 하는데, 이 작업을 __품사 태깅__이라고 한다."
   ]
  },
  {
   "cell_type": "markdown",
   "id": "ee3b5dee",
   "metadata": {},
   "source": [
    "- NLTK: 영어 코퍼스에 Penn Treebank POS Tage라는 기준을 사용하여 품사 태깅을 한다."
   ]
  },
  {
   "cell_type": "code",
   "execution_count": 12,
   "id": "0360fa15",
   "metadata": {},
   "outputs": [
    {
     "name": "stdout",
     "output_type": "stream",
     "text": [
      "['I', 'am', 'actively', 'looking', 'for', 'Ph.D.', 'students', '.', 'and', 'you', 'are', 'a', 'Ph.D.', 'student', '.']\n"
     ]
    }
   ],
   "source": [
    "text=\"I am actively looking for Ph.D. students. and you are a Ph.D. student.\"\n",
    "print(word_tokenize(text))"
   ]
  },
  {
   "cell_type": "code",
   "execution_count": 13,
   "id": "86d3ef5c",
   "metadata": {},
   "outputs": [
    {
     "data": {
      "text/plain": [
       "[('I', 'PRP'),\n",
       " ('am', 'VBP'),\n",
       " ('actively', 'RB'),\n",
       " ('looking', 'VBG'),\n",
       " ('for', 'IN'),\n",
       " ('Ph.D.', 'NNP'),\n",
       " ('students', 'NNS'),\n",
       " ('.', '.'),\n",
       " ('and', 'CC'),\n",
       " ('you', 'PRP'),\n",
       " ('are', 'VBP'),\n",
       " ('a', 'DT'),\n",
       " ('Ph.D.', 'NNP'),\n",
       " ('student', 'NN'),\n",
       " ('.', '.')]"
      ]
     },
     "execution_count": 13,
     "metadata": {},
     "output_type": "execute_result"
    }
   ],
   "source": [
    "from nltk.tag import pos_tag\n",
    "\n",
    "x=word_tokenize(text)\n",
    "pos_tag(x)"
   ]
  },
  {
   "cell_type": "markdown",
   "id": "10d0bc4f",
   "metadata": {},
   "source": [
    "PRP: 인칭대명사, VBP: 동사, RB: 부사, VBG: 현재부사, IN: 전치사, NNP: 고유명사, NNS: 복수형명사, CC: 접속사, DT: 관사"
   ]
  },
  {
   "cell_type": "markdown",
   "id": "f4f9daa7",
   "metadata": {},
   "source": [
    "- 한국어 자연어 처리: KoNLPy 활용.        \n",
    "KoNLPy를 통해 Okt(open korea text. 이전에 Twitter라는 이름으로 많이 알려짐), 메캅(Mecab), 코모란(Komoran), 한나눔(Hannanum), 꼬꼬마(Kkma)라는 형태소 분석기들을 사용할 수 있음. 상황에 따라 적절한 분석기를 사용하자!                 \n",
    "              \n",
    "한국어 NLP에서 형태소 분석기는 단어 토큰화가 아니라 형태소 토큰화를 수행하는 것!"
   ]
  },
  {
   "cell_type": "markdown",
   "id": "75edf07d",
   "metadata": {},
   "source": [
    "- Okt 형태소 분석기"
   ]
  },
  {
   "cell_type": "code",
   "execution_count": 1,
   "id": "1144f512",
   "metadata": {
    "scrolled": true
   },
   "outputs": [
    {
     "name": "stdout",
     "output_type": "stream",
     "text": [
      "['열심히', '코딩', '한', '당신', ',', '연휴', '에는', '여행', '을', '가봐요']\n"
     ]
    }
   ],
   "source": [
    "# morphs: 형태소 추출\n",
    "from konlpy.tag import Okt\n",
    "okt=Okt()\n",
    "print(okt.morphs(\"열심히 코딩한 당신, 연휴에는 여행을 가봐요\"))"
   ]
  },
  {
   "cell_type": "code",
   "execution_count": 2,
   "id": "c1a95f82",
   "metadata": {},
   "outputs": [
    {
     "name": "stdout",
     "output_type": "stream",
     "text": [
      "[('열심히', 'Adverb'), ('코딩', 'Noun'), ('한', 'Josa'), ('당신', 'Noun'), (',', 'Punctuation'), ('연휴', 'Noun'), ('에는', 'Josa'), ('여행', 'Noun'), ('을', 'Josa'), ('가봐요', 'Verb')]\n"
     ]
    }
   ],
   "source": [
    "# pos: 품사 태깅\n",
    "print(okt.pos(\"열심히 코딩한 당신, 연휴에는 여행을 가봐요\"))"
   ]
  },
  {
   "cell_type": "code",
   "execution_count": 3,
   "id": "4ba1e917",
   "metadata": {},
   "outputs": [
    {
     "name": "stdout",
     "output_type": "stream",
     "text": [
      "['코딩', '당신', '연휴', '여행']\n"
     ]
    }
   ],
   "source": [
    "# nouns: 명사 추출\n",
    "print(okt.nouns(\"열심히 코딩한 당신, 연휴에는 여행을 가봐요\"))"
   ]
  },
  {
   "cell_type": "markdown",
   "id": "e2c5d83e",
   "metadata": {},
   "source": [
    "- 꼬꼬마 형태소 분석기"
   ]
  },
  {
   "cell_type": "code",
   "execution_count": 4,
   "id": "3402d7c1",
   "metadata": {},
   "outputs": [
    {
     "name": "stdout",
     "output_type": "stream",
     "text": [
      "['열심히', '코딩', '하', 'ㄴ', '당신', ',', '연휴', '에', '는', '여행', '을', '가보', '아요']\n"
     ]
    }
   ],
   "source": [
    "from konlpy.tag import Kkma\n",
    "kkma=Kkma()\n",
    "print(kkma.morphs(\"열심히 코딩한 당신, 연휴에는 여행을 가봐요\"))"
   ]
  },
  {
   "cell_type": "code",
   "execution_count": 5,
   "id": "7775dd9c",
   "metadata": {},
   "outputs": [
    {
     "name": "stdout",
     "output_type": "stream",
     "text": [
      "[('열심히', 'MAG'), ('코딩', 'NNG'), ('하', 'XSV'), ('ㄴ', 'ETD'), ('당신', 'NP'), (',', 'SP'), ('연휴', 'NNG'), ('에', 'JKM'), ('는', 'JX'), ('여행', 'NNG'), ('을', 'JKO'), ('가보', 'VV'), ('아요', 'EFN')]\n"
     ]
    }
   ],
   "source": [
    "print(kkma.pos(\"열심히 코딩한 당신, 연휴에는 여행을 가봐요\"))"
   ]
  },
  {
   "cell_type": "code",
   "execution_count": 6,
   "id": "c6055936",
   "metadata": {},
   "outputs": [
    {
     "name": "stdout",
     "output_type": "stream",
     "text": [
      "['코딩', '당신', '연휴', '여행']\n"
     ]
    }
   ],
   "source": [
    "print(kkma.nouns(\"열심히 코딩한 당신, 연휴에는 여행을 가봐요\"))"
   ]
  },
  {
   "cell_type": "markdown",
   "id": "68a13b45",
   "metadata": {},
   "source": [
    "*한국어 형태소 분석기 성능 비교        \n",
    "https://iostream.tistory.com/144\n",
    "http://www.engear.net/wp/%ED%95%9C%EA%B8%80-%ED%98%95%ED%83%9C%EC%86%8C-%EB%B6%84%EC%84%9D%EA%B8%B0-%EB%B9%84%EA%B5%90/"
   ]
  },
  {
   "cell_type": "markdown",
   "id": "c6bcdc92",
   "metadata": {},
   "source": [
    "## 정제(Cleaning)와 정규화(Normalization)\n",
    "- 정제: 코퍼스로부터 노이즈 데이터를 제거\n",
    "- 정규화: 표현 방법이 다른 단어들을 통합시켜 같은 단어로 만들어줌."
   ]
  },
  {
   "cell_type": "markdown",
   "id": "8f2dfccf",
   "metadata": {},
   "source": [
    "1) 표기가 다른 단어들의 통합 - 필요에 따라 직접 코딩을 통해 구현         \n",
    "2) 대,소문자 통합 - 주로 소문자로 통합하는 방법이 많이 쓰임         \n",
    "3) 불필요한 단어 제거 - 등장 빈도가 적은 단어, 길이가 짧은 단어(영어권 언어에 주로 효과적! 한국어는 짧아도 중요한 경우 많음) 등"
   ]
  },
  {
   "cell_type": "code",
   "execution_count": 8,
   "id": "74ce61ce",
   "metadata": {},
   "outputs": [
    {
     "name": "stdout",
     "output_type": "stream",
     "text": [
      " was wondering anyone out there could enlighten this car.\n"
     ]
    }
   ],
   "source": [
    "#길이가 1~2인 단어들을 정규 표현식을 이용하여 삭제\n",
    "import re\n",
    "text = \"I was wondering if anyone out there could enlighten me on this car.\"\n",
    "shortword = re.compile(r'\\W*\\b\\w{1,2}\\b')\n",
    "print(shortword.sub('', text))"
   ]
  },
  {
   "cell_type": "markdown",
   "id": "fb2c8efa",
   "metadata": {},
   "source": [
    "*정규표현식.... 뒤에서 자세히 배우자"
   ]
  },
  {
   "cell_type": "markdown",
   "id": "1985f057",
   "metadata": {},
   "source": [
    "## 표제어 추출(Lemmatization)\n",
    "- 표제어(Lemma): 기본 사전형 단어        \n",
    "표제어 추출: 단어들로부터 표제어를 찾아가는 과정. 예)am, are, is 모두 표제어 be\n",
    "- 표제어 추출을 위해 코퍼스를 형태소의 두 종류인 어간과 접사로 분리하는 과정이 필요함.(-> 형태학적 파싱이라고 한다.)           \n",
    "*어간(stem): 단어의 핵심 부분 / 접사(affix): 단어에 추가적인 의미를 주는 부분.   \n",
    "예) cats: cat(어간) + -s (접사)        \n",
    "- 추출시 문맥을 고려하여 해당 단어의 품사 정보(POS 태그)를 보존한다(뒤에 나올 어간추출과의 차이점)"
   ]
  },
  {
   "cell_type": "markdown",
   "id": "cf30dfb4",
   "metadata": {},
   "source": [
    "- NLKT에서의 표제어 추출: WordNetLemmatizer"
   ]
  },
  {
   "cell_type": "code",
   "execution_count": 9,
   "id": "c54b1cf4",
   "metadata": {},
   "outputs": [
    {
     "name": "stdout",
     "output_type": "stream",
     "text": [
      "['policy', 'doing', 'organization', 'have', 'going', 'love', 'life', 'fly', 'dy', 'watched', 'ha', 'starting']\n"
     ]
    }
   ],
   "source": [
    "from nltk.stem import WordNetLemmatizer\n",
    "n=WordNetLemmatizer()\n",
    "words=['policy', 'doing', 'organization', 'have', 'going', 'love', 'lives', 'fly', 'dies', 'watched', 'has', 'starting']\n",
    "print([n.lemmatize(w) for w in words])"
   ]
  },
  {
   "cell_type": "markdown",
   "id": "6b14c21c",
   "metadata": {},
   "source": [
    "적절하지 못한 단어들이 출력됨(dy, ha 등)-> Lemmatizer가 본래 단어의 품사 정보를 알아야 정확한 결과를 얻을 수 있기 때문"
   ]
  },
  {
   "cell_type": "code",
   "execution_count": 10,
   "id": "c791f388",
   "metadata": {},
   "outputs": [
    {
     "data": {
      "text/plain": [
       "'die'"
      ]
     },
     "execution_count": 10,
     "metadata": {},
     "output_type": "execute_result"
    }
   ],
   "source": [
    "n.lemmatize('dies', 'v')"
   ]
  },
  {
   "cell_type": "code",
   "execution_count": 11,
   "id": "42f28ee8",
   "metadata": {},
   "outputs": [
    {
     "data": {
      "text/plain": [
       "'watch'"
      ]
     },
     "execution_count": 11,
     "metadata": {},
     "output_type": "execute_result"
    }
   ],
   "source": [
    "n.lemmatize('watched', 'v')"
   ]
  },
  {
   "cell_type": "code",
   "execution_count": 12,
   "id": "5f586771",
   "metadata": {
    "scrolled": true
   },
   "outputs": [
    {
     "data": {
      "text/plain": [
       "'have'"
      ]
     },
     "execution_count": 12,
     "metadata": {},
     "output_type": "execute_result"
    }
   ],
   "source": [
    "n.lemmatize('has', 'v')"
   ]
  },
  {
   "cell_type": "markdown",
   "id": "31b9432e",
   "metadata": {},
   "source": [
    "## 어간 추출(Stemming)\n",
    "어간을 추출하는 작업. 정해진 규칙에 따라 단어의 의미를 자르기 때문에 어간 추출 결과가 사전에 존재하지 않을 수도 있다.  "
   ]
  },
  {
   "cell_type": "markdown",
   "id": "438e8d67",
   "metadata": {},
   "source": [
    "- 예: 포터 알고리즘(Porter Algorithm): 영어 어간추출 중 가장 정확도가 높은 편."
   ]
  },
  {
   "cell_type": "code",
   "execution_count": 1,
   "id": "0cdf17ec",
   "metadata": {},
   "outputs": [
    {
     "name": "stdout",
     "output_type": "stream",
     "text": [
      "['This', 'was', 'not', 'the', 'map', 'we', 'found', 'in', 'Billy', 'Bones', \"'s\", 'chest', ',', 'but', 'an', 'accurate', 'copy', ',', 'complete', 'in', 'all', 'things', '--', 'names', 'and', 'heights', 'and', 'soundings', '--', 'with', 'the', 'single', 'exception', 'of', 'the', 'red', 'crosses', 'and', 'the', 'written', 'notes', '.']\n"
     ]
    }
   ],
   "source": [
    "from nltk.stem import PorterStemmer\n",
    "from nltk.tokenize import word_tokenize\n",
    "\n",
    "s=PorterStemmer()\n",
    "text=\"This was not the map we found in Billy Bones's chest, but an accurate copy, complete in all things--names and heights and soundings--with the single exception of the red crosses and the written notes.\"\n",
    "words=word_tokenize(text)\n",
    "print(words)"
   ]
  },
  {
   "cell_type": "code",
   "execution_count": 2,
   "id": "388d5486",
   "metadata": {},
   "outputs": [
    {
     "name": "stdout",
     "output_type": "stream",
     "text": [
      "['thi', 'wa', 'not', 'the', 'map', 'we', 'found', 'in', 'billi', 'bone', \"'s\", 'chest', ',', 'but', 'an', 'accur', 'copi', ',', 'complet', 'in', 'all', 'thing', '--', 'name', 'and', 'height', 'and', 'sound', '--', 'with', 'the', 'singl', 'except', 'of', 'the', 'red', 'cross', 'and', 'the', 'written', 'note', '.']\n"
     ]
    }
   ],
   "source": [
    "print([s.stem(w) for w in words])"
   ]
  },
  {
   "cell_type": "code",
   "execution_count": 3,
   "id": "118fdc13",
   "metadata": {},
   "outputs": [
    {
     "name": "stdout",
     "output_type": "stream",
     "text": [
      "['formal', 'allow', 'electric']\n"
     ]
    }
   ],
   "source": [
    "words=['formalize', 'allowance', 'electricical']\n",
    "print([s.stem(w) for w in words])"
   ]
  },
  {
   "cell_type": "markdown",
   "id": "3388a375",
   "metadata": {},
   "source": [
    "- nltk에서 지원하는 포터 알고리즘과 랭커스터 스태머(Lancaster Stemmer) 알고리즘 비교"
   ]
  },
  {
   "cell_type": "code",
   "execution_count": 5,
   "id": "871b94a3",
   "metadata": {},
   "outputs": [
    {
     "name": "stdout",
     "output_type": "stream",
     "text": [
      "['polici', 'do', 'organ', 'have', 'go', 'love', 'live', 'fli', 'die', 'watch', 'ha', 'start']\n",
      "['policy', 'doing', 'org', 'hav', 'going', 'lov', 'liv', 'fly', 'die', 'watch', 'has', 'start']\n"
     ]
    }
   ],
   "source": [
    "from nltk.stem import LancasterStemmer\n",
    "s=PorterStemmer()\n",
    "l=LancasterStemmer()\n",
    "\n",
    "words=['policy', 'doing', 'organization', 'have', 'going', 'love', 'lives', 'fly', 'dies', 'watched', 'has', 'starting']\n",
    "\n",
    "print([s.stem(w) for w in words])\n",
    "print([l.stem(w) for w in words])"
   ]
  },
  {
   "cell_type": "markdown",
   "id": "1bff993d",
   "metadata": {},
   "source": [
    "#### 한국어 어간추출\n",
    "|언|품사|\n",
    "|:---|:--------|\n",
    "|체언|명사, 대명사, 수사|\n",
    "|수식언|관형사, 부사|\n",
    "|관계언|조사|\n",
    "|독립언|감탄사|\n",
    "|용언|동사, 형용사|      \n",
    "용언의 동사, 형용사는 어간(stem)과 어미(ending)의 결합으로 구성된다."
   ]
  },
  {
   "cell_type": "markdown",
   "id": "4fac0915",
   "metadata": {},
   "source": [
    "활용(conjugation): 용언의 어간이 어미를 가지는 일.      \n",
    "1) 규칙 활용: 어간이 어미를 취할 때 어미의 모습이 일정한 것.       \n",
    "  =>규칙 기반으로 어미를 단순히 분리해서 어간추출 가능!\n",
    "2) 불규칙 활용: 어간이 어미를 취할 때 어간의 모습이 바뀌거나, 취하는 어미가 특수한 경우.         \n",
    "  =>단순한 분리를 넘어서 더 복잡한 규칙으로 어간을 추출해야 함."
   ]
  },
  {
   "cell_type": "markdown",
   "id": "836f20fc",
   "metadata": {},
   "source": [
    "## 불용어(Stopword)\n",
    "의미 분석에 그닥 도움 안되는 단어들."
   ]
  },
  {
   "cell_type": "markdown",
   "id": "fd693713",
   "metadata": {},
   "source": [
    "#### nltk 불용어 확인하기"
   ]
  },
  {
   "cell_type": "code",
   "execution_count": 7,
   "id": "393c23f9",
   "metadata": {},
   "outputs": [
    {
     "data": {
      "text/plain": [
       "['i',\n",
       " 'me',\n",
       " 'my',\n",
       " 'myself',\n",
       " 'we',\n",
       " 'our',\n",
       " 'ours',\n",
       " 'ourselves',\n",
       " 'you',\n",
       " \"you're\",\n",
       " \"you've\",\n",
       " \"you'll\",\n",
       " \"you'd\",\n",
       " 'your',\n",
       " 'yours',\n",
       " 'yourself',\n",
       " 'yourselves',\n",
       " 'he',\n",
       " 'him',\n",
       " 'his']"
      ]
     },
     "execution_count": 7,
     "metadata": {},
     "output_type": "execute_result"
    }
   ],
   "source": [
    "from nltk.corpus import stopwords\n",
    "stopwords.words('english')[:20]"
   ]
  },
  {
   "cell_type": "markdown",
   "id": "2f25518d",
   "metadata": {},
   "source": [
    "#### nltk로 불용어 제거하기"
   ]
  },
  {
   "cell_type": "code",
   "execution_count": 9,
   "id": "9cd4e056",
   "metadata": {},
   "outputs": [
    {
     "name": "stdout",
     "output_type": "stream",
     "text": [
      "['Family', 'is', 'not', 'an', 'important', 'thing', '.', 'It', \"'s\", 'everything', '.']\n",
      "['Family', 'important', 'thing', '.', 'It', \"'s\", 'everything', '.']\n"
     ]
    }
   ],
   "source": [
    "example = \"Family is not an important thing. It's everything.\"\n",
    "stop_words = set(stopwords.words('english'))\n",
    "\n",
    "word_tokens = word_tokenize(example)\n",
    "\n",
    "result=[]\n",
    "for w in word_tokens:\n",
    "    if w not in stop_words:\n",
    "        result.append(w)\n",
    "        \n",
    "print(word_tokens)\n",
    "print(result)"
   ]
  },
  {
   "cell_type": "markdown",
   "id": "b4dd7f4b",
   "metadata": {},
   "source": [
    "#### 한국어에서 불용어 제거하기\n",
    "- 간단하게는 토큰화 후에 조사, 접속사 등을 제거할 수 있음.\n",
    "- 그러나 불용어로 제거하고 싶은 단어들이 생겨 사용자가 직접 불용어 사전을 만드는 경우가 많음!\n",
    "- 보편적인 한국어 불용어 리스트 https://www.ranks.nl/stopwords/korean\n",
    "- txt 파일이나 csv 파일로 수많은 불용어를 정리해두고, 필요할 때 불러와서 사용하는 것도 좋은 방법이다!"
   ]
  },
  {
   "cell_type": "code",
   "execution_count": 10,
   "id": "257adef6",
   "metadata": {},
   "outputs": [
    {
     "name": "stdout",
     "output_type": "stream",
     "text": [
      "['고기를', '아무렇게나', '구우려고', '하면', '안', '돼', '.', '고기라고', '다', '같은', '게', '아니거든', '.', '예컨대', '삼겹살을', '구울', '때는', '중요한', '게', '있지', '.']\n",
      "['고기를', '구우려고', '안', '돼', '.', '고기라고', '다', '같은', '게', '.', '삼겹살을', '구울', '때는', '중요한', '게', '있지', '.']\n"
     ]
    }
   ],
   "source": [
    "example = \"고기를 아무렇게나 구우려고 하면 안 돼. 고기라고 다 같은 게 아니거든. 예컨대 삼겹살을 구울 때는 중요한 게 있지.\"\n",
    "stop_words = \"아무거나 아무렇게나 어찌하든지 같다 비슷하다 예컨대 이럴정도로 하면 아니거든\"\n",
    "\n",
    "stop_words = stop_words.split(\" \")\n",
    "word_tokens = word_tokenize(example)\n",
    "\n",
    "result=[]\n",
    "for w in word_tokens:\n",
    "    if w not in stop_words:\n",
    "        result.append(w)\n",
    "        \n",
    "print(word_tokens)\n",
    "print(result)"
   ]
  },
  {
   "cell_type": "markdown",
   "id": "668c5289",
   "metadata": {},
   "source": [
    "## 정수 인코딩\n",
    "각 단어를 고유한 정수에 mapping시킴.      \n",
    "인덱스 부여는 단어에 대한 빈도수 기준으로 정렬해서 부여한다"
   ]
  },
  {
   "cell_type": "markdown",
   "id": "86176e7b",
   "metadata": {},
   "source": [
    "#### 1) dictionary 사용하기 (뒤에 방법들을 더 많이 사용하긴 함 ...)\n",
    "- 단어를 빈도수 순으로 정렬한 단어 집합(vocabulary)을 만들고, 빈도수가 높은 순서대로 차례로 정수를 부여하는 방법."
   ]
  },
  {
   "cell_type": "code",
   "execution_count": 1,
   "id": "6198826e",
   "metadata": {},
   "outputs": [],
   "source": [
    "from nltk.tokenize import sent_tokenize\n",
    "from nltk.tokenize import word_tokenize\n",
    "from nltk.corpus import stopwords"
   ]
  },
  {
   "cell_type": "code",
   "execution_count": 2,
   "id": "727893dd",
   "metadata": {},
   "outputs": [],
   "source": [
    "text = \"A barber is a person. a barber is good person. a barber is huge person. he Knew A Secret! The Secret He Kept is huge secret. Huge secret. His barber kept his word. a barber kept his word. His barber kept his secret. But keeping and keeping such a huge secret to himself was driving the barber crazy. the barber went up a huge mountain.\""
   ]
  },
  {
   "cell_type": "code",
   "execution_count": 3,
   "id": "a8d0961d",
   "metadata": {},
   "outputs": [
    {
     "name": "stdout",
     "output_type": "stream",
     "text": [
      "['A barber is a person.', 'a barber is good person.', 'a barber is huge person.', 'he Knew A Secret!', 'The Secret He Kept is huge secret.', 'Huge secret.', 'His barber kept his word.', 'a barber kept his word.', 'His barber kept his secret.', 'But keeping and keeping such a huge secret to himself was driving the barber crazy.', 'the barber went up a huge mountain.']\n"
     ]
    }
   ],
   "source": [
    "#문장 토큰화\n",
    "text = sent_tokenize(text)\n",
    "print(text)"
   ]
  },
  {
   "cell_type": "code",
   "execution_count": 5,
   "id": "bf21c314",
   "metadata": {},
   "outputs": [
    {
     "name": "stdout",
     "output_type": "stream",
     "text": [
      "[['barber', 'person'], ['barber', 'good', 'person'], ['barber', 'huge', 'person'], ['knew', 'secret'], ['secret', 'kept', 'huge', 'secret'], ['huge', 'secret'], ['barber', 'kept', 'word'], ['barber', 'kept', 'word'], ['barber', 'kept', 'secret'], ['keeping', 'keeping', 'huge', 'secret', 'driving', 'barber', 'crazy'], ['barber', 'went', 'huge', 'mountain']]\n"
     ]
    }
   ],
   "source": [
    "#정제 작업을 병행한 토큰화\n",
    "vocab = {}\n",
    "sentences = []\n",
    "stop_words = set(stopwords.words('english'))\n",
    "\n",
    "for i in text:\n",
    "    sentence = word_tokenize(i)\n",
    "    result= []\n",
    "    \n",
    "    for word in sentence:\n",
    "        word = word.lower()   #소문자화\n",
    "        if word not in stop_words:   #불용어 제거\n",
    "            if len(word) >2 :        #단어 길이가 2 이하면 제거\n",
    "                result.append(word)\n",
    "                \n",
    "                if word not in vocab:\n",
    "                    vocab[word] = 0   # 사전에 그 단어가 없으면 새로 만들기\n",
    "                \n",
    "                vocab[word] +=1      # 사전에 몇번 나왔는지 count\n",
    "    sentences.append(result)         # 전처리 다 한 토큰들로 묶인 문장들\n",
    "print(sentences)"
   ]
  },
  {
   "cell_type": "code",
   "execution_count": 6,
   "id": "c2c1d81b",
   "metadata": {},
   "outputs": [
    {
     "name": "stdout",
     "output_type": "stream",
     "text": [
      "{'barber': 8, 'person': 3, 'good': 1, 'huge': 5, 'knew': 1, 'secret': 6, 'kept': 4, 'word': 2, 'keeping': 2, 'driving': 1, 'crazy': 1, 'went': 1, 'mountain': 1}\n"
     ]
    }
   ],
   "source": [
    "print(vocab)   #key: 단어, value: 빈도수"
   ]
  },
  {
   "cell_type": "code",
   "execution_count": 7,
   "id": "c13b6489",
   "metadata": {},
   "outputs": [
    {
     "name": "stdout",
     "output_type": "stream",
     "text": [
      "[('barber', 8), ('secret', 6), ('huge', 5), ('kept', 4), ('person', 3), ('word', 2), ('keeping', 2), ('good', 1), ('knew', 1), ('driving', 1), ('crazy', 1), ('went', 1), ('mountain', 1)]\n"
     ]
    }
   ],
   "source": [
    "# 빈도수가 높은 순서대로 정렬\n",
    "vocab_sorted = sorted(vocab.items(), key=lambda x:x[1], reverse=True)\n",
    "print(vocab_sorted)"
   ]
  },
  {
   "cell_type": "code",
   "execution_count": 8,
   "id": "a0906d9a",
   "metadata": {},
   "outputs": [
    {
     "name": "stdout",
     "output_type": "stream",
     "text": [
      "{'barber': 1, 'secret': 2, 'huge': 3, 'kept': 4, 'person': 5, 'word': 6, 'keeping': 7}\n"
     ]
    }
   ],
   "source": [
    "# 빈도수가 높은 순서대로 낮은 정수 인덱스 부여\n",
    "word_to_index = {}\n",
    "i=0\n",
    "for (word, frequency) in vocab_sorted:\n",
    "    if frequency > 1 :     #빈도수가 적은 단어는 제외\n",
    "        i = i+1\n",
    "        word_to_index[word] = i\n",
    "\n",
    "print(word_to_index)"
   ]
  },
  {
   "cell_type": "code",
   "execution_count": 9,
   "id": "c982e1af",
   "metadata": {},
   "outputs": [
    {
     "name": "stdout",
     "output_type": "stream",
     "text": [
      "{'barber': 1, 'secret': 2, 'huge': 3, 'kept': 4, 'person': 5}\n"
     ]
    }
   ],
   "source": [
    "# 빈도수 상위 5개의 단어만 사용한다고 가정\n",
    "vocab_size = 5\n",
    "words_frequency = [w for w,c in word_to_index.items() if c>= vocab_size+1] #인덱스가 5 초과인 단어 제거\n",
    "for w in words_frequency:\n",
    "    del word_to_index[w]  # 5 초과하는 인덱스의 정보를 삭제\n",
    "print(word_to_index)"
   ]
  },
  {
   "cell_type": "code",
   "execution_count": 11,
   "id": "cc625526",
   "metadata": {},
   "outputs": [
    {
     "name": "stdout",
     "output_type": "stream",
     "text": [
      "[[1, 5], [1, 6, 5], [1, 3, 5], [6, 2], [2, 4, 3, 2], [3, 2], [1, 4, 6], [1, 4, 6], [1, 4, 2], [6, 6, 3, 2, 6, 1, 6], [1, 6, 3, 6]]\n"
     ]
    }
   ],
   "source": [
    "# 단어 토큰화를 거친 sentences에 저장되어 있는 모든 단어를 정수로 바꾸기.\n",
    "# 이 때 word_to_index에 존재하지 않는 단어들이 존재하므로,\n",
    "# word_to_index에 OOV(Out-Of-Vocabulary)를 새롭게 추가한다.\n",
    "word_to_index['OOV'] = len(word_to_index) + 1\n",
    "\n",
    "encoded = []\n",
    "for s in sentences:\n",
    "    temp=[]\n",
    "    for w in s:\n",
    "        try:\n",
    "            temp.append(word_to_index[w])\n",
    "        except KeyError:\n",
    "            temp.append(word_to_index['OOV'])\n",
    "    encoded.append(temp)\n",
    "print(encoded)"
   ]
  },
  {
   "cell_type": "markdown",
   "id": "9b54fb46",
   "metadata": {},
   "source": [
    "#### 2) Counter 사용하기"
   ]
  },
  {
   "cell_type": "code",
   "execution_count": 12,
   "id": "5dcc867a",
   "metadata": {},
   "outputs": [],
   "source": [
    "from collections import Counter"
   ]
  },
  {
   "cell_type": "code",
   "execution_count": 13,
   "id": "fbe16f56",
   "metadata": {},
   "outputs": [
    {
     "name": "stdout",
     "output_type": "stream",
     "text": [
      "[['barber', 'person'], ['barber', 'good', 'person'], ['barber', 'huge', 'person'], ['knew', 'secret'], ['secret', 'kept', 'huge', 'secret'], ['huge', 'secret'], ['barber', 'kept', 'word'], ['barber', 'kept', 'word'], ['barber', 'kept', 'secret'], ['keeping', 'keeping', 'huge', 'secret', 'driving', 'barber', 'crazy'], ['barber', 'went', 'huge', 'mountain']]\n"
     ]
    }
   ],
   "source": [
    "print(sentences)"
   ]
  },
  {
   "cell_type": "code",
   "execution_count": 15,
   "id": "02b51b7e",
   "metadata": {},
   "outputs": [
    {
     "name": "stdout",
     "output_type": "stream",
     "text": [
      "['barber', 'person', 'barber', 'good', 'person', 'barber', 'huge', 'person', 'knew', 'secret', 'secret', 'kept', 'huge', 'secret', 'huge', 'secret', 'barber', 'kept', 'word', 'barber', 'kept', 'word', 'barber', 'kept', 'secret', 'keeping', 'keeping', 'huge', 'secret', 'driving', 'barber', 'crazy', 'barber', 'went', 'huge', 'mountain']\n"
     ]
    }
   ],
   "source": [
    "# 리스트 한겹 없애서 하나의 리스트로 만들기.\n",
    "words = sum(sentences, [])   # 또는 words = np.hstack(sentences)\n",
    "print(words)"
   ]
  },
  {
   "cell_type": "code",
   "execution_count": 17,
   "id": "993ea34a",
   "metadata": {},
   "outputs": [
    {
     "name": "stdout",
     "output_type": "stream",
     "text": [
      "Counter({'barber': 8, 'secret': 6, 'huge': 5, 'kept': 4, 'person': 3, 'word': 2, 'keeping': 2, 'good': 1, 'knew': 1, 'driving': 1, 'crazy': 1, 'went': 1, 'mountain': 1})\n",
      "8\n"
     ]
    }
   ],
   "source": [
    "# Counter(): 중복 제거하고 단어의 빈도수를 기록\n",
    "vocab = Counter(words)\n",
    "print(vocab)\n",
    "print(vocab['barber'])"
   ]
  },
  {
   "cell_type": "code",
   "execution_count": 18,
   "id": "41f06ca1",
   "metadata": {},
   "outputs": [
    {
     "data": {
      "text/plain": [
       "[('barber', 8), ('secret', 6), ('huge', 5), ('kept', 4), ('person', 3)]"
      ]
     },
     "execution_count": 18,
     "metadata": {},
     "output_type": "execute_result"
    }
   ],
   "source": [
    "#  most_common(): 상위 빈도수를 가진 주어진 수의 단어만 return\n",
    "vocab_size = 5\n",
    "vocab = vocab.most_common(vocab_size)\n",
    "vocab"
   ]
  },
  {
   "cell_type": "code",
   "execution_count": 19,
   "id": "0012aeb8",
   "metadata": {},
   "outputs": [
    {
     "name": "stdout",
     "output_type": "stream",
     "text": [
      "{'barber': 1, 'secret': 2, 'huge': 3, 'kept': 4, 'person': 5}\n"
     ]
    }
   ],
   "source": [
    "#빈도수가 높은 순서대로 낮은 정수 인덱스 부여\n",
    "word_to_index = {}\n",
    "i=0\n",
    "for (word, frequency) in vocab:\n",
    "    i=i+1\n",
    "    word_to_index[word]=i\n",
    "print(word_to_index)"
   ]
  },
  {
   "cell_type": "markdown",
   "id": "ae79cd76",
   "metadata": {},
   "source": [
    "#### 3) NLTK의 FreqDist 사용하기 (빈도수 계산 도구)"
   ]
  },
  {
   "cell_type": "code",
   "execution_count": 20,
   "id": "424007ab",
   "metadata": {},
   "outputs": [],
   "source": [
    "from nltk import FreqDist\n",
    "import numpy as np"
   ]
  },
  {
   "cell_type": "code",
   "execution_count": 22,
   "id": "ad895ae2",
   "metadata": {},
   "outputs": [
    {
     "name": "stdout",
     "output_type": "stream",
     "text": [
      "8\n"
     ]
    }
   ],
   "source": [
    "# np.hstack으로 문장구분 없는 하나의 리스트를 input으로 사용함.\n",
    "vocab = FreqDist(np.hstack(sentences))\n",
    "print(vocab[\"barber\"])"
   ]
  },
  {
   "cell_type": "code",
   "execution_count": 23,
   "id": "9fc753a9",
   "metadata": {},
   "outputs": [
    {
     "data": {
      "text/plain": [
       "[('barber', 8), ('secret', 6), ('huge', 5), ('kept', 4), ('person', 3)]"
      ]
     },
     "execution_count": 23,
     "metadata": {},
     "output_type": "execute_result"
    }
   ],
   "source": [
    "# 상위권 5개\n",
    "vocab_size = 5\n",
    "vocab = vocab.most_common(vocab_size)\n",
    "vocab"
   ]
  },
  {
   "cell_type": "code",
   "execution_count": 24,
   "id": "f94fec82",
   "metadata": {},
   "outputs": [
    {
     "name": "stdout",
     "output_type": "stream",
     "text": [
      "{'barber': 1, 'secret': 2, 'huge': 3, 'kept': 4, 'person': 5}\n"
     ]
    }
   ],
   "source": [
    "# 높은 빈도수일수록 낮은 인덱스 부여. (enumerate 사용)\n",
    "word_to_index = {word[0]: index+1 for index, word in enumerate(vocab)}\n",
    "print(word_to_index)"
   ]
  },
  {
   "cell_type": "markdown",
   "id": "55dcf12c",
   "metadata": {},
   "source": [
    "#### 4) keras의 텍스트 전처리"
   ]
  },
  {
   "cell_type": "code",
   "execution_count": 25,
   "id": "201a1dd0",
   "metadata": {},
   "outputs": [],
   "source": [
    "from tensorflow.keras.preprocessing.text import Tokenizer"
   ]
  },
  {
   "cell_type": "code",
   "execution_count": 27,
   "id": "770e8531",
   "metadata": {},
   "outputs": [
    {
     "name": "stdout",
     "output_type": "stream",
     "text": [
      "[['barber', 'person'], ['barber', 'good', 'person'], ['barber', 'huge', 'person'], ['knew', 'secret'], ['secret', 'kept', 'huge', 'secret'], ['huge', 'secret'], ['barber', 'kept', 'word'], ['barber', 'kept', 'word'], ['barber', 'kept', 'secret'], ['keeping', 'keeping', 'huge', 'secret', 'driving', 'barber', 'crazy'], ['barber', 'went', 'huge', 'mountain']]\n"
     ]
    }
   ],
   "source": [
    "print(sentences)"
   ]
  },
  {
   "cell_type": "code",
   "execution_count": 29,
   "id": "9d81c60f",
   "metadata": {},
   "outputs": [],
   "source": [
    "# Tokenizer().fit_on_texts(corpus) : 빈도수를 기준으로 인덱스 부여 => 정수인코딩!\n",
    "tokenizer = Tokenizer()\n",
    "tokenizer.fit_on_texts(sentences)"
   ]
  },
  {
   "cell_type": "code",
   "execution_count": 30,
   "id": "0cd0d29c",
   "metadata": {},
   "outputs": [
    {
     "name": "stdout",
     "output_type": "stream",
     "text": [
      "{'barber': 1, 'secret': 2, 'huge': 3, 'kept': 4, 'person': 5, 'word': 6, 'keeping': 7, 'good': 8, 'knew': 9, 'driving': 10, 'crazy': 11, 'went': 12, 'mountain': 13}\n"
     ]
    }
   ],
   "source": [
    "# word_index: 부여된 인덱스 확인!\n",
    "print(tokenizer.word_index)"
   ]
  },
  {
   "cell_type": "code",
   "execution_count": 31,
   "id": "1d3d70d2",
   "metadata": {},
   "outputs": [
    {
     "name": "stdout",
     "output_type": "stream",
     "text": [
      "OrderedDict([('barber', 8), ('person', 3), ('good', 1), ('huge', 5), ('knew', 1), ('secret', 6), ('kept', 4), ('word', 2), ('keeping', 2), ('driving', 1), ('crazy', 1), ('went', 1), ('mountain', 1)])\n"
     ]
    }
   ],
   "source": [
    "# word_counts: 각 단어 빈도수 확인\n",
    "print(tokenizer.word_counts)"
   ]
  },
  {
   "cell_type": "code",
   "execution_count": 33,
   "id": "4e984541",
   "metadata": {},
   "outputs": [
    {
     "name": "stdout",
     "output_type": "stream",
     "text": [
      "[[1, 5], [1, 8, 5], [1, 3, 5], [9, 2], [2, 4, 3, 2], [3, 2], [1, 4, 6], [1, 4, 6], [1, 4, 2], [7, 7, 3, 2, 10, 1, 11], [1, 12, 3, 13]]\n"
     ]
    }
   ],
   "source": [
    "# texts_to_sequences(corpus): corpus를 정해진 인덱스로 변환!\n",
    "print(tokenizer.texts_to_sequences(sentences))"
   ]
  },
  {
   "cell_type": "markdown",
   "id": "93342987",
   "metadata": {},
   "source": [
    "*상위 5개단어만 사용하는 경우      \n",
    "num_words 이용해서 사용할 숫자 제한! 이 때 num_words는 숫자를 0부터 카운트하므로 1번부터 4번단어만 남는다. 따라서 5+1을 넣어줘야 함!       \n",
    "(0번째는 padding)"
   ]
  },
  {
   "cell_type": "code",
   "execution_count": 34,
   "id": "767dd078",
   "metadata": {},
   "outputs": [],
   "source": [
    "vocab_size = 5\n",
    "tokenizer = Tokenizer(num_words = vocab_size +1)  # 상위 5개 단어만 사용하도록 재정의\n",
    "tokenizer.fit_on_texts(sentences)"
   ]
  },
  {
   "cell_type": "code",
   "execution_count": 37,
   "id": "51ff1baa",
   "metadata": {},
   "outputs": [
    {
     "name": "stdout",
     "output_type": "stream",
     "text": [
      "{'barber': 1, 'secret': 2, 'huge': 3, 'kept': 4, 'person': 5, 'word': 6, 'keeping': 7, 'good': 8, 'knew': 9, 'driving': 10, 'crazy': 11, 'went': 12, 'mountain': 13}\n"
     ]
    }
   ],
   "source": [
    "print(tokenizer.word_index)"
   ]
  },
  {
   "cell_type": "code",
   "execution_count": 38,
   "id": "9d656106",
   "metadata": {},
   "outputs": [
    {
     "name": "stdout",
     "output_type": "stream",
     "text": [
      "OrderedDict([('barber', 8), ('person', 3), ('good', 1), ('huge', 5), ('knew', 1), ('secret', 6), ('kept', 4), ('word', 2), ('keeping', 2), ('driving', 1), ('crazy', 1), ('went', 1), ('mountain', 1)])\n"
     ]
    }
   ],
   "source": [
    "print(tokenizer.word_counts)"
   ]
  },
  {
   "cell_type": "markdown",
   "id": "bcb5153c",
   "metadata": {},
   "source": [
    "상위 5개 사용은 texts_to_sequences를 사용할 때 적용된다! 위의 두 함수에는 적용 x"
   ]
  },
  {
   "cell_type": "code",
   "execution_count": 39,
   "id": "9beaef19",
   "metadata": {},
   "outputs": [
    {
     "name": "stdout",
     "output_type": "stream",
     "text": [
      "[[1, 5], [1, 5], [1, 3, 5], [2], [2, 4, 3, 2], [3, 2], [1, 4], [1, 4], [1, 4, 2], [3, 2, 1], [1, 3]]\n"
     ]
    }
   ],
   "source": [
    "print(tokenizer.texts_to_sequences(sentences))"
   ]
  },
  {
   "cell_type": "markdown",
   "id": "8fc0fd21",
   "metadata": {},
   "source": [
    "=> 상위 5개 이외의 나머지 단어들은 제거함!        \n",
    "상위 단어 집합에 없는 단어들을 OOV로 보존하고 싶을 경우, Tokenizer의 인자 oov_token을 사용한다. __(keras tokenizer에서 OOV의 인덱스는 1임!!)__"
   ]
  },
  {
   "cell_type": "code",
   "execution_count": 40,
   "id": "49f8dd62",
   "metadata": {},
   "outputs": [],
   "source": [
    "vocab_size = 5\n",
    "tokenizer = Tokenizer(num_words = vocab_size + 2, oov_token = 'OOV')\n",
    "# 빈도수 상위 5개 단어만 사용. 숫자 0과 OOV를 고려해서 단어 집합의 크기는 +2\n",
    "tokenizer.fit_on_texts(sentences)"
   ]
  },
  {
   "cell_type": "code",
   "execution_count": 43,
   "id": "79c3e895",
   "metadata": {},
   "outputs": [
    {
     "name": "stdout",
     "output_type": "stream",
     "text": [
      "{'OOV': 1, 'barber': 2, 'secret': 3, 'huge': 4, 'kept': 5, 'person': 6, 'word': 7, 'keeping': 8, 'good': 9, 'knew': 10, 'driving': 11, 'crazy': 12, 'went': 13, 'mountain': 14}\n"
     ]
    }
   ],
   "source": [
    "print(tokenizer.word_index)"
   ]
  },
  {
   "cell_type": "code",
   "execution_count": 41,
   "id": "74c4dbe6",
   "metadata": {},
   "outputs": [
    {
     "name": "stdout",
     "output_type": "stream",
     "text": [
      "[[2, 6], [2, 1, 6], [2, 4, 6], [1, 3], [3, 5, 4, 3], [4, 3], [2, 5, 1], [2, 5, 1], [2, 5, 3], [1, 1, 4, 3, 1, 2, 1], [2, 1, 4, 1]]\n"
     ]
    }
   ],
   "source": [
    "print(tokenizer.texts_to_sequences(sentences))"
   ]
  },
  {
   "cell_type": "markdown",
   "id": "3dc343fd",
   "metadata": {},
   "source": [
    "## 패딩(Padding)\n",
    "각 문장(또는 문서)의 길이가 다를 때, 병렬 연산을 위해 여러 문장의 길이를 임의로 동일하게 맞춰주는 작업."
   ]
  },
  {
   "cell_type": "markdown",
   "id": "33d62789",
   "metadata": {},
   "source": [
    "#### 1) Numpy로 패딩하기"
   ]
  },
  {
   "cell_type": "code",
   "execution_count": 2,
   "id": "8f9b020c",
   "metadata": {},
   "outputs": [],
   "source": [
    "import numpy as np\n",
    "from tensorflow.keras.preprocessing.text import Tokenizer"
   ]
  },
  {
   "cell_type": "code",
   "execution_count": 3,
   "id": "a1e0a634",
   "metadata": {},
   "outputs": [],
   "source": [
    "sentences = [['barber', 'person'], ['barber', 'good', 'person'], ['barber', 'huge', 'person'], ['knew', 'secret'], ['secret', 'kept', 'huge', 'secret'], ['huge', 'secret'], ['barber', 'kept', 'word'], ['barber', 'kept', 'word'], ['barber', 'kept', 'secret'], ['keeping', 'keeping', 'huge', 'secret', 'driving', 'barber', 'crazy'], ['barber', 'went', 'huge', 'mountain']]"
   ]
  },
  {
   "cell_type": "code",
   "execution_count": 4,
   "id": "ce0135fc",
   "metadata": {},
   "outputs": [],
   "source": [
    "# 정수 인코딩\n",
    "tokenizer = Tokenizer()\n",
    "tokenizer.fit_on_texts(sentences) #빈도수를 기준으로 한 단어집합 생성"
   ]
  },
  {
   "cell_type": "code",
   "execution_count": 5,
   "id": "af7d10e1",
   "metadata": {},
   "outputs": [
    {
     "name": "stdout",
     "output_type": "stream",
     "text": [
      "[[1, 5], [1, 8, 5], [1, 3, 5], [9, 2], [2, 4, 3, 2], [3, 2], [1, 4, 6], [1, 4, 6], [1, 4, 2], [7, 7, 3, 2, 10, 1, 11], [1, 12, 3, 13]]\n"
     ]
    }
   ],
   "source": [
    "encoded = tokenizer.texts_to_sequences(sentences) #텍스트 시퀀스 정수 맵핑\n",
    "print(encoded)"
   ]
  },
  {
   "cell_type": "code",
   "execution_count": 6,
   "id": "d1b656ee",
   "metadata": {},
   "outputs": [
    {
     "name": "stdout",
     "output_type": "stream",
     "text": [
      "7\n"
     ]
    }
   ],
   "source": [
    "# 문장들 중 가장 길이가 긴 문장의 길이 계산\n",
    "max_len = max(len(item) for item in encoded)\n",
    "print(max_len)"
   ]
  },
  {
   "cell_type": "markdown",
   "id": "d5742082",
   "metadata": {},
   "source": [
    "가장 길이가 긴 문장의 길이가 7 -> 모든 문장의 길이를 7로 맞춰준다!         \n",
    "7이 안되는 문장은 남는 칸을 0으로 채움 __(=> zero padding)__"
   ]
  },
  {
   "cell_type": "code",
   "execution_count": 7,
   "id": "60104a7a",
   "metadata": {},
   "outputs": [
    {
     "data": {
      "text/plain": [
       "array([[ 1,  5,  0,  0,  0,  0,  0],\n",
       "       [ 1,  8,  5,  0,  0,  0,  0],\n",
       "       [ 1,  3,  5,  0,  0,  0,  0],\n",
       "       [ 9,  2,  0,  0,  0,  0,  0],\n",
       "       [ 2,  4,  3,  2,  0,  0,  0],\n",
       "       [ 3,  2,  0,  0,  0,  0,  0],\n",
       "       [ 1,  4,  6,  0,  0,  0,  0],\n",
       "       [ 1,  4,  6,  0,  0,  0,  0],\n",
       "       [ 1,  4,  2,  0,  0,  0,  0],\n",
       "       [ 7,  7,  3,  2, 10,  1, 11],\n",
       "       [ 1, 12,  3, 13,  0,  0,  0]])"
      ]
     },
     "execution_count": 7,
     "metadata": {},
     "output_type": "execute_result"
    }
   ],
   "source": [
    "for item in encoded:\n",
    "    while len(item)< max_len: \n",
    "        item.append(0)\n",
    "        \n",
    "padded_np = np.array(encoded)\n",
    "padded_np"
   ]
  },
  {
   "cell_type": "markdown",
   "id": "495e268b",
   "metadata": {},
   "source": [
    "=> 이제 모든 문장의 길이가 7이므로 병렬 처리 가능!"
   ]
  },
  {
   "cell_type": "markdown",
   "id": "e06bb87c",
   "metadata": {},
   "source": [
    "#### 2) keras 전처리 도구로 패딩하기"
   ]
  },
  {
   "cell_type": "code",
   "execution_count": 8,
   "id": "2496ca03",
   "metadata": {},
   "outputs": [],
   "source": [
    "from tensorflow.keras.preprocessing.sequence import pad_sequences"
   ]
  },
  {
   "cell_type": "code",
   "execution_count": 10,
   "id": "cbf16681",
   "metadata": {},
   "outputs": [
    {
     "name": "stdout",
     "output_type": "stream",
     "text": [
      "[[1, 5], [1, 8, 5], [1, 3, 5], [9, 2], [2, 4, 3, 2], [3, 2], [1, 4, 6], [1, 4, 6], [1, 4, 2], [7, 7, 3, 2, 10, 1, 11], [1, 12, 3, 13]]\n"
     ]
    }
   ],
   "source": [
    "## 1)에서 한 패딩값이 적용되어 있으므로 패딩 이전의 값으로 되돌리기!\n",
    "encoded = tokenizer.texts_to_sequences(sentences)\n",
    "print(encoded)"
   ]
  },
  {
   "cell_type": "code",
   "execution_count": 11,
   "id": "17429686",
   "metadata": {},
   "outputs": [
    {
     "data": {
      "text/plain": [
       "array([[ 0,  0,  0,  0,  0,  1,  5],\n",
       "       [ 0,  0,  0,  0,  1,  8,  5],\n",
       "       [ 0,  0,  0,  0,  1,  3,  5],\n",
       "       [ 0,  0,  0,  0,  0,  9,  2],\n",
       "       [ 0,  0,  0,  2,  4,  3,  2],\n",
       "       [ 0,  0,  0,  0,  0,  3,  2],\n",
       "       [ 0,  0,  0,  0,  1,  4,  6],\n",
       "       [ 0,  0,  0,  0,  1,  4,  6],\n",
       "       [ 0,  0,  0,  0,  1,  4,  2],\n",
       "       [ 7,  7,  3,  2, 10,  1, 11],\n",
       "       [ 0,  0,  0,  1, 12,  3, 13]])"
      ]
     },
     "execution_count": 11,
     "metadata": {},
     "output_type": "execute_result"
    }
   ],
   "source": [
    "#keras의 pad_sequences를 이용하여 패딩\n",
    "padded = pad_sequences(encoded)\n",
    "padded"
   ]
  },
  {
   "cell_type": "markdown",
   "id": "fb00a11e",
   "metadata": {},
   "source": [
    "=> pad_sequences는 default로 앞을 0으로 채운다.       \n",
    "뒤를 0으로 채우려면 padding='post'"
   ]
  },
  {
   "cell_type": "code",
   "execution_count": 12,
   "id": "27e3aef3",
   "metadata": {},
   "outputs": [
    {
     "data": {
      "text/plain": [
       "array([[ 1,  5,  0,  0,  0,  0,  0],\n",
       "       [ 1,  8,  5,  0,  0,  0,  0],\n",
       "       [ 1,  3,  5,  0,  0,  0,  0],\n",
       "       [ 9,  2,  0,  0,  0,  0,  0],\n",
       "       [ 2,  4,  3,  2,  0,  0,  0],\n",
       "       [ 3,  2,  0,  0,  0,  0,  0],\n",
       "       [ 1,  4,  6,  0,  0,  0,  0],\n",
       "       [ 1,  4,  6,  0,  0,  0,  0],\n",
       "       [ 1,  4,  2,  0,  0,  0,  0],\n",
       "       [ 7,  7,  3,  2, 10,  1, 11],\n",
       "       [ 1, 12,  3, 13,  0,  0,  0]])"
      ]
     },
     "execution_count": 12,
     "metadata": {},
     "output_type": "execute_result"
    }
   ],
   "source": [
    "padded = pad_sequences(encoded, padding='post')\n",
    "padded"
   ]
  },
  {
   "cell_type": "markdown",
   "id": "c033c820",
   "metadata": {},
   "source": [
    "maxlen을 인자로 주면 꼭 가장 길이가 긴 문장 기준으로 맞추지 않고 길이에 제한을 둘 수 있다! 대신 maxlen보다 길이가 긴 데이터는 손실됨."
   ]
  },
  {
   "cell_type": "code",
   "execution_count": 14,
   "id": "408c2c7b",
   "metadata": {},
   "outputs": [
    {
     "data": {
      "text/plain": [
       "array([[ 1,  5,  0,  0,  0],\n",
       "       [ 1,  8,  5,  0,  0],\n",
       "       [ 1,  3,  5,  0,  0],\n",
       "       [ 9,  2,  0,  0,  0],\n",
       "       [ 2,  4,  3,  2,  0],\n",
       "       [ 3,  2,  0,  0,  0],\n",
       "       [ 1,  4,  6,  0,  0],\n",
       "       [ 1,  4,  6,  0,  0],\n",
       "       [ 1,  4,  2,  0,  0],\n",
       "       [ 3,  2, 10,  1, 11],\n",
       "       [ 1, 12,  3, 13,  0]])"
      ]
     },
     "execution_count": 14,
     "metadata": {},
     "output_type": "execute_result"
    }
   ],
   "source": [
    "padded = pad_sequences(encoded, padding='post', maxlen=5)\n",
    "padded"
   ]
  },
  {
   "cell_type": "markdown",
   "id": "570c6d3b",
   "metadata": {},
   "source": [
    "paddnig값의 default는 0.     \n",
    "value 인자를 사용해서 0대신 단어 집합의 크기보다 1 큰 숫자 사용해보기"
   ]
  },
  {
   "cell_type": "code",
   "execution_count": 15,
   "id": "89a494e1",
   "metadata": {},
   "outputs": [
    {
     "name": "stdout",
     "output_type": "stream",
     "text": [
      "14\n"
     ]
    }
   ],
   "source": [
    "last_value=len(tokenizer.word_index) + 1\n",
    "print(last_value)   #14 -> padding값을 14로 설정한다"
   ]
  },
  {
   "cell_type": "code",
   "execution_count": 16,
   "id": "cbbd8754",
   "metadata": {},
   "outputs": [
    {
     "data": {
      "text/plain": [
       "array([[ 1,  5, 14, 14, 14, 14, 14],\n",
       "       [ 1,  8,  5, 14, 14, 14, 14],\n",
       "       [ 1,  3,  5, 14, 14, 14, 14],\n",
       "       [ 9,  2, 14, 14, 14, 14, 14],\n",
       "       [ 2,  4,  3,  2, 14, 14, 14],\n",
       "       [ 3,  2, 14, 14, 14, 14, 14],\n",
       "       [ 1,  4,  6, 14, 14, 14, 14],\n",
       "       [ 1,  4,  6, 14, 14, 14, 14],\n",
       "       [ 1,  4,  2, 14, 14, 14, 14],\n",
       "       [ 7,  7,  3,  2, 10,  1, 11],\n",
       "       [ 1, 12,  3, 13, 14, 14, 14]])"
      ]
     },
     "execution_count": 16,
     "metadata": {},
     "output_type": "execute_result"
    }
   ],
   "source": [
    "padded = pad_sequences(encoded, padding='post', value=last_value)\n",
    "padded"
   ]
  },
  {
   "cell_type": "markdown",
   "id": "6334588b",
   "metadata": {},
   "source": [
    "## One-Hot Encoding"
   ]
  },
  {
   "cell_type": "markdown",
   "id": "07381971",
   "metadata": {},
   "source": [
    "#### 단어집합(vocabulary. 사전이라고도 함)\n",
    "- <span style=\"color:blue\">중복되지 않는 서로 다른</span> 단어들의 집합\n",
    "- 단어 집합에서는 book과 books와 같이 단어의 변형 형태도 다른 단어로 간주한다. one-hot encoding을 위해서는 먼저 단어 집합을 만들고, 단어 집합에 대해 정수 인코딩을 진행해야 한다."
   ]
  },
  {
   "cell_type": "markdown",
   "id": "2efdc481",
   "metadata": {},
   "source": [
    "#### 원-핫 인코딩(One-Hot Encoding)\n",
    "단어 집합의 크기를 벡터의 차원으로 하고,       \n",
    "표현하고 싶은 단어의 인덱스에 1을 부여, 다른 인덱스에는 0을 부여하는 단어의 벡터 표현 방식.      \n",
    "- 각 단어에 고유한 인덱스 부여(정수 인코딩)      \n",
    "- 표현하고 싶은 단어의 인덱스에 1, 다른 단어는 0을 부여함."
   ]
  },
  {
   "cell_type": "markdown",
   "id": "ca589fc4",
   "metadata": {},
   "source": [
    "예) 나는 자연어 처리를 배운다"
   ]
  },
  {
   "cell_type": "code",
   "execution_count": 17,
   "id": "56532bf9",
   "metadata": {},
   "outputs": [
    {
     "name": "stdout",
     "output_type": "stream",
     "text": [
      "['나', '는', '자연어', '처리', '를', '배운다']\n"
     ]
    }
   ],
   "source": [
    "# 문장 토큰화\n",
    "from konlpy.tag import Okt\n",
    "okt=Okt()\n",
    "token = okt.morphs(\"나는 자연어 처리를 배운다\")\n",
    "print(token)"
   ]
  },
  {
   "cell_type": "code",
   "execution_count": 19,
   "id": "e76ef236",
   "metadata": {},
   "outputs": [
    {
     "name": "stdout",
     "output_type": "stream",
     "text": [
      "{'나': 0, '는': 1, '자연어': 2, '처리': 3, '를': 4, '배운다': 5}\n"
     ]
    }
   ],
   "source": [
    "# 각 토큰에 고유한 인덱스 부여\n",
    "word2index={}\n",
    "for voca in token:\n",
    "    if voca not in word2index.keys():\n",
    "        word2index[voca]=len(word2index)\n",
    "print(word2index)"
   ]
  },
  {
   "cell_type": "code",
   "execution_count": 20,
   "id": "fc67faaa",
   "metadata": {},
   "outputs": [
    {
     "data": {
      "text/plain": [
       "[0, 0, 1, 0, 0, 0]"
      ]
     },
     "execution_count": 20,
     "metadata": {},
     "output_type": "execute_result"
    }
   ],
   "source": [
    "#One-Hot Encoding 함수 만들기\n",
    "def one_hot_encoding(word, word2index):\n",
    "    one_hot_vector = [0] * (len(word2index))\n",
    "    index = word2index[word]\n",
    "    one_hot_vector[index]=1\n",
    "    return one_hot_vector\n",
    "\n",
    "one_hot_encoding(\"자연어\", word2index)"
   ]
  },
  {
   "cell_type": "markdown",
   "id": "55b194c5",
   "metadata": {},
   "source": [
    "#### keras를 이용한 One-Hot Encoding\n",
    "to_categorical() 함수를 이용"
   ]
  },
  {
   "cell_type": "code",
   "execution_count": 21,
   "id": "09fedac9",
   "metadata": {},
   "outputs": [],
   "source": [
    "from tensorflow.keras.preprocessing.text import Tokenizer\n",
    "from tensorflow.keras.utils import to_categorical\n",
    "\n",
    "text=\"나는 점심 먹으러 갈래 점심 메뉴는 햄버거 갈래 갈래 햄버거 최고야\""
   ]
  },
  {
   "cell_type": "code",
   "execution_count": 22,
   "id": "f398092f",
   "metadata": {},
   "outputs": [
    {
     "name": "stdout",
     "output_type": "stream",
     "text": [
      "{'갈래': 1, '점심': 2, '햄버거': 3, '나는': 4, '먹으러': 5, '메뉴는': 6, '최고야': 7}\n"
     ]
    }
   ],
   "source": [
    "#정수인코딩\n",
    "t = Tokenizer()\n",
    "t.fit_on_texts([text])\n",
    "print(t.word_index)  # 각 단어에 대한 인코딩 결과"
   ]
  },
  {
   "cell_type": "code",
   "execution_count": 25,
   "id": "7eb16672",
   "metadata": {},
   "outputs": [
    {
     "name": "stdout",
     "output_type": "stream",
     "text": [
      "[4, 2, 5, 1, 2, 6, 3, 1, 1, 3, 7]\n"
     ]
    }
   ],
   "source": [
    "encoded=t.texts_to_sequences([text])[0]\n",
    "print(encoded)"
   ]
  },
  {
   "cell_type": "code",
   "execution_count": 26,
   "id": "23f751dc",
   "metadata": {},
   "outputs": [
    {
     "name": "stdout",
     "output_type": "stream",
     "text": [
      "[[0. 0. 0. 0. 1. 0. 0. 0.]\n",
      " [0. 0. 1. 0. 0. 0. 0. 0.]\n",
      " [0. 0. 0. 0. 0. 1. 0. 0.]\n",
      " [0. 1. 0. 0. 0. 0. 0. 0.]\n",
      " [0. 0. 1. 0. 0. 0. 0. 0.]\n",
      " [0. 0. 0. 0. 0. 0. 1. 0.]\n",
      " [0. 0. 0. 1. 0. 0. 0. 0.]\n",
      " [0. 1. 0. 0. 0. 0. 0. 0.]\n",
      " [0. 1. 0. 0. 0. 0. 0. 0.]\n",
      " [0. 0. 0. 1. 0. 0. 0. 0.]\n",
      " [0. 0. 0. 0. 0. 0. 0. 1.]]\n"
     ]
    }
   ],
   "source": [
    "# One-Hot Encoding\n",
    "one_hot = to_categorical(encoded)\n",
    "print(one_hot)  # 각 토큰에 대한 one-hot encoding"
   ]
  },
  {
   "cell_type": "markdown",
   "id": "0bbcd3ba",
   "metadata": {},
   "source": [
    "#### One-Hot Encoding의 한계\n",
    "- 단어 집합의 크기만큼 벡터의 차원이 생기는 것이므로 저장 공간 측면에서 매우 비효율적임.\n",
    "- 단어의 유사도를 표현하지 못함.      \n",
    "=> 단어의 잠재 의미를 반영하여 다차원 공간에 벡터화 하는 기법      \n",
    "1) 카운트 기반의 벡터화 방법(LSA, HAL 등)      \n",
    "2) 예측 기반 벡터화 방법(NNLM, RNNLM, Word2Vec, FastText 등)     \n",
    "3) 카운트 기반과 예측 기반 두가지 방법 모두 사용(GloVe)"
   ]
  },
  {
   "cell_type": "markdown",
   "id": "876909a8",
   "metadata": {},
   "source": [
    "## 한국어 전처리 패키지"
   ]
  },
  {
   "cell_type": "markdown",
   "id": "e7b715c1",
   "metadata": {},
   "source": [
    "### 1. PyKospacing\n",
    "한국어 띄어쓰기 패키지: 띄어쓰기가 되어있지 않은 문장을 띄어쓰기가 된 한 문장으로 변환해주는 패키지."
   ]
  },
  {
   "cell_type": "code",
   "execution_count": 1,
   "id": "88281053",
   "metadata": {},
   "outputs": [
    {
     "name": "stdout",
     "output_type": "stream",
     "text": [
      "Collecting git+https://github.com/haven-jeon/PyKoSpacing.git\n",
      "  Cloning https://github.com/haven-jeon/PyKoSpacing.git to c:\\users\\tfx5075g\\appdata\\local\\temp\\pip-req-build-qo1f8n9k\n",
      "Collecting tensorflow==2.5.0\n",
      "  Downloading tensorflow-2.5.0-cp38-cp38-win_amd64.whl (422.6 MB)\n",
      "Collecting h5py==3.1.0\n",
      "  Downloading h5py-3.1.0-cp38-cp38-win_amd64.whl (2.7 MB)\n",
      "Collecting argparse>=1.4.0\n",
      "  Downloading argparse-1.4.0-py2.py3-none-any.whl (23 kB)\n",
      "Requirement already satisfied: numpy>=1.17.5 in c:\\users\\tfx5075g\\anaconda3\\lib\\site-packages (from h5py==3.1.0->pykospacing==0.5) (1.21.1)\n",
      "Requirement already satisfied: astunparse~=1.6.3 in c:\\users\\tfx5075g\\anaconda3\\lib\\site-packages (from tensorflow==2.5.0->pykospacing==0.5) (1.6.3)\n",
      "Requirement already satisfied: termcolor~=1.1.0 in c:\\users\\tfx5075g\\anaconda3\\lib\\site-packages (from tensorflow==2.5.0->pykospacing==0.5) (1.1.0)\n",
      "Requirement already satisfied: tensorflow-estimator<2.6.0,>=2.5.0rc0 in c:\\users\\tfx5075g\\anaconda3\\lib\\site-packages (from tensorflow==2.5.0->pykospacing==0.5) (2.5.0)\n",
      "Collecting grpcio~=1.34.0\n",
      "  Downloading grpcio-1.34.1-cp38-cp38-win_amd64.whl (2.9 MB)\n",
      "Requirement already satisfied: wheel~=0.35 in c:\\users\\tfx5075g\\anaconda3\\lib\\site-packages (from tensorflow==2.5.0->pykospacing==0.5) (0.36.2)\n",
      "Collecting six~=1.15.0\n",
      "  Downloading six-1.15.0-py2.py3-none-any.whl (10 kB)\n",
      "Requirement already satisfied: gast==0.4.0 in c:\\users\\tfx5075g\\anaconda3\\lib\\site-packages (from tensorflow==2.5.0->pykospacing==0.5) (0.4.0)\n",
      "Collecting numpy>=1.17.5\n",
      "  Downloading numpy-1.19.5-cp38-cp38-win_amd64.whl (13.3 MB)\n",
      "Requirement already satisfied: keras-preprocessing~=1.1.2 in c:\\users\\tfx5075g\\anaconda3\\lib\\site-packages (from tensorflow==2.5.0->pykospacing==0.5) (1.1.2)\n",
      "Collecting keras-nightly~=2.5.0.dev\n",
      "  Downloading keras_nightly-2.5.0.dev2021032900-py2.py3-none-any.whl (1.2 MB)\n",
      "Requirement already satisfied: wrapt~=1.12.1 in c:\\users\\tfx5075g\\anaconda3\\lib\\site-packages (from tensorflow==2.5.0->pykospacing==0.5) (1.12.1)\n",
      "Requirement already satisfied: opt-einsum~=3.3.0 in c:\\users\\tfx5075g\\anaconda3\\lib\\site-packages (from tensorflow==2.5.0->pykospacing==0.5) (3.3.0)\n",
      "Collecting tensorboard~=2.5\n",
      "  Downloading tensorboard-2.5.0-py3-none-any.whl (6.0 MB)\n",
      "Collecting flatbuffers~=1.12.0\n",
      "  Downloading flatbuffers-1.12-py2.py3-none-any.whl (15 kB)\n",
      "Collecting typing-extensions~=3.7.4\n",
      "  Downloading typing_extensions-3.7.4.3-py3-none-any.whl (22 kB)\n",
      "Requirement already satisfied: absl-py~=0.10 in c:\\users\\tfx5075g\\anaconda3\\lib\\site-packages (from tensorflow==2.5.0->pykospacing==0.5) (0.13.0)\n",
      "Requirement already satisfied: protobuf>=3.9.2 in c:\\users\\tfx5075g\\anaconda3\\lib\\site-packages (from tensorflow==2.5.0->pykospacing==0.5) (3.17.2)\n",
      "Requirement already satisfied: google-pasta~=0.2 in c:\\users\\tfx5075g\\anaconda3\\lib\\site-packages (from tensorflow==2.5.0->pykospacing==0.5) (0.2.0)\n",
      "Requirement already satisfied: google-auth<2,>=1.6.3 in c:\\users\\tfx5075g\\anaconda3\\lib\\site-packages (from tensorboard~=2.5->tensorflow==2.5.0->pykospacing==0.5) (1.21.3)\n",
      "Requirement already satisfied: tensorboard-plugin-wit>=1.6.0 in c:\\users\\tfx5075g\\anaconda3\\lib\\site-packages (from tensorboard~=2.5->tensorflow==2.5.0->pykospacing==0.5) (1.6.0)\n",
      "Requirement already satisfied: requests<3,>=2.21.0 in c:\\users\\tfx5075g\\anaconda3\\lib\\site-packages (from tensorboard~=2.5->tensorflow==2.5.0->pykospacing==0.5) (2.25.1)\n",
      "Collecting tensorboard-data-server<0.7.0,>=0.6.0\n",
      "  Downloading tensorboard_data_server-0.6.1-py3-none-any.whl (2.4 kB)\n",
      "Requirement already satisfied: markdown>=2.6.8 in c:\\users\\tfx5075g\\anaconda3\\lib\\site-packages (from tensorboard~=2.5->tensorflow==2.5.0->pykospacing==0.5) (3.3.4)\n",
      "Requirement already satisfied: setuptools>=41.0.0 in c:\\users\\tfx5075g\\anaconda3\\lib\\site-packages (from tensorboard~=2.5->tensorflow==2.5.0->pykospacing==0.5) (52.0.0.post20210125)\n",
      "Requirement already satisfied: google-auth-oauthlib<0.5,>=0.4.1 in c:\\users\\tfx5075g\\anaconda3\\lib\\site-packages (from tensorboard~=2.5->tensorflow==2.5.0->pykospacing==0.5) (0.4.4)\n",
      "Requirement already satisfied: werkzeug>=0.11.15 in c:\\users\\tfx5075g\\anaconda3\\lib\\site-packages (from tensorboard~=2.5->tensorflow==2.5.0->pykospacing==0.5) (1.0.1)\n",
      "Requirement already satisfied: cachetools<5.0,>=2.0.0 in c:\\users\\tfx5075g\\anaconda3\\lib\\site-packages (from google-auth<2,>=1.6.3->tensorboard~=2.5->tensorflow==2.5.0->pykospacing==0.5) (4.2.2)\n",
      "Requirement already satisfied: pyasn1-modules>=0.2.1 in c:\\users\\tfx5075g\\anaconda3\\lib\\site-packages (from google-auth<2,>=1.6.3->tensorboard~=2.5->tensorflow==2.5.0->pykospacing==0.5) (0.2.8)\n",
      "Requirement already satisfied: rsa<5,>=3.1.4 in c:\\users\\tfx5075g\\anaconda3\\lib\\site-packages (from google-auth<2,>=1.6.3->tensorboard~=2.5->tensorflow==2.5.0->pykospacing==0.5) (4.7.2)\n",
      "Requirement already satisfied: requests-oauthlib>=0.7.0 in c:\\users\\tfx5075g\\anaconda3\\lib\\site-packages (from google-auth-oauthlib<0.5,>=0.4.1->tensorboard~=2.5->tensorflow==2.5.0->pykospacing==0.5) (1.3.0)\n",
      "Requirement already satisfied: pyasn1<0.5.0,>=0.4.6 in c:\\users\\tfx5075g\\anaconda3\\lib\\site-packages (from pyasn1-modules>=0.2.1->google-auth<2,>=1.6.3->tensorboard~=2.5->tensorflow==2.5.0->pykospacing==0.5) (0.4.8)\n",
      "Requirement already satisfied: chardet<5,>=3.0.2 in c:\\users\\tfx5075g\\anaconda3\\lib\\site-packages (from requests<3,>=2.21.0->tensorboard~=2.5->tensorflow==2.5.0->pykospacing==0.5) (4.0.0)\n",
      "Requirement already satisfied: idna<3,>=2.5 in c:\\users\\tfx5075g\\anaconda3\\lib\\site-packages (from requests<3,>=2.21.0->tensorboard~=2.5->tensorflow==2.5.0->pykospacing==0.5) (2.10)\n",
      "Requirement already satisfied: urllib3<1.27,>=1.21.1 in c:\\users\\tfx5075g\\anaconda3\\lib\\site-packages (from requests<3,>=2.21.0->tensorboard~=2.5->tensorflow==2.5.0->pykospacing==0.5) (1.26.6)\n",
      "Requirement already satisfied: certifi>=2017.4.17 in c:\\users\\tfx5075g\\anaconda3\\lib\\site-packages (from requests<3,>=2.21.0->tensorboard~=2.5->tensorflow==2.5.0->pykospacing==0.5) (2021.5.30)\n",
      "Requirement already satisfied: oauthlib>=3.0.0 in c:\\users\\tfx5075g\\anaconda3\\lib\\site-packages (from requests-oauthlib>=0.7.0->google-auth-oauthlib<0.5,>=0.4.1->tensorboard~=2.5->tensorflow==2.5.0->pykospacing==0.5) (3.1.1)\n",
      "Building wheels for collected packages: pykospacing\n",
      "  Building wheel for pykospacing (setup.py): started\n",
      "  Building wheel for pykospacing (setup.py): finished with status 'done'\n",
      "  Created wheel for pykospacing: filename=pykospacing-0.5-py3-none-any.whl size=2255676 sha256=aa91864489dd62339415934713457cf3c0d8cb204c44ba0d5b8a7ba5c5cea35d\n",
      "  Stored in directory: C:\\Users\\TFX5075G\\AppData\\Local\\Temp\\pip-ephem-wheel-cache-ru36sz49\\wheels\\79\\a0\\33\\16f2cd03d21f76a663f5d69a0b96f0351335385349136fbd03\n",
      "Successfully built pykospacing\n",
      "Installing collected packages: six, tensorboard-data-server, numpy, grpcio, typing-extensions, tensorboard, keras-nightly, h5py, flatbuffers, tensorflow, argparse, pykospacing\n",
      "  Attempting uninstall: six\n",
      "    Found existing installation: six 1.16.0\n",
      "    Uninstalling six-1.16.0:\n",
      "      Successfully uninstalled six-1.16.0\n",
      "  Attempting uninstall: numpy\n",
      "    Found existing installation: numpy 1.21.1\n",
      "    Uninstalling numpy-1.21.1:\n",
      "      Successfully uninstalled numpy-1.21.1\n",
      "  Attempting uninstall: grpcio\n",
      "    Found existing installation: grpcio 1.36.1\n",
      "    Uninstalling grpcio-1.36.1:\n",
      "      Successfully uninstalled grpcio-1.36.1\n",
      "  Attempting uninstall: tensorboard\n",
      "    Found existing installation: tensorboard 2.4.0\n",
      "    Uninstalling tensorboard-2.4.0:\n",
      "      Successfully uninstalled tensorboard-2.4.0\n",
      "  Attempting uninstall: h5py\n",
      "    Found existing installation: h5py 2.10.0\n",
      "    Uninstalling h5py-2.10.0:\n",
      "      Successfully uninstalled h5py-2.10.0\n",
      "  Attempting uninstall: tensorflow\n",
      "    Found existing installation: tensorflow 2.3.0\n",
      "    Uninstalling tensorflow-2.3.0:\n",
      "      Successfully uninstalled tensorflow-2.3.0\n",
      "Successfully installed argparse-1.4.0 flatbuffers-1.12 grpcio-1.34.1 h5py-3.1.0 keras-nightly-2.5.0.dev2021032900 numpy-1.20.3 pykospacing-0.5 six-1.15.0 tensorboard-2.5.0 tensorboard-data-server-0.6.1 tensorflow-2.5.0 typing-extensions-3.7.4.3\n"
     ]
    },
    {
     "name": "stderr",
     "output_type": "stream",
     "text": [
      "  Running command git clone -q https://github.com/haven-jeon/PyKoSpacing.git 'C:\\Users\\TFX5075G\\AppData\\Local\\Temp\\pip-req-build-qo1f8n9k'\n",
      "ERROR: pip's dependency resolver does not currently take into account all the packages that are installed. This behaviour is the source of the following dependency conflicts.\n",
      "conda-repo-cli 1.0.4 requires pathlib, which is not installed.\n"
     ]
    }
   ],
   "source": [
    "#!pip install git+https://github.com/haven-jeon/PyKoSpacing.git"
   ]
  },
  {
   "cell_type": "code",
   "execution_count": 2,
   "id": "c9c9409e",
   "metadata": {},
   "outputs": [],
   "source": [
    "sent = '김철수는 극중 두 인격의 사나이 이광수 역을 맡았다. 철수는 한국 유일의 태권도 전승자를 가리는 결전의 날을 앞두고 10년간 함께 훈련한 사형인 유연재(김광수 분)를 찾으러 속세로 내려온 인물이다.'"
   ]
  },
  {
   "cell_type": "code",
   "execution_count": 3,
   "id": "1c7af2aa",
   "metadata": {},
   "outputs": [
    {
     "name": "stdout",
     "output_type": "stream",
     "text": [
      "김철수는극중두인격의사나이이광수역을맡았다.철수는한국유일의태권도전승자를가리는결전의날을앞두고10년간함께훈련한사형인유연재(김광수분)를찾으러속세로내려온인물이다.\n"
     ]
    }
   ],
   "source": [
    "# 위 문장을 임의로 띄어쓰기가 없는 문장으로 만들기\n",
    "new_sent = sent.replace(\" \", '')\n",
    "print(new_sent)"
   ]
  },
  {
   "cell_type": "code",
   "execution_count": 4,
   "id": "7385541b",
   "metadata": {},
   "outputs": [
    {
     "name": "stdout",
     "output_type": "stream",
     "text": [
      "김철수는 극중 두 인격의 사나이 이광수 역을 맡았다. 철수는 한국 유일의 태권도 전승자를 가리는 결전의 날을 앞두고 10년간 함께 훈련한 사형인 유연재(김광수 분)를 찾으러 속세로 내려온 인물이다.\n",
      "김철수는 극중 두 인격의 사나이 이광수 역을 맡았다. 철수는 한국 유일의 태권도 전승자를 가리는 결전의 날을 앞두고 10년간 함께 훈련한 사형인 유연재(김광수 분)를 찾으러 속세로 내려온 인물이다.\n"
     ]
    }
   ],
   "source": [
    "# PyKoSpacing 사용하기\n",
    "from pykospacing import Spacing\n",
    "spacing = Spacing()\n",
    "kospacing_sent = spacing(new_sent)\n",
    "\n",
    "# 원래 띄어쓰기와 pykospacing 함수를 거친 띄어쓰기 비교하기\n",
    "print(sent)\n",
    "print(kospacing_sent)"
   ]
  },
  {
   "cell_type": "markdown",
   "id": "76805c3f",
   "metadata": {},
   "source": [
    "=> 정확히 일치한다!"
   ]
  },
  {
   "cell_type": "markdown",
   "id": "baed5c09",
   "metadata": {},
   "source": [
    "### 2. Py-Hanspell\n",
    "네이버 한글 맞춤법 검사기를 바탕으로 만들어진 패키지."
   ]
  },
  {
   "cell_type": "code",
   "execution_count": 5,
   "id": "fa51c62d",
   "metadata": {
    "scrolled": true
   },
   "outputs": [
    {
     "name": "stdout",
     "output_type": "stream",
     "text": [
      "Collecting git+https://github.com/ssut/py-hanspell.git"
     ]
    },
    {
     "name": "stderr",
     "output_type": "stream",
     "text": [
      "  Running command git clone -q https://github.com/ssut/py-hanspell.git 'C:\\Users\\TFX5075G\\AppData\\Local\\Temp\\pip-req-build-ap0io85q'"
     ]
    },
    {
     "name": "stdout",
     "output_type": "stream",
     "text": [
      "\n",
      "  Cloning https://github.com/ssut/py-hanspell.git to c:\\users\\tfx5075g\\appdata\\local\\temp\\pip-req-build-ap0io85q\n",
      "Requirement already satisfied: requests in c:\\users\\tfx5075g\\anaconda3\\lib\\site-packages (from py-hanspell==1.1) (2.25.1)\n",
      "Requirement already satisfied: idna<3,>=2.5 in c:\\users\\tfx5075g\\anaconda3\\lib\\site-packages (from requests->py-hanspell==1.1) (2.10)\n",
      "Requirement already satisfied: chardet<5,>=3.0.2 in c:\\users\\tfx5075g\\anaconda3\\lib\\site-packages (from requests->py-hanspell==1.1) (4.0.0)\n",
      "Requirement already satisfied: urllib3<1.27,>=1.21.1 in c:\\users\\tfx5075g\\anaconda3\\lib\\site-packages (from requests->py-hanspell==1.1) (1.26.6)\n",
      "Requirement already satisfied: certifi>=2017.4.17 in c:\\users\\tfx5075g\\anaconda3\\lib\\site-packages (from requests->py-hanspell==1.1) (2021.5.30)\n",
      "Building wheels for collected packages: py-hanspell\n",
      "  Building wheel for py-hanspell (setup.py): started\n",
      "  Building wheel for py-hanspell (setup.py): finished with status 'done'\n",
      "  Created wheel for py-hanspell: filename=py_hanspell-1.1-py3-none-any.whl size=4894 sha256=c78e892a0d5bae61c935a5447a86d6b12aec5efde171bdb3f4916ae52f5ca597\n",
      "  Stored in directory: C:\\Users\\TFX5075G\\AppData\\Local\\Temp\\pip-ephem-wheel-cache-23y9jl89\\wheels\\3f\\a5\\73\\e4d2806ae141d274fdddaabf8c0ed79be9357d36bfdc99e4b4\n",
      "Successfully built py-hanspell\n",
      "Installing collected packages: py-hanspell\n",
      "Successfully installed py-hanspell-1.1\n"
     ]
    },
    {
     "name": "stderr",
     "output_type": "stream",
     "text": [
      "\n"
     ]
    }
   ],
   "source": [
    "#!pip install git+https://github.com/ssut/py-hanspell.git"
   ]
  },
  {
   "cell_type": "code",
   "execution_count": 11,
   "id": "11422268",
   "metadata": {},
   "outputs": [
    {
     "name": "stdout",
     "output_type": "stream",
     "text": [
      "맞춤법 틀리면 왜 안돼? 쓰고 싶은 대로 쓰면 되지\n"
     ]
    }
   ],
   "source": [
    "from hanspell import spell_checker\n",
    "\n",
    "sent = \"맞춤법 틀리면 외 않되? 쓰고싶은대로쓰면돼지 \"\n",
    "spelled_sent = spell_checker.check(sent)  # 맞춤법이 지켜졌는지 여부를 토큰별로 확인\n",
    "\n",
    "hanspell_sent = spelled_sent.checked  # 맞춤법 교정\n",
    "print(hanspell_sent)"
   ]
  },
  {
   "cell_type": "markdown",
   "id": "49f0e2c1",
   "metadata": {},
   "source": [
    "hanspell을 이용한 띄어쓰기 보정"
   ]
  },
  {
   "cell_type": "code",
   "execution_count": 12,
   "id": "d6a15495",
   "metadata": {},
   "outputs": [
    {
     "name": "stdout",
     "output_type": "stream",
     "text": [
      "김철수는 극 중 두 인격의 사나이 이광수 역을 맡았다. 철수는 한국 유일의 태권도 전승자를 가리는 결전의 날을 앞두고 10년간 함께 훈련한 사형인 유연제(김광수 분)를 찾으러 속세로 내려온 인물이다.\n",
      "김철수는 극중 두 인격의 사나이 이광수 역을 맡았다. 철수는 한국 유일의 태권도 전승자를 가리는 결전의 날을 앞두고 10년간 함께 훈련한 사형인 유연재(김광수 분)를 찾으러 속세로 내려온 인물이다.\n"
     ]
    }
   ],
   "source": [
    "spelled_sent = spell_checker.check(new_sent)\n",
    "\n",
    "hanspell_sent = spelled_sent.checked\n",
    "print(hanspell_sent)\n",
    "print(kospacing_sent) # 앞의 kospacing에서 얻은 결과와 비교"
   ]
  },
  {
   "cell_type": "markdown",
   "id": "7134d42c",
   "metadata": {},
   "source": [
    "조금 다른부분이 있음!"
   ]
  },
  {
   "cell_type": "markdown",
   "id": "79fe755a",
   "metadata": {},
   "source": [
    "### 3. SOYNLP를 통한 단어 토큰화\n",
    "soynlp: 품사 태깅, 단어 토큰화 등을 지원.        \n",
    "비지도 학습으로 단어 토큰화 -> 데이터에 자주 등장하는 단어들을 단어로 분석한다."
   ]
  },
  {
   "cell_type": "code",
   "execution_count": 13,
   "id": "693ca0d6",
   "metadata": {},
   "outputs": [
    {
     "name": "stdout",
     "output_type": "stream",
     "text": [
      "Collecting soynlp\n",
      "  Downloading soynlp-0.0.493-py3-none-any.whl (416 kB)\n",
      "Requirement already satisfied: scikit-learn>=0.20.0 in c:\\users\\tfx5075g\\anaconda3\\lib\\site-packages (from soynlp) (0.24.2)\n",
      "Requirement already satisfied: psutil>=5.0.1 in c:\\users\\tfx5075g\\anaconda3\\lib\\site-packages (from soynlp) (5.8.0)\n",
      "Requirement already satisfied: scipy>=1.1.0 in c:\\users\\tfx5075g\\anaconda3\\lib\\site-packages (from soynlp) (1.7.0)\n",
      "Requirement already satisfied: numpy>=1.12.1 in c:\\users\\tfx5075g\\anaconda3\\lib\\site-packages (from soynlp) (1.20.3)\n",
      "Requirement already satisfied: threadpoolctl>=2.0.0 in c:\\users\\tfx5075g\\anaconda3\\lib\\site-packages (from scikit-learn>=0.20.0->soynlp) (2.2.0)\n",
      "Requirement already satisfied: joblib>=0.11 in c:\\users\\tfx5075g\\anaconda3\\lib\\site-packages (from scikit-learn>=0.20.0->soynlp) (1.0.1)\n",
      "Installing collected packages: soynlp\n",
      "Successfully installed soynlp-0.0.493\n"
     ]
    }
   ],
   "source": [
    "#!pip install soynlp"
   ]
  },
  {
   "cell_type": "markdown",
   "id": "6a6b67bf",
   "metadata": {},
   "source": [
    "#### 1) 신조어 문제\n",
    "기존 형태소 분석기의 문제점: 신조어나 형태소 분석기에 등록되지 않은 단어는 제대로 구분하지 못함."
   ]
  },
  {
   "cell_type": "code",
   "execution_count": 14,
   "id": "e4dba492",
   "metadata": {},
   "outputs": [
    {
     "name": "stdout",
     "output_type": "stream",
     "text": [
      "['세븐', '틴', '에스', '쿱스', '8월', '최애', '돌', '기부', '요정']\n"
     ]
    }
   ],
   "source": [
    "# 앞에서 배운 형태소 분석기 예시\n",
    "from konlpy.tag import Okt\n",
    "tokenizer=Okt()\n",
    "print(tokenizer.morphs(\"세븐틴 에스쿱스 8월 최애돌 기부 요정\"))"
   ]
  },
  {
   "cell_type": "markdown",
   "id": "4443a852",
   "metadata": {},
   "source": [
    "=> 한 단어인 세븐틴, 에스쿱스, 최애돌을 모두 분리해서 결과로 보여줌.      \n",
    "__soynlp__ :세븐틴이라는 문자열이 자주 연결되어 등장하면 한 단어로 판단하고, '가수', '실력'과 같은 독립된 단어들이 세븐틴이라는 단어 앞뒤에 계속해서 등장하면 세븐틴을 한 단어로 파악하는 방식!"
   ]
  },
  {
   "cell_type": "markdown",
   "id": "d45d5466",
   "metadata": {},
   "source": [
    "#### 2) 학습하기"
   ]
  },
  {
   "cell_type": "code",
   "execution_count": 16,
   "id": "d1104f31",
   "metadata": {},
   "outputs": [],
   "source": [
    "import urllib.request\n",
    "from soynlp import DoublespaceLineCorpus\n",
    "from soynlp.word import WordExtractor"
   ]
  },
  {
   "cell_type": "markdown",
   "id": "ff86a7f4",
   "metadata": {},
   "source": [
    "soynlp는 학습에 기반한 토크나이저이므로 학습에 필요한 한국어 문서를 다운로드한다."
   ]
  },
  {
   "cell_type": "code",
   "execution_count": 17,
   "id": "dfb46ffa",
   "metadata": {},
   "outputs": [
    {
     "data": {
      "text/plain": [
       "('2016-10-20.txt', <http.client.HTTPMessage at 0x22d243ebdf0>)"
      ]
     },
     "execution_count": 17,
     "metadata": {},
     "output_type": "execute_result"
    }
   ],
   "source": [
    "urllib.request.urlretrieve(\"https://raw.githubusercontent.com/lovit/soynlp/master/tutorials/2016-10-20.txt\", filename=\"2016-10-20.txt\")"
   ]
  },
  {
   "cell_type": "code",
   "execution_count": 18,
   "id": "14d2ded9",
   "metadata": {},
   "outputs": [
    {
     "data": {
      "text/plain": [
       "30091"
      ]
     },
     "execution_count": 18,
     "metadata": {},
     "output_type": "execute_result"
    }
   ],
   "source": [
    "# 훈련 데이터를 다수의 문서로 분리\n",
    "corpus = DoublespaceLineCorpus(\"2016-10-20.txt\")\n",
    "len(corpus)"
   ]
  },
  {
   "cell_type": "code",
   "execution_count": 19,
   "id": "effc8266",
   "metadata": {
    "scrolled": true
   },
   "outputs": [
    {
     "name": "stdout",
     "output_type": "stream",
     "text": [
      "19  1990  52 1 22\n",
      "오패산터널 총격전 용의자 검거 서울 연합뉴스 경찰 관계자들이 19일 오후 서울 강북구 오패산 터널 인근에서 사제 총기를 발사해 경찰을 살해한 용의자 성모씨를 검거하고 있다 성씨는 검거 당시 서바이벌 게임에서 쓰는 방탄조끼에 헬멧까지 착용한 상태였다 독자제공 영상 캡처 연합뉴스  서울 연합뉴스 김은경 기자 사제 총기로 경찰을 살해한 범인 성모 46 씨는 주도면밀했다  경찰에 따르면 성씨는 19일 오후 강북경찰서 인근 부동산 업소 밖에서 부동산업자 이모 67 씨가 나오기를 기다렸다 이씨와는 평소에도 말다툼을 자주 한 것으로 알려졌다  이씨가 나와 걷기 시작하자 성씨는 따라가면서 미리 준비해온 사제 총기를 이씨에게 발사했다 총알이 빗나가면서 이씨는 도망갔다 그 빗나간 총알은 지나가던 행인 71 씨의 배를 스쳤다  성씨는 강북서 인근 치킨집까지 이씨 뒤를 쫓으며 실랑이하다 쓰러뜨린 후 총기와 함께 가져온 망치로 이씨 머리를 때렸다  이 과정에서 오후 6시 20분께 강북구 번동 길 위에서 사람들이 싸우고 있다 총소리가 났다 는 등의 신고가 여러건 들어왔다  5분 후에 성씨의 전자발찌가 훼손됐다는 신고가 보호관찰소 시스템을 통해 들어왔다 성범죄자로 전자발찌를 차고 있던 성씨는 부엌칼로 직접 자신의 발찌를 끊었다  용의자 소지 사제총기 2정 서울 연합뉴스 임헌정 기자 서울 시내에서 폭행 용의자가 현장 조사를 벌이던 경찰관에게 사제총기를 발사해 경찰관이 숨졌다 19일 오후 6시28분 강북구 번동에서 둔기로 맞았다 는 폭행 피해 신고가 접수돼 현장에서 조사하던 강북경찰서 번동파출소 소속 김모 54 경위가 폭행 용의자 성모 45 씨가 쏜 사제총기에 맞고 쓰러진 뒤 병원에 옮겨졌으나 숨졌다 사진은 용의자가 소지한 사제총기  신고를 받고 번동파출소에서 김창호 54 경위 등 경찰들이 오후 6시 29분께 현장으로 출동했다 성씨는 그사이 부동산 앞에 놓아뒀던 가방을 챙겨 오패산 쪽으로 도망간 후였다  김 경위는 오패산 터널 입구 오른쪽의 급경사에서 성씨에게 접근하다가 오후 6시 33분께 풀숲에 숨은 성씨가 허공에 난사한 10여발의 총알 중 일부를 왼쪽 어깨 뒷부분에 맞고 쓰러졌다  김 경위는 구급차가 도착했을 때 이미 의식이 없었고 심폐소생술을 하며 병원으로 옮겨졌으나 총알이 폐를 훼손해 오후 7시 40분께 사망했다  김 경위는 외근용 조끼를 입고 있었으나 총알을 막기에는 역부족이었다  머리에 부상을 입은 이씨도 함께 병원으로 이송됐으나 생명에는 지장이 없는 것으로 알려졌다  성씨는 오패산 터널 밑쪽 숲에서 오후 6시 45분께 잡혔다  총격현장 수색하는 경찰들 서울 연합뉴스 이효석 기자 19일 오후 서울 강북구 오패산 터널 인근에서 경찰들이 폭행 용의자가 사제총기를 발사해 경찰관이 사망한 사건을 조사 하고 있다  총 때문에 쫓던 경관들과 민간인들이 몸을 숨겼는데 인근 신발가게 직원 이모씨가 다가가 성씨를 덮쳤고 이어 현장에 있던 다른 상인들과 경찰이 가세해 체포했다  성씨는 경찰에 붙잡힌 직후 나 자살하려고 한 거다 맞아 죽어도 괜찮다 고 말한 것으로 전해졌다  성씨 자신도 경찰이 발사한 공포탄 1발 실탄 3발 중 실탄 1발을 배에 맞았으나 방탄조끼를 입은 상태여서 부상하지는 않았다  경찰은 인근을 수색해 성씨가 만든 사제총 16정과 칼 7개를 압수했다 실제 폭발할지는 알 수 없는 요구르트병에 무언가를 채워두고 심지를 꽂은 사제 폭탄도 발견됐다  일부는 숲에서 발견됐고 일부는 성씨가 소지한 가방 안에 있었다\n",
      "테헤란 연합뉴스 강훈상 특파원 이용 승객수 기준 세계 최대 공항인 아랍에미리트 두바이국제공항은 19일 현지시간 이 공항을 이륙하는 모든 항공기의 탑승객은 삼성전자의 갤럭시노트7을 휴대하면 안 된다고 밝혔다  두바이국제공항은 여러 항공 관련 기구의 권고에 따라 안전성에 우려가 있는 스마트폰 갤럭시노트7을 휴대하고 비행기를 타면 안 된다 며 탑승 전 검색 중 발견되면 압수할 계획 이라고 발표했다  공항 측은 갤럭시노트7의 배터리가 폭발 우려가 제기된 만큼 이 제품을 갖고 공항 안으로 들어오지 말라고 이용객에 당부했다  이런 조치는 두바이국제공항 뿐 아니라 신공항인 두바이월드센터에도 적용된다  배터리 폭발문제로 회수된 갤럭시노트7 연합뉴스자료사진\n"
     ]
    }
   ],
   "source": [
    "# 30091개의 문서 중 상위 3개 문서만 출력\n",
    "i = 0\n",
    "for document in corpus:\n",
    "  if len(document) > 0:\n",
    "    print(document)\n",
    "    i = i+1\n",
    "  if i == 3:\n",
    "    break"
   ]
  },
  {
   "cell_type": "markdown",
   "id": "7e70f4d1",
   "metadata": {},
   "source": [
    "학습을 통해 단어 토크나이저 생성      \n",
    "전체 코퍼스로부터 응집 확률과 브랜칭 엔트로피 단어 점수표를 만들어야 한다!"
   ]
  },
  {
   "cell_type": "code",
   "execution_count": 21,
   "id": "1fdb6ecd",
   "metadata": {},
   "outputs": [
    {
     "name": "stdout",
     "output_type": "stream",
     "text": [
      "training was done. used memory 2.936 Gb\n",
      "all cohesion probabilities was computed. # words = 223348\n",
      "all branching entropies was computed # words = 361598\n",
      "all accessor variety was computed # words = 361598\n"
     ]
    }
   ],
   "source": [
    "# wordExtractor.extract()를 통해 전체 코퍼스에 대한 단어 점수표 계산\n",
    "word_extractor=WordExtractor()\n",
    "word_extractor.train(corpus)   \n",
    "word_score_table = word_extractor.extract()"
   ]
  },
  {
   "attachments": {
    "image.png": {
     "image/png": "[encoded data removed]"
    }
   },
   "cell_type": "markdown",
   "id": "a59ae8a0",
   "metadata": {},
   "source": [
    "__응집확률__ : 내부 문자열(substring)이 얼마나 응집하여 자주 등장하는지를 판단하는 척도.          \n",
    "각 문자열이 주어졌을 때 그 다음 문자가 나올 확률을 계산해서 누적곱을 한다. 값이 높을수록 하나의 단어로 등장할 가능성이 높다!\n",
    "![image.png](attachment:image.png)"
   ]
  },
  {
   "attachments": {
    "image.png": {
     "image/png": "[encoded data removed]"
    }
   },
   "cell_type": "markdown",
   "id": "b6d6c98e",
   "metadata": {},
   "source": [
    "예) '반포한강공원에' 라는 문자 시퀀스에 대해 각 내부 문자열의 스코어를 구하는 과정\n",
    "![image.png](attachment:image.png)"
   ]
  },
  {
   "cell_type": "code",
   "execution_count": 22,
   "id": "fcf83443",
   "metadata": {},
   "outputs": [
    {
     "data": {
      "text/plain": [
       "0.08838002913645132"
      ]
     },
     "execution_count": 22,
     "metadata": {},
     "output_type": "execute_result"
    }
   ],
   "source": [
    "#응집확률 계산\n",
    "word_score_table[\"반포한\"].cohesion_forward"
   ]
  },
  {
   "cell_type": "code",
   "execution_count": 23,
   "id": "f529e475",
   "metadata": {},
   "outputs": [
    {
     "data": {
      "text/plain": [
       "0.19841268168224552"
      ]
     },
     "execution_count": 23,
     "metadata": {},
     "output_type": "execute_result"
    }
   ],
   "source": [
    "word_score_table[\"반포한강\"].cohesion_forrward"
   ]
  },
  {
   "cell_type": "code",
   "execution_count": 24,
   "id": "be4189e7",
   "metadata": {},
   "outputs": [
    {
     "data": {
      "text/plain": [
       "0.2972877884078849"
      ]
     },
     "execution_count": 24,
     "metadata": {},
     "output_type": "execute_result"
    }
   ],
   "source": [
    "word_score_table[\"반포한강공\"].cohesion_forward"
   ]
  },
  {
   "cell_type": "code",
   "execution_count": 25,
   "id": "8f43edf9",
   "metadata": {},
   "outputs": [
    {
     "data": {
      "text/plain": [
       "0.37891487632839754"
      ]
     },
     "execution_count": 25,
     "metadata": {},
     "output_type": "execute_result"
    }
   ],
   "source": [
    "word_score_table[\"반포한강공원\"].cohesion_forward"
   ]
  },
  {
   "cell_type": "code",
   "execution_count": 26,
   "id": "8fc4b092",
   "metadata": {},
   "outputs": [
    {
     "data": {
      "text/plain": [
       "0.33492963377557666"
      ]
     },
     "execution_count": 26,
     "metadata": {},
     "output_type": "execute_result"
    }
   ],
   "source": [
    "word_score_table[\"반포한강공원에\"].cohesion_forward"
   ]
  },
  {
   "cell_type": "markdown",
   "id": "a9fc6417",
   "metadata": {},
   "source": [
    "'반포한강공원'일 때 가장 높다! ==> 응집도를 통해 하나의 단어로 판단하기에 가장 적합한 문자열은 '반포한강공원'이라고 볼 수 있다."
   ]
  },
  {
   "cell_type": "markdown",
   "id": "e497ec8d",
   "metadata": {},
   "source": [
    "#### 4) SOYNLP의 브랜칭 엔트로피(branchin entropy)"
   ]
  },
  {
   "cell_type": "markdown",
   "id": "999ad1dc",
   "metadata": {},
   "source": [
    "branching entropy: 주어진 문자 시퀀스에서 다음 문자 예측을 위해 헷갈리는 정도           \n",
    "=> 주어진 문자열에서 얼마나 다음 문자가 등장할 수 있는지를 판단하는 척도    \n",
    "낮을수록 다음으로 올 문자열이 명백하다는 뜻"
   ]
  },
  {
   "cell_type": "code",
   "execution_count": 27,
   "id": "b3dafe59",
   "metadata": {},
   "outputs": [
    {
     "data": {
      "text/plain": [
       "1.6371694761537934"
      ]
     },
     "execution_count": 27,
     "metadata": {},
     "output_type": "execute_result"
    }
   ],
   "source": [
    "word_score_table[\"디스\"].right_branching_entropy"
   ]
  },
  {
   "cell_type": "code",
   "execution_count": 28,
   "id": "14df0215",
   "metadata": {},
   "outputs": [
    {
     "data": {
      "text/plain": [
       "-0.0"
      ]
     },
     "execution_count": 28,
     "metadata": {},
     "output_type": "execute_result"
    }
   ],
   "source": [
    "word_score_table[\"디스플\"].right_branching_entropy"
   ]
  },
  {
   "cell_type": "code",
   "execution_count": 29,
   "id": "4850d280",
   "metadata": {},
   "outputs": [
    {
     "data": {
      "text/plain": [
       "3.1400392861792916"
      ]
     },
     "execution_count": 29,
     "metadata": {},
     "output_type": "execute_result"
    }
   ],
   "source": [
    "word_score_table[\"디스플레이\"].right_branching_entropy"
   ]
  },
  {
   "cell_type": "markdown",
   "id": "69ac58ab",
   "metadata": {},
   "source": [
    "'디스플레이' 다음으로는 조사나 다른 단어 등 다양한 경우가 있을 수 있으므로 브랜칭 엔트로피 값이 증가함! => __이 값으로 단어를 판단할 수 있다__"
   ]
  },
  {
   "cell_type": "markdown",
   "id": "db6b7fa5",
   "metadata": {},
   "source": [
    "#### 5) SOYNLP의 L tokenizer\n",
    "한국어의 띄어쓰기를 기준으로 한 어절 토큰은 주로 L 토큰 + R 토큰을 형식을 가질 때가 많다 (예: '공원에' => '공원+에')     \n",
    "soynlp의 L tokenizer: L 토큰 + R 토큰으로 나누되 분리 기준을 점수가 가장 높은 L 노큰을 찾아내는 원리를 가진다."
   ]
  },
  {
   "cell_type": "code",
   "execution_count": 31,
   "id": "2f969f43",
   "metadata": {},
   "outputs": [],
   "source": [
    "from soynlp.tokenizer import LTokenizer\n",
    "\n",
    "scores = {word:score.cohesion_forward for word, score in word_score_table.items()}"
   ]
  },
  {
   "cell_type": "code",
   "execution_count": 32,
   "id": "1416b597",
   "metadata": {},
   "outputs": [
    {
     "data": {
      "text/plain": [
       "[('국제사회', '와'), ('우리', '의'), ('노력', '들로'), ('범죄', '를'), ('척결', '하자')]"
      ]
     },
     "execution_count": 32,
     "metadata": {},
     "output_type": "execute_result"
    }
   ],
   "source": [
    "l_tokenizer=LTokenizer(scores=scores)\n",
    "l_tokenizer.tokenize(\"국제사회와 우리의 노력들로 범죄를 척결하자\", flatten=False)"
   ]
  },
  {
   "cell_type": "markdown",
   "id": "f29efcd6",
   "metadata": {},
   "source": [
    "#### 6) 최대 점수 토크나이저\n",
    "띄어쓰기가 되지 않는 문장에서 점수가 높은 글자 시퀀스를 순차적으로 찾아내는 토크나이저."
   ]
  },
  {
   "cell_type": "code",
   "execution_count": 33,
   "id": "2709b7dc",
   "metadata": {},
   "outputs": [
    {
     "data": {
      "text/plain": [
       "['국제사회', '와', '우리', '의', '노력', '들로', '범죄', '를', '척결', '하자']"
      ]
     },
     "execution_count": 33,
     "metadata": {},
     "output_type": "execute_result"
    }
   ],
   "source": [
    "from soynlp.tokenizer import MaxScoreTokenizer\n",
    "\n",
    "maxscore_tokenizer = MaxScoreTokenizer(scores=scores)\n",
    "maxscore_tokenizer.tokenize(\"국제사회와우리의노력들로범죄를척결하자\")"
   ]
  },
  {
   "cell_type": "markdown",
   "id": "f3774b58",
   "metadata": {},
   "source": [
    "### 4. 반복되는 문자 정제 by SOYNLP\n",
    "반복되는 것을 하나로 정규화시킴(예: ㅋㅋ, ㅋㅋㅋ, ㅋㅋㅋㅋㅋㅋㅋㅋㅋ)"
   ]
  },
  {
   "cell_type": "code",
   "execution_count": 34,
   "id": "70476e76",
   "metadata": {},
   "outputs": [],
   "source": [
    "from soynlp.normalizer import *"
   ]
  },
  {
   "cell_type": "code",
   "execution_count": 35,
   "id": "8f3f46a6",
   "metadata": {},
   "outputs": [
    {
     "name": "stdout",
     "output_type": "stream",
     "text": [
      "아ㅋㅋ영화존잼ㅠㅠ\n",
      "아ㅋㅋ영화존잼ㅠㅠ\n",
      "아ㅋㅋ영화존잼ㅠㅠ\n",
      "아ㅋㅋ영화존잼ㅠㅠ\n"
     ]
    }
   ],
   "source": [
    "print(emoticon_normalize('앜ㅋㅋㅋㅋ이영화존잼ㅠㅠㅠㅠㅠ', num_repeats=2))\n",
    "print(emoticon_normalize('앜ㅋㅋㅋㅋㅋㅋㅋㅋㅋ이영화존잼ㅠㅠㅠㅠ', num_repeats=2))\n",
    "print(emoticon_normalize('앜ㅋㅋㅋㅋㅋㅋㅋㅋㅋㅋㅋㅋ이영화존잼ㅠㅠㅠㅠㅠㅠ', num_repeats=2))\n",
    "print(emoticon_normalize('앜ㅋㅋㅋㅋㅋㅋㅋㅋㅋㅋㅋㅋㅋㅋㅋㅋㅋ이영화존잼ㅠㅠㅠㅠㅠㅠㅠㅠ', num_repeats=2))"
   ]
  },
  {
   "cell_type": "code",
   "execution_count": 36,
   "id": "370f956f",
   "metadata": {},
   "outputs": [
    {
     "name": "stdout",
     "output_type": "stream",
     "text": [
      "와하하핫\n",
      "와하하핫\n",
      "와하하핫\n"
     ]
    }
   ],
   "source": [
    "print(repeat_normalize('와하하하하하하하하하핫', num_repeats=2))\n",
    "print(repeat_normalize('와하하하하하하핫', num_repeats=2))\n",
    "print(repeat_normalize('와하하하하핫', num_repeats=2))"
   ]
  },
  {
   "cell_type": "markdown",
   "id": "fccadbd2",
   "metadata": {},
   "source": [
    "### 5. Customized KoNLPy\n",
    "단어가 분리되지 않기 위해 형태소 분석기에 사용자 사전을 추가하기."
   ]
  },
  {
   "cell_type": "code",
   "execution_count": 37,
   "id": "4b701f1b",
   "metadata": {
    "scrolled": true
   },
   "outputs": [
    {
     "name": "stdout",
     "output_type": "stream",
     "text": [
      "Collecting customized_konlpy\n",
      "  Downloading customized_konlpy-0.0.64-py3-none-any.whl (881 kB)\n",
      "Requirement already satisfied: Jpype1>=0.6.1 in c:\\users\\tfx5075g\\anaconda3\\lib\\site-packages (from customized_konlpy) (1.3.0)\n",
      "Requirement already satisfied: konlpy>=0.4.4 in c:\\users\\tfx5075g\\anaconda3\\lib\\site-packages (from customized_konlpy) (0.5.2)\n",
      "Requirement already satisfied: tweepy>=3.7.0 in c:\\users\\tfx5075g\\anaconda3\\lib\\site-packages (from konlpy>=0.4.4->customized_konlpy) (3.10.0)\n",
      "Requirement already satisfied: colorama in c:\\users\\tfx5075g\\anaconda3\\lib\\site-packages (from konlpy>=0.4.4->customized_konlpy) (0.4.4)\n",
      "Requirement already satisfied: beautifulsoup4==4.6.0 in c:\\users\\tfx5075g\\anaconda3\\lib\\site-packages (from konlpy>=0.4.4->customized_konlpy) (4.6.0)\n",
      "Requirement already satisfied: numpy>=1.6 in c:\\users\\tfx5075g\\anaconda3\\lib\\site-packages (from konlpy>=0.4.4->customized_konlpy) (1.20.3)\n",
      "Requirement already satisfied: lxml>=4.1.0 in c:\\users\\tfx5075g\\anaconda3\\lib\\site-packages (from konlpy>=0.4.4->customized_konlpy) (4.6.3)\n",
      "Requirement already satisfied: requests[socks]>=2.11.1 in c:\\users\\tfx5075g\\anaconda3\\lib\\site-packages (from tweepy>=3.7.0->konlpy>=0.4.4->customized_konlpy) (2.25.1)\n",
      "Requirement already satisfied: requests-oauthlib>=0.7.0 in c:\\users\\tfx5075g\\anaconda3\\lib\\site-packages (from tweepy>=3.7.0->konlpy>=0.4.4->customized_konlpy) (1.3.0)\n",
      "Requirement already satisfied: six>=1.10.0 in c:\\users\\tfx5075g\\anaconda3\\lib\\site-packages (from tweepy>=3.7.0->konlpy>=0.4.4->customized_konlpy) (1.15.0)\n",
      "Requirement already satisfied: oauthlib>=3.0.0 in c:\\users\\tfx5075g\\anaconda3\\lib\\site-packages (from requests-oauthlib>=0.7.0->tweepy>=3.7.0->konlpy>=0.4.4->customized_konlpy) (3.1.1)\n",
      "Requirement already satisfied: idna<3,>=2.5 in c:\\users\\tfx5075g\\anaconda3\\lib\\site-packages (from requests[socks]>=2.11.1->tweepy>=3.7.0->konlpy>=0.4.4->customized_konlpy) (2.10)\n",
      "Requirement already satisfied: urllib3<1.27,>=1.21.1 in c:\\users\\tfx5075g\\anaconda3\\lib\\site-packages (from requests[socks]>=2.11.1->tweepy>=3.7.0->konlpy>=0.4.4->customized_konlpy) (1.26.6)\n",
      "Requirement already satisfied: certifi>=2017.4.17 in c:\\users\\tfx5075g\\anaconda3\\lib\\site-packages (from requests[socks]>=2.11.1->tweepy>=3.7.0->konlpy>=0.4.4->customized_konlpy) (2021.5.30)\n",
      "Requirement already satisfied: chardet<5,>=3.0.2 in c:\\users\\tfx5075g\\anaconda3\\lib\\site-packages (from requests[socks]>=2.11.1->tweepy>=3.7.0->konlpy>=0.4.4->customized_konlpy) (4.0.0)\n",
      "Requirement already satisfied: PySocks!=1.5.7,>=1.5.6 in c:\\users\\tfx5075g\\anaconda3\\lib\\site-packages (from requests[socks]>=2.11.1->tweepy>=3.7.0->konlpy>=0.4.4->customized_konlpy) (1.7.1)\n",
      "Installing collected packages: customized-konlpy\n",
      "Successfully installed customized-konlpy-0.0.64\n"
     ]
    }
   ],
   "source": [
    "#!pip install customized_konlpy"
   ]
  },
  {
   "cell_type": "markdown",
   "id": "e51024c1",
   "metadata": {},
   "source": [
    "customized_konlpy의 형태소 분석기 Twitter를 이용한 토큰화"
   ]
  },
  {
   "cell_type": "code",
   "execution_count": 38,
   "id": "caa0cca7",
   "metadata": {},
   "outputs": [
    {
     "name": "stderr",
     "output_type": "stream",
     "text": [
      "c:\\users\\tfx5075g\\anaconda3\\lib\\site-packages\\konlpy\\tag\\_okt.py:16: UserWarning: \"Twitter\" has changed to \"Okt\" since KoNLPy v0.4.5.\n",
      "  warn('\"Twitter\" has changed to \"Okt\" since KoNLPy v0.4.5.')\n"
     ]
    },
    {
     "data": {
      "text/plain": [
       "['은', '경이', '는', '사무실', '로', '갔습니다', '.']"
      ]
     },
     "execution_count": 38,
     "metadata": {},
     "output_type": "execute_result"
    }
   ],
   "source": [
    "from ckonlpy.tag import Twitter\n",
    "twitter = Twitter()\n",
    "twitter.morphs('은경이는 사무실로 갔습니다.')"
   ]
  },
  {
   "cell_type": "markdown",
   "id": "60ca7155",
   "metadata": {},
   "source": [
    "이름인 은경이가 '은', '경이'로 분리됨 => 형태소 분석기에 add_dictionary('단어', '품사') 형식으로 사전을 추가한다!"
   ]
  },
  {
   "cell_type": "code",
   "execution_count": 39,
   "id": "cc1af60c",
   "metadata": {},
   "outputs": [],
   "source": [
    "twitter.add_dictionary(\"은경이\", \"Noun\")"
   ]
  },
  {
   "cell_type": "code",
   "execution_count": 40,
   "id": "7a48e8d5",
   "metadata": {},
   "outputs": [
    {
     "data": {
      "text/plain": [
       "['은경이', '는', '사무실', '로', '갔습니다', '.']"
      ]
     },
     "execution_count": 40,
     "metadata": {},
     "output_type": "execute_result"
    }
   ],
   "source": [
    "twitter.morphs('은경이는 사무실로 갔습니다.')"
   ]
  },
  {
   "cell_type": "markdown",
   "id": "1b96bb4b",
   "metadata": {},
   "source": [
    "=> 이제 하나의 토큰으로 인식한다"
   ]
  }
 ],
 "metadata": {
  "kernelspec": {
   "display_name": "Python 3 (ipykernel)",
   "language": "python",
   "name": "python3"
  },
  "language_info": {
   "codemirror_mode": {
    "name": "ipython",
    "version": 3
   },
   "file_extension": ".py",
   "mimetype": "text/x-python",
   "name": "python",
   "nbconvert_exporter": "python",
   "pygments_lexer": "ipython3",
   "version": "3.8.10"
  }
 },
 "nbformat": 4,
 "nbformat_minor": 5
}
