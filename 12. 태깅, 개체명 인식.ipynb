{
 "cells": [
  {
   "cell_type": "markdown",
   "id": "5316eda9",
   "metadata": {},
   "source": [
    "### 양방향 LSTM을 이용한 품사 태깅"
   ]
  },
  {
   "cell_type": "code",
   "execution_count": 1,
   "id": "b1a1fa24",
   "metadata": {},
   "outputs": [],
   "source": [
    "import nltk\n",
    "import numpy as np\n",
    "import matplotlib.pyplot as plt\n",
    "from tensorflow.keras.preprocessing.text import Tokenizer\n",
    "from tensorflow.keras.preprocessing.sequence import pad_sequences\n",
    "from tensorflow.keras.utils import to_categorical\n",
    "from sklearn.model_selection import train_test_split"
   ]
  },
  {
   "cell_type": "code",
   "execution_count": 2,
   "id": "37390296",
   "metadata": {},
   "outputs": [
    {
     "name": "stdout",
     "output_type": "stream",
     "text": [
      "품사 태깅이 된 문장 개수:  3914\n"
     ]
    }
   ],
   "source": [
    "# nltk를 통해 영어 코퍼스에 토큰화와 품사 태깅 전처리가 진행된 문장 데이터 받아오기\n",
    "tagged_sentences = nltk.corpus.treebank.tagged_sents()\n",
    "print(\"품사 태깅이 된 문장 개수: \", len(tagged_sentences))"
   ]
  },
  {
   "cell_type": "code",
   "execution_count": 3,
   "id": "89fac8df",
   "metadata": {},
   "outputs": [
    {
     "name": "stdout",
     "output_type": "stream",
     "text": [
      "[('Pierre', 'NNP'), ('Vinken', 'NNP'), (',', ','), ('61', 'CD'), ('years', 'NNS'), ('old', 'JJ'), (',', ','), ('will', 'MD'), ('join', 'VB'), ('the', 'DT'), ('board', 'NN'), ('as', 'IN'), ('a', 'DT'), ('nonexecutive', 'JJ'), ('director', 'NN'), ('Nov.', 'NNP'), ('29', 'CD'), ('.', '.')]\n"
     ]
    }
   ],
   "source": [
    "print(tagged_sentences[0])"
   ]
  },
  {
   "cell_type": "code",
   "execution_count": 9,
   "id": "68a1d338",
   "metadata": {},
   "outputs": [],
   "source": [
    "# 단어는 단어끼리, 태깅은 태깅끼리 저장 -> zip 함수 사용\n",
    "sentences, pos_tags = [], [] \n",
    "for tagged_sentence in tagged_sentences:\n",
    "    sentence, tag_info = zip(*tagged_sentence) #tagged_sentence 내 각각의 0번째는 sentence에 1번째는 tag_info에 저장\n",
    "    sentences.append(list(sentence))\n",
    "    pos_tags.append(list(tag_info))"
   ]
  },
  {
   "cell_type": "code",
   "execution_count": 10,
   "id": "856dcc30",
   "metadata": {},
   "outputs": [
    {
     "name": "stdout",
     "output_type": "stream",
     "text": [
      "['Pierre', 'Vinken', ',', '61', 'years', 'old', ',', 'will', 'join', 'the', 'board', 'as', 'a', 'nonexecutive', 'director', 'Nov.', '29', '.']\n",
      "['NNP', 'NNP', ',', 'CD', 'NNS', 'JJ', ',', 'MD', 'VB', 'DT', 'NN', 'IN', 'DT', 'JJ', 'NN', 'NNP', 'CD', '.']\n"
     ]
    }
   ],
   "source": [
    "print(sentences[0])\n",
    "print(pos_tags[0])"
   ]
  },
  {
   "cell_type": "code",
   "execution_count": 11,
   "id": "7a2ce7b1",
   "metadata": {},
   "outputs": [
    {
     "name": "stdout",
     "output_type": "stream",
     "text": [
      "['Mr.', 'Vinken', 'is', 'chairman', 'of', 'Elsevier', 'N.V.', ',', 'the', 'Dutch', 'publishing', 'group', '.']\n",
      "['NNP', 'NNP', 'VBZ', 'NN', 'IN', 'NNP', 'NNP', ',', 'DT', 'NNP', 'VBG', 'NN', '.']\n"
     ]
    }
   ],
   "source": [
    "print(sentences[1])\n",
    "print(pos_tags[1])"
   ]
  },
  {
   "cell_type": "code",
   "execution_count": 12,
   "id": "947e31c2",
   "metadata": {},
   "outputs": [
    {
     "name": "stdout",
     "output_type": "stream",
     "text": [
      "샘플의 최대 길이 : 271\n",
      "샘플의 평균 길이 : 25.722024\n"
     ]
    },
    {
     "data": {
      "image/png": "[encoded data removed]",
      "text/plain": [
       "<Figure size 300x300 with 1 Axes>"
      ]
     },
     "metadata": {},
     "output_type": "display_data"
    }
   ],
   "source": [
    "print('샘플의 최대 길이 : %d' % max(len(l) for l in sentences))\n",
    "print('샘플의 평균 길이 : %f' % (sum(map(len, sentences))/len(sentences)))\n",
    "plt.figure(figsize=(3, 3))\n",
    "plt.hist([len(s) for s in sentences], bins=50)\n",
    "plt.xlabel('length of samples')\n",
    "plt.ylabel('number of samples')\n",
    "plt.show()"
   ]
  },
  {
   "cell_type": "markdown",
   "id": "9f7a0bcc",
   "metadata": {},
   "source": [
    "#### 정수 인코딩"
   ]
  },
  {
   "cell_type": "code",
   "execution_count": 13,
   "id": "bc7610e1",
   "metadata": {},
   "outputs": [],
   "source": [
    "# 토크나이저 함수\n",
    "def tokenize(samples):\n",
    "    tokenizer = Tokenizer()\n",
    "    tokenizer.fit_on_texts(samples)\n",
    "    return tokenizer\n",
    "\n",
    "src_tokenizer = tokenize(sentences)  # 문장 데이터 tokenize\n",
    "tar_tokenizer = tokenize(pos_tags)   # 품사 태깅 정보 데이터 tokenize"
   ]
  },
  {
   "cell_type": "code",
   "execution_count": 16,
   "id": "72a3e27b",
   "metadata": {},
   "outputs": [
    {
     "data": {
      "text/plain": [
       "{',': 1,\n",
       " 'the': 2,\n",
       " '.': 3,\n",
       " 'of': 4,\n",
       " 'to': 5,\n",
       " 'a': 6,\n",
       " 'in': 7,\n",
       " 'and': 8,\n",
       " '*-1': 9,\n",
       " '0': 10,\n",
       " '*': 11,\n",
       " \"'s\": 12,\n",
       " 'for': 13,\n",
       " 'that': 14,\n",
       " '*t*-1': 15,\n",
       " '*u*': 16,\n",
       " '$': 17,\n",
       " '``': 18,\n",
       " \"''\": 19,\n",
       " 'is': 20,\n",
       " 'said': 21,\n",
       " 'it': 22,\n",
       " 'on': 23,\n",
       " '%': 24,\n",
       " 'by': 25,\n",
       " 'at': 26,\n",
       " 'as': 27,\n",
       " 'with': 28,\n",
       " 'from': 29,\n",
       " 'million': 30,\n",
       " 'mr.': 31,\n",
       " '*-2': 32,\n",
       " 'are': 33,\n",
       " 'was': 34,\n",
       " 'be': 35,\n",
       " '*t*-2': 36,\n",
       " 'its': 37,\n",
       " 'has': 38,\n",
       " 'an': 39,\n",
       " 'new': 40,\n",
       " 'have': 41,\n",
       " \"n't\": 42,\n",
       " 'but': 43,\n",
       " 'he': 44,\n",
       " 'or': 45,\n",
       " 'will': 46,\n",
       " 'they': 47,\n",
       " 'company': 48,\n",
       " '--': 49,\n",
       " 'which': 50,\n",
       " 'this': 51,\n",
       " 'u.s.': 52,\n",
       " 'says': 53,\n",
       " 'year': 54,\n",
       " 'about': 55,\n",
       " 'would': 56,\n",
       " 'more': 57,\n",
       " 'were': 58,\n",
       " 'market': 59,\n",
       " 'their': 60,\n",
       " 'than': 61,\n",
       " 'stock': 62,\n",
       " ';': 63,\n",
       " 'who': 64,\n",
       " 'trading': 65,\n",
       " 'had': 66,\n",
       " 'also': 67,\n",
       " 'president': 68,\n",
       " 'billion': 69,\n",
       " 'up': 70,\n",
       " 'one': 71,\n",
       " 'been': 72,\n",
       " 'some': 73,\n",
       " ':': 74,\n",
       " 'other': 75,\n",
       " 'not': 76,\n",
       " 'program': 77,\n",
       " '*-3': 78,\n",
       " 'his': 79,\n",
       " 'because': 80,\n",
       " 'if': 81,\n",
       " 'could': 82,\n",
       " 'share': 83,\n",
       " 'corp.': 84,\n",
       " 'all': 85,\n",
       " 'years': 86,\n",
       " 'i': 87,\n",
       " 'first': 88,\n",
       " 'shares': 89,\n",
       " '-rrb-': 90,\n",
       " 'two': 91,\n",
       " 'any': 92,\n",
       " 'york': 93,\n",
       " '-lrb-': 94,\n",
       " 'last': 95,\n",
       " 'there': 96,\n",
       " 'many': 97,\n",
       " 'no': 98,\n",
       " 'such': 99,\n",
       " 'when': 100,\n",
       " 'she': 101,\n",
       " 'inc.': 102,\n",
       " '*t*-3': 103,\n",
       " 'we': 104,\n",
       " 'can': 105,\n",
       " 'you': 106,\n",
       " 'so': 107,\n",
       " 'japanese': 108,\n",
       " 'after': 109,\n",
       " 'do': 110,\n",
       " 'prices': 111,\n",
       " 'into': 112,\n",
       " 'government': 113,\n",
       " '&': 114,\n",
       " 'business': 115,\n",
       " 'over': 116,\n",
       " 'most': 117,\n",
       " 'only': 118,\n",
       " 'may': 119,\n",
       " 'sales': 120,\n",
       " 'out': 121,\n",
       " 'these': 122,\n",
       " 'even': 123,\n",
       " 'federal': 124,\n",
       " 'say': 125,\n",
       " 'japan': 126,\n",
       " 'make': 127,\n",
       " 'co.': 128,\n",
       " 'under': 129,\n",
       " 'while': 130,\n",
       " 'board': 131,\n",
       " \"'\": 132,\n",
       " 'index': 133,\n",
       " 'recent': 134,\n",
       " 'big': 135,\n",
       " 'exchange': 136,\n",
       " 'price': 137,\n",
       " 'time': 138,\n",
       " 'what': 139,\n",
       " 'department': 140,\n",
       " 'futures': 141,\n",
       " 'now': 142,\n",
       " '*ich*-1': 143,\n",
       " 'them': 144,\n",
       " 'cents': 145,\n",
       " 'bank': 146,\n",
       " 'group': 147,\n",
       " 'investors': 148,\n",
       " 'stocks': 149,\n",
       " 'funds': 150,\n",
       " 'next': 151,\n",
       " 'executive': 152,\n",
       " 'yesterday': 153,\n",
       " 'american': 154,\n",
       " 'trade': 155,\n",
       " 'companies': 156,\n",
       " 'profit': 157,\n",
       " 'investment': 158,\n",
       " 'much': 159,\n",
       " 'people': 160,\n",
       " 'house': 161,\n",
       " 'like': 162,\n",
       " 'did': 163,\n",
       " 'those': 164,\n",
       " 'rose': 165,\n",
       " 'bonds': 166,\n",
       " 'october': 167,\n",
       " 'common': 168,\n",
       " 'money': 169,\n",
       " 'securities': 170,\n",
       " 'issue': 171,\n",
       " 'months': 172,\n",
       " 'financial': 173,\n",
       " 'mrs.': 174,\n",
       " 'markets': 175,\n",
       " 'net': 176,\n",
       " 'chairman': 177,\n",
       " 'down': 178,\n",
       " 'made': 179,\n",
       " 'week': 180,\n",
       " 'since': 181,\n",
       " 'yen': 182,\n",
       " 'buy': 183,\n",
       " 'her': 184,\n",
       " 'research': 185,\n",
       " 'does': 186,\n",
       " 'take': 187,\n",
       " 'banks': 188,\n",
       " 'interest': 189,\n",
       " 'high': 190,\n",
       " 'three': 191,\n",
       " 'expected': 192,\n",
       " 'higher': 193,\n",
       " 'rates': 194,\n",
       " 'earlier': 195,\n",
       " 'days': 196,\n",
       " 'international': 197,\n",
       " 'chief': 198,\n",
       " '10': 199,\n",
       " 'before': 200,\n",
       " 'officials': 201,\n",
       " 'plan': 202,\n",
       " 'traders': 203,\n",
       " 'own': 204,\n",
       " 'yield': 205,\n",
       " 'report': 206,\n",
       " 'another': 207,\n",
       " 'just': 208,\n",
       " '30': 209,\n",
       " 'debt': 210,\n",
       " 'country': 211,\n",
       " 'offer': 212,\n",
       " 'court': 213,\n",
       " 'get': 214,\n",
       " 'tuesday': 215,\n",
       " 'well': 216,\n",
       " 'congress': 217,\n",
       " 'economic': 218,\n",
       " 'state': 219,\n",
       " '50': 220,\n",
       " 'each': 221,\n",
       " 'small': 222,\n",
       " 'major': 223,\n",
       " 'sell': 224,\n",
       " 'number': 225,\n",
       " '*?*': 226,\n",
       " 'rate': 227,\n",
       " 'vice': 228,\n",
       " 'industry': 229,\n",
       " 'off': 230,\n",
       " '1988': 231,\n",
       " 'among': 232,\n",
       " 'still': 233,\n",
       " 'both': 234,\n",
       " 'might': 235,\n",
       " 'month': 236,\n",
       " 'bush': 237,\n",
       " 'chicago': 238,\n",
       " 'early': 239,\n",
       " 'cash': 240,\n",
       " 'during': 241,\n",
       " '1990': 242,\n",
       " 'growth': 243,\n",
       " '1': 244,\n",
       " 'help': 245,\n",
       " 'income': 246,\n",
       " 'test': 247,\n",
       " 'according': 248,\n",
       " 'average': 249,\n",
       " 'treasury': 250,\n",
       " 'capital': 251,\n",
       " 'good': 252,\n",
       " 'through': 253,\n",
       " 'september': 254,\n",
       " '15': 255,\n",
       " 'concern': 256,\n",
       " 'street': 257,\n",
       " 'fiscal': 258,\n",
       " 'south': 259,\n",
       " 'pay': 260,\n",
       " 'investor': 261,\n",
       " 'law': 262,\n",
       " 'due': 263,\n",
       " 'managers': 264,\n",
       " '1989': 265,\n",
       " 'added': 266,\n",
       " 'less': 267,\n",
       " 'earnings': 268,\n",
       " '100': 269,\n",
       " 'firm': 270,\n",
       " 'part': 271,\n",
       " '?': 272,\n",
       " 'issues': 273,\n",
       " 'sold': 274,\n",
       " 'including': 275,\n",
       " 'use': 276,\n",
       " 'spokesman': 277,\n",
       " 'analysts': 278,\n",
       " 'ago': 279,\n",
       " 'should': 280,\n",
       " '500': 281,\n",
       " 'several': 282,\n",
       " 'reported': 283,\n",
       " 'contract': 284,\n",
       " 'same': 285,\n",
       " 'world': 286,\n",
       " 'wall': 287,\n",
       " 'school': 288,\n",
       " 'yeargin': 289,\n",
       " 'columbia': 290,\n",
       " 'unit': 291,\n",
       " 'where': 292,\n",
       " 'until': 293,\n",
       " 'plans': 294,\n",
       " 'between': 295,\n",
       " 'bid': 296,\n",
       " 'already': 297,\n",
       " 'cray': 298,\n",
       " 'computer': 299,\n",
       " '8': 300,\n",
       " 'right': 301,\n",
       " 'bill': 302,\n",
       " 'quarter': 303,\n",
       " 'few': 304,\n",
       " 'general': 305,\n",
       " 'without': 306,\n",
       " 'however': 307,\n",
       " 'against': 308,\n",
       " 'firms': 309,\n",
       " 'administration': 310,\n",
       " 's&p': 311,\n",
       " 'products': 312,\n",
       " '*-4': 313,\n",
       " '*ich*-2': 314,\n",
       " 'current': 315,\n",
       " 'management': 316,\n",
       " 'then': 317,\n",
       " '*rnr*-1': 318,\n",
       " 'service': 319,\n",
       " 'public': 320,\n",
       " 'john': 321,\n",
       " 'being': 322,\n",
       " 'used': 323,\n",
       " 'paper': 324,\n",
       " 'far': 325,\n",
       " 'city': 326,\n",
       " 'below': 327,\n",
       " 'compared': 328,\n",
       " '*exp*-1': 329,\n",
       " 'notes': 330,\n",
       " 'old': 331,\n",
       " 'director': 332,\n",
       " 'fell': 333,\n",
       " 'began': 334,\n",
       " 'officer': 335,\n",
       " 'loss': 336,\n",
       " '1987': 337,\n",
       " 'national': 338,\n",
       " 'very': 339,\n",
       " 'operations': 340,\n",
       " 'based': 341,\n",
       " 'association': 342,\n",
       " 'corporate': 343,\n",
       " 'end': 344,\n",
       " 'increase': 345,\n",
       " 'lower': 346,\n",
       " 'six': 347,\n",
       " 'construction': 348,\n",
       " 'health': 349,\n",
       " 'students': 350,\n",
       " 'points': 351,\n",
       " 'problem': 352,\n",
       " 'five': 353,\n",
       " 'though': 354,\n",
       " 'news': 355,\n",
       " '2': 356,\n",
       " 'demand': 357,\n",
       " 'way': 358,\n",
       " 'around': 359,\n",
       " 'closed': 360,\n",
       " 'record': 361,\n",
       " 'orders': 362,\n",
       " 'charge': 363,\n",
       " 'your': 364,\n",
       " 'services': 365,\n",
       " 'junk': 366,\n",
       " \"'re\": 367,\n",
       " 'information': 368,\n",
       " 'whether': 369,\n",
       " 'university': 370,\n",
       " 'large': 371,\n",
       " 'point': 372,\n",
       " 'sale': 373,\n",
       " 'ad': 374,\n",
       " 'past': 375,\n",
       " 'set': 376,\n",
       " 'case': 377,\n",
       " 'want': 378,\n",
       " 'foreign': 379,\n",
       " 'see': 380,\n",
       " 'bond': 381,\n",
       " 'today': 382,\n",
       " 'us': 383,\n",
       " 'took': 384,\n",
       " 'maker': 385,\n",
       " 'return': 386,\n",
       " 'long': 387,\n",
       " 'largest': 388,\n",
       " 'close': 389,\n",
       " 'problems': 390,\n",
       " 'little': 391,\n",
       " 'cut': 392,\n",
       " 'london': 393,\n",
       " 'how': 394,\n",
       " 'safety': 395,\n",
       " '3\\\\/4': 396,\n",
       " 'although': 397,\n",
       " 'work': 398,\n",
       " 'example': 399,\n",
       " 'currently': 400,\n",
       " 'manager': 401,\n",
       " 'economy': 402,\n",
       " 'offered': 403,\n",
       " 'spending': 404,\n",
       " '1\\\\/2': 405,\n",
       " 'action': 406,\n",
       " 'finance': 407,\n",
       " 'analyst': 408,\n",
       " 'campbell': 409,\n",
       " 'appropriations': 410,\n",
       " 'our': 411,\n",
       " 'recently': 412,\n",
       " 'total': 413,\n",
       " 'force': 414,\n",
       " 'back': 415,\n",
       " 'future': 416,\n",
       " 'costs': 417,\n",
       " 'move': 418,\n",
       " 'operating': 419,\n",
       " 'purchase': 420,\n",
       " 'power': 421,\n",
       " 'additional': 422,\n",
       " 'priced': 423,\n",
       " 'terms': 424,\n",
       " 'certain': 425,\n",
       " 'offering': 426,\n",
       " 'members': 427,\n",
       " '13': 428,\n",
       " 'union': 429,\n",
       " 'contracts': 430,\n",
       " 'materials': 431,\n",
       " 'commercial': 432,\n",
       " 'california': 433,\n",
       " 'suspension': 434,\n",
       " 'industrial': 435,\n",
       " 'fund': 436,\n",
       " 'ended': 437,\n",
       " 'period': 438,\n",
       " 'despite': 439,\n",
       " 'approved': 440,\n",
       " 'division': 441,\n",
       " '20': 442,\n",
       " 'nation': 443,\n",
       " 'fall': 444,\n",
       " 'fine': 445,\n",
       " 'value': 446,\n",
       " 'come': 447,\n",
       " 'noted': 448,\n",
       " 'possible': 449,\n",
       " 'strong': 450,\n",
       " 'china': 451,\n",
       " 'put': 452,\n",
       " 'often': 453,\n",
       " 'oct.': 454,\n",
       " 'committee': 455,\n",
       " 'low': 456,\n",
       " 'think': 457,\n",
       " 'volume': 458,\n",
       " 'nov.': 459,\n",
       " 'day': 460,\n",
       " 'fees': 461,\n",
       " 'savings': 462,\n",
       " 'manufacturing': 463,\n",
       " 'credit': 464,\n",
       " 'too': 465,\n",
       " 'commission': 466,\n",
       " 'robert': 467,\n",
       " 'local': 468,\n",
       " 'customers': 469,\n",
       " 'dealers': 470,\n",
       " 'least': 471,\n",
       " '40': 472,\n",
       " 'result': 473,\n",
       " 'office': 474,\n",
       " 'stake': 475,\n",
       " 'dividend': 476,\n",
       " 'tokyo': 477,\n",
       " 'family': 478,\n",
       " 'insurance': 479,\n",
       " 'programs': 480,\n",
       " 'ringers': 481,\n",
       " 'arbitrage': 482,\n",
       " 'named': 483,\n",
       " 'england': 484,\n",
       " '*t*-4': 485,\n",
       " 'found': 486,\n",
       " 'almost': 487,\n",
       " 'holding': 488,\n",
       " 'legislation': 489,\n",
       " 'william': 490,\n",
       " 'increased': 491,\n",
       " 'magazine': 492,\n",
       " 'washington': 493,\n",
       " 'become': 494,\n",
       " 'yet': 495,\n",
       " 'judge': 496,\n",
       " '12': 497,\n",
       " 'development': 498,\n",
       " 'addition': 499,\n",
       " 'face': 500,\n",
       " 'half': 501,\n",
       " 'growing': 502,\n",
       " 'oil': 503,\n",
       " 'here': 504,\n",
       " 'voice': 505,\n",
       " 'loan': 506,\n",
       " 'takeover': 507,\n",
       " 'georgia': 508,\n",
       " 'card': 509,\n",
       " 'volatility': 510,\n",
       " 'veto': 511,\n",
       " 'sugar': 512,\n",
       " 'usx': 513,\n",
       " 'workers': 514,\n",
       " 'latest': 515,\n",
       " 'results': 516,\n",
       " 'likely': 517,\n",
       " 'james': 518,\n",
       " 'different': 519,\n",
       " 'countries': 520,\n",
       " 'support': 521,\n",
       " 'agency': 522,\n",
       " 'go': 523,\n",
       " 'acquisition': 524,\n",
       " 'trying': 525,\n",
       " 'gains': 526,\n",
       " 'system': 527,\n",
       " 'proposed': 528,\n",
       " 'banking': 529,\n",
       " 'received': 530,\n",
       " 'estimated': 531,\n",
       " 'march': 532,\n",
       " 'weeks': 533,\n",
       " 'cases': 534,\n",
       " 'ii': 535,\n",
       " 'production': 536,\n",
       " 'level': 537,\n",
       " 'payments': 538,\n",
       " 'private': 539,\n",
       " 'declined': 540,\n",
       " 'change': 541,\n",
       " 'great': 542,\n",
       " 'questions': 543,\n",
       " 'stock-index': 544,\n",
       " 'four': 545,\n",
       " 'plant': 546,\n",
       " 'dividends': 547,\n",
       " 'raise': 548,\n",
       " 'act': 549,\n",
       " 'senior': 550,\n",
       " 'held': 551,\n",
       " 'give': 552,\n",
       " 'full': 553,\n",
       " 'decline': 554,\n",
       " 'edison': 555,\n",
       " 'every': 556,\n",
       " 'came': 557,\n",
       " 'product': 558,\n",
       " 'home': 559,\n",
       " 'outstanding': 560,\n",
       " 'buying': 561,\n",
       " 'rise': 562,\n",
       " 'never': 563,\n",
       " 'proposal': 564,\n",
       " 'funding': 565,\n",
       " 'transactions': 566,\n",
       " 'america': 567,\n",
       " 'wine': 568,\n",
       " '15,000': 569,\n",
       " 'limit': 570,\n",
       " 'trades': 571,\n",
       " 'hahn': 572,\n",
       " 'corn': 573,\n",
       " 'making': 574,\n",
       " 'times': 575,\n",
       " 'place': 576,\n",
       " 'bills': 577,\n",
       " 'continue': 578,\n",
       " 'shareholders': 579,\n",
       " 'transaction': 580,\n",
       " 'official': 581,\n",
       " 'political': 582,\n",
       " '3': 583,\n",
       " 'called': 584,\n",
       " 'paid': 585,\n",
       " 'rights': 586,\n",
       " 'white': 587,\n",
       " 'designed': 588,\n",
       " '7': 589,\n",
       " 'late': 590,\n",
       " 'talks': 591,\n",
       " 'lead': 592,\n",
       " 'going': 593,\n",
       " 'employees': 594,\n",
       " 'deal': 595,\n",
       " 'rep.': 596,\n",
       " 'my': 597,\n",
       " 'dow': 598,\n",
       " 'jones': 599,\n",
       " 'gulf': 600,\n",
       " 'bells': 601,\n",
       " 'former': 602,\n",
       " 'further': 603,\n",
       " 'institutions': 604,\n",
       " 'assets': 605,\n",
       " 'ltd.': 606,\n",
       " 'expects': 607,\n",
       " 'senate': 608,\n",
       " 'decision': 609,\n",
       " 'executives': 610,\n",
       " 'food': 611,\n",
       " 'cars': 612,\n",
       " 'korea': 613,\n",
       " '5': 614,\n",
       " 'drop': 615,\n",
       " 'united': 616,\n",
       " 'seeking': 617,\n",
       " 'commerce': 618,\n",
       " 'order': 619,\n",
       " 'amount': 620,\n",
       " 'previous': 621,\n",
       " 'comment': 622,\n",
       " 'enough': 623,\n",
       " 'restructuring': 624,\n",
       " 'above': 625,\n",
       " 'better': 626,\n",
       " 'soviet': 627,\n",
       " 'must': 628,\n",
       " 'life': 629,\n",
       " 'industries': 630,\n",
       " 'gain': 631,\n",
       " 'pressure': 632,\n",
       " 'wo': 633,\n",
       " 'san': 634,\n",
       " 'inc': 635,\n",
       " 'express': 636,\n",
       " 'publishing': 637,\n",
       " 'form': 638,\n",
       " 'once': 639,\n",
       " 'a.': 640,\n",
       " 'team': 641,\n",
       " '18': 642,\n",
       " 'standard': 643,\n",
       " 'particularly': 644,\n",
       " 'investments': 645,\n",
       " 'august': 646,\n",
       " 'reached': 647,\n",
       " '9': 648,\n",
       " 'dollar': 649,\n",
       " 'thrift': 650,\n",
       " 'free': 651,\n",
       " 'second': 652,\n",
       " 'increasing': 653,\n",
       " 'saying': 654,\n",
       " 'equity': 655,\n",
       " 'got': 656,\n",
       " 'owns': 657,\n",
       " 'composite': 658,\n",
       " 'performance': 659,\n",
       " 'control': 660,\n",
       " '1991': 661,\n",
       " 'rather': 662,\n",
       " 'acquired': 663,\n",
       " 'clients': 664,\n",
       " 'purchasing': 665,\n",
       " 'survey': 666,\n",
       " 'run': 667,\n",
       " 'conditions': 668,\n",
       " 'real': 669,\n",
       " 'job': 670,\n",
       " 'effect': 671,\n",
       " 'states': 672,\n",
       " 'need': 673,\n",
       " 'gained': 674,\n",
       " '10,000': 675,\n",
       " 'drug': 676,\n",
       " 'nixon': 677,\n",
       " 'fined': 678,\n",
       " 'wage': 679,\n",
       " 'farmers': 680,\n",
       " 'buick': 681,\n",
       " 'boston': 682,\n",
       " 'institute': 683,\n",
       " 'nations': 684,\n",
       " 'annual': 685,\n",
       " 'marketing': 686,\n",
       " 'steel': 687,\n",
       " 'away': 688,\n",
       " 'announced': 689,\n",
       " '11': 690,\n",
       " 'dec.': 691,\n",
       " '1985': 692,\n",
       " 'tax': 693,\n",
       " 'texas': 694,\n",
       " 'filed': 695,\n",
       " 'agreement': 696,\n",
       " 'became': 697,\n",
       " 'following': 698,\n",
       " 'dollars': 699,\n",
       " 'seek': 700,\n",
       " 'nearly': 701,\n",
       " 'agreed': 702,\n",
       " 'michael': 703,\n",
       " '6': 704,\n",
       " 'sector': 705,\n",
       " 'activity': 706,\n",
       " 'included': 707,\n",
       " 'important': 708,\n",
       " 'young': 709,\n",
       " 'charges': 710,\n",
       " 'campaign': 711,\n",
       " 'light': 712,\n",
       " 'containers': 713,\n",
       " 'package': 714,\n",
       " 'using': 715,\n",
       " 'led': 716,\n",
       " 'factory': 717,\n",
       " 'energy': 718,\n",
       " 'meeting': 719,\n",
       " 'decided': 720,\n",
       " 'wednesday': 721,\n",
       " '4': 722,\n",
       " 'keep': 723,\n",
       " 'cost': 724,\n",
       " '...': 725,\n",
       " 'increases': 726,\n",
       " 'r.': 727,\n",
       " '31': 728,\n",
       " 'poor': 729,\n",
       " 'disclosed': 730,\n",
       " 'him': 731,\n",
       " 'able': 732,\n",
       " 'posted': 733,\n",
       " 'principal': 734,\n",
       " 'computers': 735,\n",
       " 'data': 736,\n",
       " 'telephone': 737,\n",
       " 'shearson': 738,\n",
       " 'changes': 739,\n",
       " 'co': 740,\n",
       " 'traded': 741,\n",
       " 'find': 742,\n",
       " 'clear': 743,\n",
       " 'failed': 744,\n",
       " 'delivery': 745,\n",
       " 'article': 746,\n",
       " 'always': 747,\n",
       " 'tests': 748,\n",
       " 'women': 749,\n",
       " 'taken': 750,\n",
       " 'know': 751,\n",
       " 'lawyers': 752,\n",
       " 'region': 753,\n",
       " 'policy': 754,\n",
       " 'budget': 755,\n",
       " 'coming': 756,\n",
       " 'section': 757,\n",
       " \"'ve\": 758,\n",
       " 'third': 759,\n",
       " 'violations': 760,\n",
       " 'calif.': 761,\n",
       " 'sea': 762,\n",
       " 'car': 763,\n",
       " 'ford': 764,\n",
       " '#': 765,\n",
       " 'grain': 766,\n",
       " 'ual': 767,\n",
       " 'moody': 768,\n",
       " 'closely': 769,\n",
       " 'probably': 770,\n",
       " 'huge': 771,\n",
       " 'continued': 772,\n",
       " 'again': 773,\n",
       " 'd.': 774,\n",
       " 'completed': 775,\n",
       " 'j.': 776,\n",
       " 'special': 777,\n",
       " 'imports': 778,\n",
       " 'potential': 779,\n",
       " 'fact': 780,\n",
       " 'review': 781,\n",
       " 'consumer': 782,\n",
       " 'trucks': 783,\n",
       " 'hills': 784,\n",
       " '17': 785,\n",
       " 'reports': 786,\n",
       " 'personal': 787,\n",
       " 'built': 788,\n",
       " 'jobs': 789,\n",
       " 'via': 790,\n",
       " 'raised': 791,\n",
       " 'buy-out': 792,\n",
       " 'long-term': 793,\n",
       " 'asia': 794,\n",
       " 'defense': 795,\n",
       " 'needed': 796,\n",
       " 'mitsubishi': 797,\n",
       " 'across': 798,\n",
       " 'series': 799,\n",
       " 'ward': 800,\n",
       " 'things': 801,\n",
       " 'lost': 802,\n",
       " 'justice': 803,\n",
       " 'statement': 804,\n",
       " 'speculation': 805,\n",
       " 'st.': 806,\n",
       " 'wines': 807,\n",
       " 'nl': 808,\n",
       " 'phelan': 809,\n",
       " 'church': 810,\n",
       " '3\\\\/8': 811,\n",
       " 'researchers': 812,\n",
       " 'show': 813,\n",
       " 'later': 814,\n",
       " 'kind': 815,\n",
       " 'question': 816,\n",
       " 'short-term': 817,\n",
       " 'revenue': 818,\n",
       " 'previously': 819,\n",
       " 'fed': 820,\n",
       " 'paying': 821,\n",
       " 'matter': 822,\n",
       " 'holders': 823,\n",
       " 'commonwealth': 824,\n",
       " 'whose': 825,\n",
       " 'changed': 826,\n",
       " 'rule': 827,\n",
       " 'domestic': 828,\n",
       " 'financing': 829,\n",
       " 'working': 830,\n",
       " 'include': 831,\n",
       " 'believe': 832,\n",
       " 'receive': 833,\n",
       " 'why': 834,\n",
       " 'software': 835,\n",
       " '-lcb-': 836,\n",
       " '-rcb-': 837,\n",
       " 'aid': 838,\n",
       " 'continuing': 839,\n",
       " 'bad': 840,\n",
       " 'david': 841,\n",
       " 'significant': 842,\n",
       " 'wants': 843,\n",
       " 'capacity': 844,\n",
       " 'scheduled': 845,\n",
       " 'thomas': 846,\n",
       " 'conference': 847,\n",
       " 'went': 848,\n",
       " 'june': 849,\n",
       " 'regulators': 850,\n",
       " 'account': 851,\n",
       " 'available': 852,\n",
       " 'individual': 853,\n",
       " 'johnson': 854,\n",
       " 'meanwhile': 855,\n",
       " 'indicated': 856,\n",
       " 'generally': 857,\n",
       " 'building': 858,\n",
       " 'provide': 859,\n",
       " 'helped': 860,\n",
       " 'evidence': 861,\n",
       " 'short': 862,\n",
       " 'thing': 863,\n",
       " 'man': 864,\n",
       " 'something': 865,\n",
       " 'ms.': 866,\n",
       " 'line': 867,\n",
       " 'river': 868,\n",
       " 'planned': 869,\n",
       " 'look': 870,\n",
       " 'goes': 871,\n",
       " 'abortion': 872,\n",
       " 'teacher': 873,\n",
       " 'district': 874,\n",
       " 'told': 875,\n",
       " 'others': 876,\n",
       " 'parent': 877,\n",
       " 'cause': 878,\n",
       " 'pretax': 879,\n",
       " 'irs': 880,\n",
       " 'francisco': 881,\n",
       " 'care': 882,\n",
       " 'december': 883,\n",
       " 'minimum': 884,\n",
       " 'options': 885,\n",
       " 'u.k.': 886,\n",
       " 'apparently': 887,\n",
       " 'herald': 888,\n",
       " 'bell': 889,\n",
       " 'antitrust': 890,\n",
       " 'rating': 891,\n",
       " 'fields': 892,\n",
       " 'plc': 893,\n",
       " 'caused': 894,\n",
       " 'dr.': 895,\n",
       " 'study': 896,\n",
       " 'west': 897,\n",
       " 'western': 898,\n",
       " 'process': 899,\n",
       " 'continues': 900,\n",
       " 'authority': 901,\n",
       " 'dropped': 902,\n",
       " 'auto': 903,\n",
       " 'position': 904,\n",
       " 'nine': 905,\n",
       " 'showed': 906,\n",
       " 'advertising': 907,\n",
       " 'advertisers': 908,\n",
       " 'concerns': 909,\n",
       " '25': 910,\n",
       " 'ordered': 911,\n",
       " 'richard': 912,\n",
       " 'april': 913,\n",
       " 'ruling': 914,\n",
       " '*ich*-3': 915,\n",
       " '60': 916,\n",
       " 'fujitsu': 917,\n",
       " 'instead': 918,\n",
       " 'slow': 919,\n",
       " 'launched': 920,\n",
       " 'convertible': 921,\n",
       " 'preferred': 922,\n",
       " 'gives': 923,\n",
       " '70': 924,\n",
       " 'reduce': 925,\n",
       " 'organization': 926,\n",
       " '90': 927,\n",
       " 'key': 928,\n",
       " 'anything': 929,\n",
       " 'crash': 930,\n",
       " 'traditional': 931,\n",
       " 'soon': 932,\n",
       " \"'m\": 933,\n",
       " 'levels': 934,\n",
       " 'quickly': 935,\n",
       " 'legal': 936,\n",
       " 'goods': 937,\n",
       " 'leading': 938,\n",
       " 'export': 939,\n",
       " 'mark': 940,\n",
       " 'strike': 941,\n",
       " 'sony': 942,\n",
       " 'partners': 943,\n",
       " 'stores': 944,\n",
       " 'daily': 945,\n",
       " 'newspaper': 946,\n",
       " 'homeless': 947,\n",
       " 'person': 948,\n",
       " 'situation': 949,\n",
       " 'wanted': 950,\n",
       " 'known': 951,\n",
       " 'transportation': 952,\n",
       " 'remains': 953,\n",
       " 'greenville': 954,\n",
       " 'carolina': 955,\n",
       " 'alleged': 956,\n",
       " 'scoring': 957,\n",
       " 'advanced': 958,\n",
       " '7\\\\/8': 959,\n",
       " '5\\\\/8': 960,\n",
       " 'third-quarter': 961,\n",
       " 'losses': 962,\n",
       " 'sept.': 963,\n",
       " 'profits': 964,\n",
       " 'buyers': 965,\n",
       " 'los': 966,\n",
       " 'within': 967,\n",
       " 'departure': 968,\n",
       " 'airline': 969,\n",
       " 'hearst': 970,\n",
       " 'pence': 971,\n",
       " 'drexel': 972,\n",
       " 'wedtech': 973,\n",
       " 'having': 974,\n",
       " 'neither': 975,\n",
       " 'nor': 976,\n",
       " 'risk': 977,\n",
       " 'ban': 978,\n",
       " 'sign': 979,\n",
       " 'monday': 980,\n",
       " 'top': 981,\n",
       " 'overseas': 982,\n",
       " 'corp': 983,\n",
       " 'makers': 984,\n",
       " 'valley': 985,\n",
       " 'followed': 986,\n",
       " 'figures': 987,\n",
       " 'exports': 988,\n",
       " 'remain': 989,\n",
       " 'january': 990,\n",
       " 'meet': 991,\n",
       " 'risks': 992,\n",
       " 'hard': 993,\n",
       " 'jr.': 994,\n",
       " 'electronics': 995,\n",
       " 'subject': 996,\n",
       " 'units': 997,\n",
       " '21': 998,\n",
       " 'fully': 999,\n",
       " 'perhaps': 1000,\n",
       " ...}"
      ]
     },
     "execution_count": 16,
     "metadata": {},
     "output_type": "execute_result"
    }
   ],
   "source": [
    "src_tokenizer.word_index"
   ]
  },
  {
   "cell_type": "code",
   "execution_count": 17,
   "id": "765f8532",
   "metadata": {
    "scrolled": true
   },
   "outputs": [
    {
     "data": {
      "text/plain": [
       "{'nn': 1,\n",
       " 'in': 2,\n",
       " 'nnp': 3,\n",
       " 'dt': 4,\n",
       " '-none-': 5,\n",
       " 'nns': 6,\n",
       " 'jj': 7,\n",
       " ',': 8,\n",
       " '.': 9,\n",
       " 'cd': 10,\n",
       " 'vbd': 11,\n",
       " 'rb': 12,\n",
       " 'vb': 13,\n",
       " 'cc': 14,\n",
       " 'to': 15,\n",
       " 'vbn': 16,\n",
       " 'vbz': 17,\n",
       " 'prp': 18,\n",
       " 'vbg': 19,\n",
       " 'vbp': 20,\n",
       " 'md': 21,\n",
       " 'pos': 22,\n",
       " 'prp$': 23,\n",
       " '$': 24,\n",
       " '``': 25,\n",
       " \"''\": 26,\n",
       " ':': 27,\n",
       " 'wdt': 28,\n",
       " 'jjr': 29,\n",
       " 'nnps': 30,\n",
       " 'wp': 31,\n",
       " 'rp': 32,\n",
       " 'jjs': 33,\n",
       " 'wrb': 34,\n",
       " 'rbr': 35,\n",
       " '-rrb-': 36,\n",
       " '-lrb-': 37,\n",
       " 'ex': 38,\n",
       " 'rbs': 39,\n",
       " 'pdt': 40,\n",
       " '#': 41,\n",
       " 'wp$': 42,\n",
       " 'ls': 43,\n",
       " 'fw': 44,\n",
       " 'uh': 45,\n",
       " 'sym': 46}"
      ]
     },
     "execution_count": 17,
     "metadata": {},
     "output_type": "execute_result"
    }
   ],
   "source": [
    "tar_tokenizer.word_index"
   ]
  },
  {
   "cell_type": "code",
   "execution_count": 18,
   "id": "50c8e028",
   "metadata": {},
   "outputs": [
    {
     "name": "stdout",
     "output_type": "stream",
     "text": [
      "단어 집합의 크기 : 11388\n",
      "태깅 정보 집합의 크기 : 47\n"
     ]
    }
   ],
   "source": [
    "vocab_size = len(src_tokenizer.word_index) + 1   # +1: 패딩 시 생기는 0을 고려\n",
    "tag_size = len(tar_tokenizer.word_index) + 1\n",
    "print('단어 집합의 크기 : {}'.format(vocab_size))\n",
    "print('태깅 정보 집합의 크기 : {}'.format(tag_size))"
   ]
  },
  {
   "cell_type": "code",
   "execution_count": 19,
   "id": "c7b535b4",
   "metadata": {},
   "outputs": [],
   "source": [
    "# 정수 인코딩\n",
    "X_train = src_tokenizer.texts_to_sequences(sentences)\n",
    "y_train = tar_tokenizer.texts_to_sequences(pos_tags)"
   ]
  },
  {
   "cell_type": "code",
   "execution_count": 22,
   "id": "1569f217",
   "metadata": {},
   "outputs": [
    {
     "name": "stdout",
     "output_type": "stream",
     "text": [
      "[2917, 5603, 1, 1136, 86, 331, 8, 602, 177, 4, 3747, 1046, 892, 893, 1, 34, 483, 9, 6, 2025, 332, 4, 51, 1047, 435, 2918, 3]\n",
      "[3, 3, 8, 10, 6, 7, 14, 7, 1, 2, 3, 3, 3, 3, 8, 11, 16, 5, 4, 7, 1, 2, 4, 7, 7, 1, 9]\n"
     ]
    }
   ],
   "source": [
    "print(X_train[2])\n",
    "print(y_train[2])"
   ]
  },
  {
   "cell_type": "code",
   "execution_count": 23,
   "id": "a5111d67",
   "metadata": {},
   "outputs": [],
   "source": [
    "# 샘플 데이터의 길이를 150으로 맞춤\n",
    "max_len = 150\n",
    "X_train = pad_sequences(X_train, padding='post', maxlen=max_len)   # post: 뒤에 패딩 추가\n",
    "y_train = pad_sequences(y_train, padding='post', maxlen=max_len)"
   ]
  },
  {
   "cell_type": "code",
   "execution_count": 26,
   "id": "904cb2be",
   "metadata": {
    "scrolled": true
   },
   "outputs": [
    {
     "data": {
      "text/plain": [
       "array([[5601, 3746,    1, 2024,   86,  331,    1,   46, 2405,    2,  131,\n",
       "          27,    6, 2025,  332,  459, 2026,    3,    0,    0,    0,    0,\n",
       "           0,    0,    0,    0,    0,    0,    0,    0,    0,    0,    0,\n",
       "           0,    0,    0,    0,    0,    0,    0,    0,    0,    0,    0,\n",
       "           0,    0,    0,    0,    0,    0,    0,    0,    0,    0,    0,\n",
       "           0,    0,    0,    0,    0,    0,    0,    0,    0,    0,    0,\n",
       "           0,    0,    0,    0,    0,    0,    0,    0,    0,    0,    0,\n",
       "           0,    0,    0,    0,    0,    0,    0,    0,    0,    0,    0,\n",
       "           0,    0,    0,    0,    0,    0,    0,    0,    0,    0,    0,\n",
       "           0,    0,    0,    0,    0,    0,    0,    0,    0,    0,    0,\n",
       "           0,    0,    0,    0,    0,    0,    0,    0,    0,    0,    0,\n",
       "           0,    0,    0,    0,    0,    0,    0,    0,    0,    0,    0,\n",
       "           0,    0,    0,    0,    0,    0,    0,    0,    0,    0,    0,\n",
       "           0,    0,    0,    0,    0,    0,    0],\n",
       "       [  31, 3746,   20,  177,    4, 5602, 2915,    1,    2, 2916,  637,\n",
       "         147,    3,    0,    0,    0,    0,    0,    0,    0,    0,    0,\n",
       "           0,    0,    0,    0,    0,    0,    0,    0,    0,    0,    0,\n",
       "           0,    0,    0,    0,    0,    0,    0,    0,    0,    0,    0,\n",
       "           0,    0,    0,    0,    0,    0,    0,    0,    0,    0,    0,\n",
       "           0,    0,    0,    0,    0,    0,    0,    0,    0,    0,    0,\n",
       "           0,    0,    0,    0,    0,    0,    0,    0,    0,    0,    0,\n",
       "           0,    0,    0,    0,    0,    0,    0,    0,    0,    0,    0,\n",
       "           0,    0,    0,    0,    0,    0,    0,    0,    0,    0,    0,\n",
       "           0,    0,    0,    0,    0,    0,    0,    0,    0,    0,    0,\n",
       "           0,    0,    0,    0,    0,    0,    0,    0,    0,    0,    0,\n",
       "           0,    0,    0,    0,    0,    0,    0,    0,    0,    0,    0,\n",
       "           0,    0,    0,    0,    0,    0,    0,    0,    0,    0,    0,\n",
       "           0,    0,    0,    0,    0,    0,    0],\n",
       "       [2917, 5603,    1, 1136,   86,  331,    8,  602,  177,    4, 3747,\n",
       "        1046,  892,  893,    1,   34,  483,    9,    6, 2025,  332,    4,\n",
       "          51, 1047,  435, 2918,    3,    0,    0,    0,    0,    0,    0,\n",
       "           0,    0,    0,    0,    0,    0,    0,    0,    0,    0,    0,\n",
       "           0,    0,    0,    0,    0,    0,    0,    0,    0,    0,    0,\n",
       "           0,    0,    0,    0,    0,    0,    0,    0,    0,    0,    0,\n",
       "           0,    0,    0,    0,    0,    0,    0,    0,    0,    0,    0,\n",
       "           0,    0,    0,    0,    0,    0,    0,    0,    0,    0,    0,\n",
       "           0,    0,    0,    0,    0,    0,    0,    0,    0,    0,    0,\n",
       "           0,    0,    0,    0,    0,    0,    0,    0,    0,    0,    0,\n",
       "           0,    0,    0,    0,    0,    0,    0,    0,    0,    0,    0,\n",
       "           0,    0,    0,    0,    0,    0,    0,    0,    0,    0,    0,\n",
       "           0,    0,    0,    0,    0,    0,    0,    0,    0,    0,    0,\n",
       "           0,    0,    0,    0,    0,    0,    0]])"
      ]
     },
     "execution_count": 26,
     "metadata": {},
     "output_type": "execute_result"
    }
   ],
   "source": [
    "X_train[:3]"
   ]
  },
  {
   "cell_type": "code",
   "execution_count": 27,
   "id": "aa1f056b",
   "metadata": {},
   "outputs": [],
   "source": [
    "# train,test 분리\n",
    "X_train, X_test, y_train, y_test = train_test_split(X_train, y_train, test_size=.2, random_state=777)"
   ]
  },
  {
   "cell_type": "code",
   "execution_count": 28,
   "id": "f4aeb0b5",
   "metadata": {},
   "outputs": [
    {
     "name": "stdout",
     "output_type": "stream",
     "text": [
      "훈련 샘플 문장의 크기 : (3131, 150)\n",
      "훈련 샘플 레이블의 크기 : (3131, 150)\n",
      "테스트 샘플 문장의 크기 : (783, 150)\n",
      "테스트 샘플 레이블의 크기 : (783, 150)\n"
     ]
    }
   ],
   "source": [
    "print('훈련 샘플 문장의 크기 : {}'.format(X_train.shape))\n",
    "print('훈련 샘플 레이블의 크기 : {}'.format(y_train.shape))\n",
    "print('테스트 샘플 문장의 크기 : {}'.format(X_test.shape))\n",
    "print('테스트 샘플 레이블의 크기 : {}'.format(y_test.shape))"
   ]
  },
  {
   "cell_type": "markdown",
   "id": "7c31e4bb",
   "metadata": {},
   "source": [
    "#### 양방향 LSTM을 이용해서 pos tagging"
   ]
  },
  {
   "cell_type": "code",
   "execution_count": 29,
   "id": "1b76d4ff",
   "metadata": {},
   "outputs": [
    {
     "name": "stdout",
     "output_type": "stream",
     "text": [
      "Model: \"sequential\"\n",
      "_________________________________________________________________\n",
      " Layer (type)                Output Shape              Param #   \n",
      "=================================================================\n",
      " embedding (Embedding)       (None, None, 128)         1457664   \n",
      "                                                                 \n",
      " bidirectional (Bidirectiona  (None, None, 256)        263168    \n",
      " l)                                                              \n",
      "                                                                 \n",
      " time_distributed (TimeDistr  (None, None, 47)         12079     \n",
      " ibuted)                                                         \n",
      "                                                                 \n",
      "=================================================================\n",
      "Total params: 1,732,911\n",
      "Trainable params: 1,732,911\n",
      "Non-trainable params: 0\n",
      "_________________________________________________________________\n"
     ]
    }
   ],
   "source": [
    "from tensorflow.keras.models import Sequential\n",
    "from tensorflow.keras.layers import Dense, LSTM, InputLayer, Bidirectional, TimeDistributed, Embedding\n",
    "from tensorflow.keras.optimizers import Adam\n",
    "\n",
    "embedding_dim = 128\n",
    "hidden_units = 128\n",
    "\n",
    "model = Sequential()\n",
    "model.add(Embedding(vocab_size, embedding_dim, mask_zero=True))\n",
    "model.add(Bidirectional(LSTM(hidden_units, return_sequences=True))) # 다대다 -> return_sequences=True\n",
    "model.add(TimeDistributed(Dense(tag_size, activation=('softmax'))))\n",
    "model.summary()"
   ]
  },
  {
   "cell_type": "code",
   "execution_count": 30,
   "id": "476807d4",
   "metadata": {},
   "outputs": [
    {
     "name": "stdout",
     "output_type": "stream",
     "text": [
      "Epoch 1/7\n",
      "25/25 [==============================] - 50s 2s/step - loss: 3.4288 - accuracy: 0.1696 - val_loss: 2.9925 - val_accuracy: 0.1742\n",
      "Epoch 2/7\n",
      "25/25 [==============================] - 48s 2s/step - loss: 2.8999 - accuracy: 0.2067 - val_loss: 2.7657 - val_accuracy: 0.2610\n",
      "Epoch 3/7\n",
      "25/25 [==============================] - 51s 2s/step - loss: 2.5503 - accuracy: 0.4035 - val_loss: 2.2351 - val_accuracy: 0.4778\n",
      "Epoch 4/7\n",
      "25/25 [==============================] - 51s 2s/step - loss: 1.8794 - accuracy: 0.5342 - val_loss: 1.5227 - val_accuracy: 0.6371\n",
      "Epoch 5/7\n",
      "25/25 [==============================] - 52s 2s/step - loss: 1.1951 - accuracy: 0.7355 - val_loss: 0.9297 - val_accuracy: 0.8053\n",
      "Epoch 6/7\n",
      "25/25 [==============================] - 53s 2s/step - loss: 0.6700 - accuracy: 0.8750 - val_loss: 0.5651 - val_accuracy: 0.8818\n",
      "Epoch 7/7\n",
      "25/25 [==============================] - 53s 2s/step - loss: 0.3760 - accuracy: 0.9295 - val_loss: 0.3975 - val_accuracy: 0.9067\n"
     ]
    },
    {
     "data": {
      "text/plain": [
       "<keras.callbacks.History at 0x289af5e4c48>"
      ]
     },
     "execution_count": 30,
     "metadata": {},
     "output_type": "execute_result"
    }
   ],
   "source": [
    "# y 변수에 대해 원핫인코딩 x -> sparses_categorical_crossentropy를 사용한다\n",
    "model.compile(loss='sparse_categorical_crossentropy', optimizer=Adam(0.001), metrics=['accuracy'])\n",
    "model.fit(X_train, y_train, batch_size=128, epochs=7, validation_data=(X_test, y_test))"
   ]
  },
  {
   "cell_type": "code",
   "execution_count": 31,
   "id": "3d5bbc05",
   "metadata": {},
   "outputs": [
    {
     "name": "stdout",
     "output_type": "stream",
     "text": [
      "25/25 [==============================] - 1s 47ms/step - loss: 0.3974 - accuracy: 0.9067\n",
      "\n",
      " 테스트 정확도: 0.9067\n"
     ]
    }
   ],
   "source": [
    "print(\"\\n 테스트 정확도: %.4f\" % (model.evaluate(X_test, y_test)[1]))"
   ]
  },
  {
   "cell_type": "code",
   "execution_count": 35,
   "id": "5f225bc4",
   "metadata": {},
   "outputs": [
    {
     "data": {
      "text/plain": [
       "array([[ 2,  1,  8,  3, 17,  4, 12, 16,  1,  2,  3,  3,  1,  6,  8, 17,\n",
       "         5,  5,  4,  3,  3,  1,  9,  9,  9,  9,  9,  9,  9,  9,  9,  9,\n",
       "         9,  9,  9,  9,  9,  9,  9,  9,  9,  9,  9,  9,  9,  9,  9,  9,\n",
       "         9,  9,  9,  9,  9,  9,  9,  9,  9,  9,  9,  9,  9,  9,  9,  9,\n",
       "         9,  9,  9,  9,  9,  9,  9,  9,  9,  9,  9,  9,  9,  9,  9,  9,\n",
       "         9,  9,  9,  9,  9,  9,  9,  9,  9,  9,  9,  9,  9,  9,  9,  9,\n",
       "         9,  9,  9,  9,  9,  9,  9,  9,  9,  9,  9,  9,  9,  9,  9,  9,\n",
       "         9,  9,  9,  9,  9,  9,  9,  9,  9,  9,  9,  9,  9,  9,  9,  9,\n",
       "         9,  9,  9,  9,  9,  9,  9,  9,  9,  9,  9,  9,  9,  9,  9,  9,\n",
       "         9,  9,  9,  9,  9,  9]], dtype=int64)"
      ]
     },
     "execution_count": 35,
     "metadata": {},
     "output_type": "execute_result"
    }
   ],
   "source": [
    "y_predicted"
   ]
  },
  {
   "cell_type": "code",
   "execution_count": 32,
   "id": "2083b1cd",
   "metadata": {},
   "outputs": [
    {
     "name": "stdout",
     "output_type": "stream",
     "text": [
      "1/1 [==============================] - 2s 2s/step\n",
      "단어             |실제값  |예측값\n",
      "-----------------------------------\n",
      "in               : IN      IN\n",
      "addition         : NN      NN\n",
      ",                : ,       ,\n",
      "buick            : NNP     NNP\n",
      "is               : VBZ     VBZ\n",
      "a                : DT      DT\n",
      "relatively       : RB      RB\n",
      "respected        : VBN     VBN\n",
      "nameplate        : NN      NN\n",
      "among            : IN      IN\n",
      "american         : NNP     NNP\n",
      "express          : NNP     NNP\n",
      "card             : NN      NN\n",
      "holders          : NNS     NNS\n",
      ",                : ,       ,\n",
      "says             : VBZ     VBZ\n",
      "0                : -NONE-  -NONE-\n",
      "*t*-1            : -NONE-  -NONE-\n",
      "an               : DT      DT\n",
      "american         : NNP     NNP\n",
      "express          : NNP     NNP\n",
      "spokeswoman      : NN      NN\n",
      ".                : .       .\n"
     ]
    }
   ],
   "source": [
    "index_to_word = src_tokenizer.index_word\n",
    "index_to_tag = tar_tokenizer.index_word\n",
    "\n",
    "i = 10 # 확인하고 싶은 테스트용 샘플의 인덱스.\n",
    "y_predicted = model.predict(np.array([X_test[i]])) # 입력한 테스트용 샘플에 대해서 예측값 y를 리턴\n",
    "y_predicted = np.argmax(y_predicted, axis=-1) # 확률 벡터를 정수 레이블로 변환.\n",
    "\n",
    "print(\"{:15}|{:5}|{}\".format(\"단어\", \"실제값\", \"예측값\"))\n",
    "print(35 * \"-\")\n",
    "\n",
    "for word, tag, pred in zip(X_test[i], y_test[i], y_predicted[0]):\n",
    "    if word != 0: # PAD값은 제외함.\n",
    "        print(\"{:17}: {:7} {}\".format(index_to_word[word], index_to_tag[tag].upper(), index_to_tag[pred].upper()))"
   ]
  },
  {
   "cell_type": "code",
   "execution_count": 36,
   "id": "f4070060",
   "metadata": {},
   "outputs": [
    {
     "name": "stdout",
     "output_type": "stream",
     "text": [
      "1/1 [==============================] - 0s 21ms/step\n",
      "단어             |실제값  |예측값\n",
      "-----------------------------------\n",
      "pressures        : NNS     NNS\n",
      "began            : VBD     VBD\n",
      "*-1              : -NONE-  -NONE-\n",
      "to               : TO      TO\n",
      "build            : VB      VB\n",
      ".                : .       .\n"
     ]
    }
   ],
   "source": [
    "i=100\n",
    "y_predicted = model.predict(np.array([X_test[i]])) # 입력한 테스트용 샘플에 대해서 예측값 y를 리턴\n",
    "y_predicted = np.argmax(y_predicted, axis=-1) # 확률 벡터를 정수 레이블로 변환.\n",
    "\n",
    "print(\"{:15}|{:5}|{}\".format(\"단어\", \"실제값\", \"예측값\"))\n",
    "print(35 * \"-\")\n",
    "\n",
    "for word, tag, pred in zip(X_test[i], y_test[i], y_predicted[0]):\n",
    "    if word != 0: # PAD값은 제외함.\n",
    "        print(\"{:17}: {:7} {}\".format(index_to_word[word], index_to_tag[tag].upper(), index_to_tag[pred].upper()))"
   ]
  },
  {
   "cell_type": "code",
   "execution_count": 37,
   "id": "273d211a",
   "metadata": {
    "scrolled": true
   },
   "outputs": [
    {
     "name": "stdout",
     "output_type": "stream",
     "text": [
      "1/1 [==============================] - 0s 21ms/step\n",
      "단어             |실제값  |예측값\n",
      "-----------------------------------\n",
      "the              : DT      DT\n",
      "mcalpine         : NNP     NNP\n",
      "family           : NN      NN\n",
      ",                : ,       ,\n",
      "which            : WDT     WDT\n",
      "*t*-1            : -NONE-  -NONE-\n",
      "operates         : VBZ     VBZ\n",
      "a                : DT      DT\n",
      "number           : NN      NN\n",
      "of               : IN      IN\n",
      "multinational    : JJ      JJ\n",
      "companies        : NNS     NNS\n",
      ",                : ,       ,\n",
      "including        : VBG     VBG\n",
      "a                : DT      DT\n",
      "london-based     : JJ      JJ\n",
      "engineering      : NN      NN\n",
      "and              : CC      CC\n",
      "construction     : NN      NN\n",
      "company          : NN      NN\n",
      ",                : ,       ,\n",
      "also             : RB      RB\n",
      "lent             : VBD     VBN\n",
      "to               : TO      TO\n",
      "meridian         : NNP     NNP\n",
      "national         : NNP     NNP\n",
      "$                : $       $\n",
      "500,000          : CD      CD\n",
      "*u*              : -NONE-  -NONE-\n",
      ".                : .       .\n"
     ]
    }
   ],
   "source": [
    "i=123\n",
    "y_predicted = model.predict(np.array([X_test[i]])) # 입력한 테스트용 샘플에 대해서 예측값 y를 리턴\n",
    "y_predicted = np.argmax(y_predicted, axis=-1) # 확률 벡터를 정수 레이블로 변환.\n",
    "\n",
    "print(\"{:15}|{:5}|{}\".format(\"단어\", \"실제값\", \"예측값\"))\n",
    "print(35 * \"-\")\n",
    "\n",
    "for word, tag, pred in zip(X_test[i], y_test[i], y_predicted[0]):\n",
    "    if word != 0: # PAD값은 제외함.\n",
    "        print(\"{:17}: {:7} {}\".format(index_to_word[word], index_to_tag[tag].upper(), index_to_tag[pred].upper()))"
   ]
  },
  {
   "cell_type": "markdown",
   "id": "acd87d42",
   "metadata": {},
   "source": [
    "### 개체명 인식"
   ]
  },
  {
   "cell_type": "markdown",
   "id": "db771e70",
   "metadata": {},
   "source": [
    "#### nltk를 이용한 개체명 인식 - NER chunker      \n",
    "nltk의 개체명 인식 함수 ne_chunk는 품사 태깅이 먼저 수행되어야 함"
   ]
  },
  {
   "cell_type": "code",
   "execution_count": 1,
   "id": "f07dadac",
   "metadata": {},
   "outputs": [
    {
     "name": "stdout",
     "output_type": "stream",
     "text": [
      "[('James', 'NNP'), ('is', 'VBZ'), ('working', 'VBG'), ('at', 'IN'), ('Disney', 'NNP'), ('in', 'IN'), ('London', 'NNP')]\n"
     ]
    }
   ],
   "source": [
    "from nltk import word_tokenize, pos_tag, ne_chunk\n",
    "\n",
    "sentence = \"James is working at Disney in London\"\n",
    "# 토큰화 후 품사 태깅\n",
    "tokenized_sentence = pos_tag(word_tokenize(sentence))\n",
    "print(tokenized_sentence)"
   ]
  },
  {
   "cell_type": "code",
   "execution_count": 39,
   "id": "ecd98a82",
   "metadata": {},
   "outputs": [
    {
     "name": "stdout",
     "output_type": "stream",
     "text": [
      "(S\n",
      "  (PERSON James/NNP)\n",
      "  is/VBZ\n",
      "  working/VBG\n",
      "  at/IN\n",
      "  (ORGANIZATION Disney/NNP)\n",
      "  in/IN\n",
      "  (GPE London/NNP))\n"
     ]
    }
   ],
   "source": [
    "# 개체명 인식\n",
    "ner_sentence = ne_chunk(tokenized_sentence)\n",
    "print(ner_sentence)"
   ]
  },
  {
   "cell_type": "markdown",
   "id": "5e4a406e",
   "metadata": {},
   "source": []
  },
  {
   "cell_type": "markdown",
   "id": "dbb0e858",
   "metadata": {},
   "source": [
    "데이터: CONLL2003         \n",
    "개체명 인식을 위한 전통적인 영어 데이터셋         \n",
    "               \n",
    "               \n",
    "데이터 예시            \n",
    "          \n",
    "EU NNP B-NP B-ORG            \n",
    "rejects VBZ B-VP O         \n",
    "                  \n",
    "[단어] [품사 태깅] [청크 태깅] [개체명 태깅] 의 형식으로 이루어져 있음"
   ]
  },
  {
   "cell_type": "code",
   "execution_count": 2,
   "id": "cd4e00c2",
   "metadata": {},
   "outputs": [],
   "source": [
    "import re\n",
    "import numpy as np\n",
    "import matplotlib.pyplot as plt\n",
    "import urllib.request\n",
    "from tensorflow.keras.preprocessing.text import Tokenizer\n",
    "from tensorflow.keras.preprocessing.sequence import pad_sequences\n",
    "from tensorflow.keras.utils import to_categorical\n",
    "from sklearn.model_selection import train_test_split"
   ]
  },
  {
   "cell_type": "code",
   "execution_count": 3,
   "id": "1d0940ac",
   "metadata": {},
   "outputs": [],
   "source": [
    "# 개체명 인식을 위한 데이터 전처리\n",
    "urllib.request.urlretrieve(\"https://raw.githubusercontent.com/ukairia777/tensorflow-nlp-tutorial/main/12.%20RNN%20Sequence%20Labeling/dataset/train.txt\", filename=\"train.txt\")\n",
    "\n",
    "f = open('train.txt', 'r')\n",
    "tagged_sentences = []\n",
    "sentence = []\n",
    "\n",
    "for line in f:\n",
    "    if len(line)==0 or line.startswith('-DOCSTART') or line[0]==\"\\n\":\n",
    "        if len(sentence) > 0:\n",
    "            tagged_sentences.append(sentence)\n",
    "            sentence = []\n",
    "        continue\n",
    "    splits = line.split(' ') # 공백을 기준으로 속성을 구분한다.\n",
    "    splits[-1] = re.sub(r'\\n', '', splits[-1]) # 줄바꿈 표시 \\n을 제거한다.\n",
    "    word = splits[0].lower() # 단어들은 소문자로 바꿔서 저장한다.\n",
    "    sentence.append([word, splits[-1]]) # 단어와 개체명 태깅만 기록한다."
   ]
  },
  {
   "cell_type": "code",
   "execution_count": 42,
   "id": "a93eddfd",
   "metadata": {},
   "outputs": [
    {
     "name": "stdout",
     "output_type": "stream",
     "text": [
      "전체 샘플 개수:  14041\n"
     ]
    }
   ],
   "source": [
    "print(\"전체 샘플 개수: \", len(tagged_sentences))"
   ]
  },
  {
   "cell_type": "code",
   "execution_count": 45,
   "id": "121c3541",
   "metadata": {},
   "outputs": [
    {
     "data": {
      "text/plain": [
       "[[['eu', 'B-ORG'],\n",
       "  ['rejects', 'O'],\n",
       "  ['german', 'B-MISC'],\n",
       "  ['call', 'O'],\n",
       "  ['to', 'O'],\n",
       "  ['boycott', 'O'],\n",
       "  ['british', 'B-MISC'],\n",
       "  ['lamb', 'O'],\n",
       "  ['.', 'O']],\n",
       " [['peter', 'B-PER'], ['blackburn', 'I-PER']],\n",
       " [['brussels', 'B-LOC'], ['1996-08-22', 'O']]]"
      ]
     },
     "execution_count": 45,
     "metadata": {},
     "output_type": "execute_result"
    }
   ],
   "source": [
    "tagged_sentences[:3]"
   ]
  },
  {
   "cell_type": "code",
   "execution_count": 4,
   "id": "0883c91c",
   "metadata": {},
   "outputs": [],
   "source": [
    "# 단어는 단어끼리, 개체명 정보는 정보끼리 따로 저장 -> zip 함수 활용\n",
    "sentences, ner_tags = [], [] \n",
    "for tagged_sentence in tagged_sentences: # 14,041개의 문장 샘플을 1개씩 불러온다.\n",
    "    sentence, tag_info = zip(*tagged_sentence) # 각 샘플에서 단어들은 sentence에 개체명 태깅 정보들은 tag_info에 저장.\n",
    "    sentences.append(list(sentence)) # 각 샘플에서 단어 정보만 저장한다.\n",
    "    ner_tags.append(list(tag_info)) # 각 샘플에서 개체명 태깅 정보만 저장한다."
   ]
  },
  {
   "cell_type": "code",
   "execution_count": 47,
   "id": "7112888c",
   "metadata": {},
   "outputs": [
    {
     "name": "stdout",
     "output_type": "stream",
     "text": [
      "['eu', 'rejects', 'german', 'call', 'to', 'boycott', 'british', 'lamb', '.']\n"
     ]
    }
   ],
   "source": [
    "print(sentences[0])"
   ]
  },
  {
   "cell_type": "code",
   "execution_count": 48,
   "id": "158fd76f",
   "metadata": {},
   "outputs": [
    {
     "name": "stdout",
     "output_type": "stream",
     "text": [
      "['B-ORG', 'O', 'B-MISC', 'O', 'O', 'O', 'B-MISC', 'O', 'O']\n"
     ]
    }
   ],
   "source": [
    "print(ner_tags[0])"
   ]
  },
  {
   "cell_type": "code",
   "execution_count": 50,
   "id": "537e6ecb",
   "metadata": {},
   "outputs": [
    {
     "name": "stdout",
     "output_type": "stream",
     "text": [
      "['only', 'france', 'and', 'britain', 'backed', 'fischler', \"'s\", 'proposal', '.']\n",
      "['O', 'B-LOC', 'O', 'B-LOC', 'O', 'B-PER', 'O', 'O', 'O']\n"
     ]
    }
   ],
   "source": [
    "print(sentences[12])\n",
    "print(ner_tags[12])"
   ]
  },
  {
   "cell_type": "code",
   "execution_count": 52,
   "id": "b5da9b8f",
   "metadata": {},
   "outputs": [
    {
     "name": "stdout",
     "output_type": "stream",
     "text": [
      "샘플의 최대 길이 : 113\n",
      "샘플의 평균 길이 : 14.501887\n"
     ]
    },
    {
     "data": {
      "image/png": "[encoded data removed]",
      "text/plain": [
       "<Figure size 300x300 with 1 Axes>"
      ]
     },
     "metadata": {},
     "output_type": "display_data"
    }
   ],
   "source": [
    "# 전체 데이터 길이 분포 확인\n",
    "print('샘플의 최대 길이 : %d' % max(len(sentence) for sentence in sentences))\n",
    "print('샘플의 평균 길이 : %f' % (sum(map(len, sentences))/len(sentences)))\n",
    "plt.figure(figsize=(3,3))\n",
    "plt.hist([len(sentence) for sentence in sentences], bins=50)\n",
    "plt.xlabel('length of samples')\n",
    "plt.ylabel('number of samples')\n",
    "plt.show()"
   ]
  },
  {
   "cell_type": "markdown",
   "id": "2c74d566",
   "metadata": {},
   "source": [
    "문장 데이터의 모든 단어를 사용하지 않고, 빈도수가 높은 4000개의 단어만 사용"
   ]
  },
  {
   "cell_type": "code",
   "execution_count": 5,
   "id": "9869a31c",
   "metadata": {},
   "outputs": [],
   "source": [
    "vocab_size = 4000\n",
    "# oov_token: train에는 없었지만 test에는 있었던 단어에 대해 'OOV'라고 토큰을 지정해줌\n",
    "# 여기서는 단어 개수를 4000개로 지정하므로, 빈도 상위 4000개보다 낮은 단어 또한 OOV로 인코딩됨\n",
    "src_tokenizer = Tokenizer(num_words=vocab_size, oov_token='OOV')\n",
    "src_tokenizer.fit_on_texts(sentences)\n",
    "\n",
    "tar_tokenizer = Tokenizer()\n",
    "tar_tokenizer.fit_on_texts(ner_tags)"
   ]
  },
  {
   "cell_type": "code",
   "execution_count": 6,
   "id": "a284c2c3",
   "metadata": {},
   "outputs": [
    {
     "name": "stdout",
     "output_type": "stream",
     "text": [
      "단어 집합의 크기 : 4000\n",
      "개체명 태깅 정보 집합의 크기 : 10\n"
     ]
    }
   ],
   "source": [
    "tag_size = len(tar_tokenizer.word_index) + 1\n",
    "print('단어 집합의 크기 : {}'.format(vocab_size))\n",
    "print('개체명 태깅 정보 집합의 크기 : {}'.format(tag_size))"
   ]
  },
  {
   "cell_type": "code",
   "execution_count": 7,
   "id": "ddbb8dc9",
   "metadata": {},
   "outputs": [],
   "source": [
    "# 정수 인코딩\n",
    "X_train = src_tokenizer.texts_to_sequences(sentences)\n",
    "y_train = tar_tokenizer.texts_to_sequences(ner_tags)"
   ]
  },
  {
   "cell_type": "code",
   "execution_count": 65,
   "id": "72e4c90b",
   "metadata": {},
   "outputs": [
    {
     "name": "stdout",
     "output_type": "stream",
     "text": [
      "[989, 1, 205, 629, 7, 3939, 216, 1, 3]\n",
      "[4, 1, 7, 1, 1, 1, 7, 1, 1]\n"
     ]
    }
   ],
   "source": [
    "print(X_train[0])\n",
    "print(y_train[0])"
   ]
  },
  {
   "cell_type": "code",
   "execution_count": 8,
   "id": "40de2a3e",
   "metadata": {},
   "outputs": [],
   "source": [
    "# OOV 처리된 단어 및 문장 확인\n",
    "index_to_word = src_tokenizer.index_word\n",
    "index_to_ner = tar_tokenizer.index_word"
   ]
  },
  {
   "cell_type": "code",
   "execution_count": 67,
   "id": "74198323",
   "metadata": {},
   "outputs": [
    {
     "name": "stdout",
     "output_type": "stream",
     "text": [
      "기존 문장 : ['eu', 'rejects', 'german', 'call', 'to', 'boycott', 'british', 'lamb', '.']\n",
      "빈도수가 낮은 단어가 OOV 처리된 문장 : ['eu', 'OOV', 'german', 'call', 'to', 'boycott', 'british', 'OOV', '.']\n"
     ]
    }
   ],
   "source": [
    "# 첫번째 문장을 디코딩해서 확인\n",
    "decoded = []\n",
    "for index in X_train[0] : # 첫번째 샘플 안의 각 정수로 변환된 단어에 대해서\n",
    "    decoded.append(index_to_word[index]) # 단어로 변환\n",
    "\n",
    "print('기존 문장 : {}'.format(sentences[0]))\n",
    "print('빈도수가 낮은 단어가 OOV 처리된 문장 : {}'.format(decoded))"
   ]
  },
  {
   "cell_type": "code",
   "execution_count": 9,
   "id": "8bf7e614",
   "metadata": {},
   "outputs": [],
   "source": [
    "# 패딩\n",
    "max_len = 70\n",
    "X_train = pad_sequences(X_train, padding='post', maxlen=max_len)\n",
    "y_train = pad_sequences(y_train, padding='post', maxlen=max_len)"
   ]
  },
  {
   "cell_type": "code",
   "execution_count": 10,
   "id": "53927acc",
   "metadata": {},
   "outputs": [
    {
     "data": {
      "text/plain": [
       "array([[4, 1, 7, ..., 0, 0, 0],\n",
       "       [3, 5, 0, ..., 0, 0, 0],\n",
       "       [2, 1, 0, ..., 0, 0, 0],\n",
       "       ...,\n",
       "       [4, 1, 4, ..., 0, 0, 0],\n",
       "       [1, 1, 0, ..., 0, 0, 0],\n",
       "       [4, 1, 4, ..., 0, 0, 0]])"
      ]
     },
     "execution_count": 10,
     "metadata": {},
     "output_type": "execute_result"
    }
   ],
   "source": [
    "y_train"
   ]
  },
  {
   "cell_type": "code",
   "execution_count": 70,
   "id": "fa21e0e5",
   "metadata": {},
   "outputs": [
    {
     "data": {
      "text/plain": [
       "(14041, 70)"
      ]
     },
     "execution_count": 70,
     "metadata": {},
     "output_type": "execute_result"
    }
   ],
   "source": [
    "y_train.shape"
   ]
  },
  {
   "cell_type": "code",
   "execution_count": 11,
   "id": "1f900c41",
   "metadata": {},
   "outputs": [],
   "source": [
    "# train, test 분리\n",
    "X_train, X_test, y_train, y_test = train_test_split(X_train, y_train, test_size=.2, random_state=777)\n",
    "\n",
    "# 태깅 정보인 y 데이터에 대해 원핫 인코딩 수행\n",
    "y_train = to_categorical(y_train, num_classes=tag_size)\n",
    "y_test = to_categorical(y_test, num_classes=tag_size)"
   ]
  },
  {
   "cell_type": "code",
   "execution_count": 73,
   "id": "49b87da0",
   "metadata": {
    "scrolled": true
   },
   "outputs": [
    {
     "data": {
      "text/plain": [
       "array([[0., 0., 0., 0., 1., 0., 0., 0., 0., 0.],\n",
       "       [0., 1., 0., 0., 0., 0., 0., 0., 0., 0.],\n",
       "       [0., 1., 0., 0., 0., 0., 0., 0., 0., 0.],\n",
       "       [0., 0., 0., 1., 0., 0., 0., 0., 0., 0.],\n",
       "       [0., 1., 0., 0., 0., 0., 0., 0., 0., 0.],\n",
       "       [0., 1., 0., 0., 0., 0., 0., 0., 0., 0.],\n",
       "       [0., 1., 0., 0., 0., 0., 0., 0., 0., 0.],\n",
       "       [1., 0., 0., 0., 0., 0., 0., 0., 0., 0.],\n",
       "       [1., 0., 0., 0., 0., 0., 0., 0., 0., 0.],\n",
       "       [1., 0., 0., 0., 0., 0., 0., 0., 0., 0.],\n",
       "       [1., 0., 0., 0., 0., 0., 0., 0., 0., 0.],\n",
       "       [1., 0., 0., 0., 0., 0., 0., 0., 0., 0.],\n",
       "       [1., 0., 0., 0., 0., 0., 0., 0., 0., 0.],\n",
       "       [1., 0., 0., 0., 0., 0., 0., 0., 0., 0.],\n",
       "       [1., 0., 0., 0., 0., 0., 0., 0., 0., 0.],\n",
       "       [1., 0., 0., 0., 0., 0., 0., 0., 0., 0.],\n",
       "       [1., 0., 0., 0., 0., 0., 0., 0., 0., 0.],\n",
       "       [1., 0., 0., 0., 0., 0., 0., 0., 0., 0.],\n",
       "       [1., 0., 0., 0., 0., 0., 0., 0., 0., 0.],\n",
       "       [1., 0., 0., 0., 0., 0., 0., 0., 0., 0.],\n",
       "       [1., 0., 0., 0., 0., 0., 0., 0., 0., 0.],\n",
       "       [1., 0., 0., 0., 0., 0., 0., 0., 0., 0.],\n",
       "       [1., 0., 0., 0., 0., 0., 0., 0., 0., 0.],\n",
       "       [1., 0., 0., 0., 0., 0., 0., 0., 0., 0.],\n",
       "       [1., 0., 0., 0., 0., 0., 0., 0., 0., 0.],\n",
       "       [1., 0., 0., 0., 0., 0., 0., 0., 0., 0.],\n",
       "       [1., 0., 0., 0., 0., 0., 0., 0., 0., 0.],\n",
       "       [1., 0., 0., 0., 0., 0., 0., 0., 0., 0.],\n",
       "       [1., 0., 0., 0., 0., 0., 0., 0., 0., 0.],\n",
       "       [1., 0., 0., 0., 0., 0., 0., 0., 0., 0.],\n",
       "       [1., 0., 0., 0., 0., 0., 0., 0., 0., 0.],\n",
       "       [1., 0., 0., 0., 0., 0., 0., 0., 0., 0.],\n",
       "       [1., 0., 0., 0., 0., 0., 0., 0., 0., 0.],\n",
       "       [1., 0., 0., 0., 0., 0., 0., 0., 0., 0.],\n",
       "       [1., 0., 0., 0., 0., 0., 0., 0., 0., 0.],\n",
       "       [1., 0., 0., 0., 0., 0., 0., 0., 0., 0.],\n",
       "       [1., 0., 0., 0., 0., 0., 0., 0., 0., 0.],\n",
       "       [1., 0., 0., 0., 0., 0., 0., 0., 0., 0.],\n",
       "       [1., 0., 0., 0., 0., 0., 0., 0., 0., 0.],\n",
       "       [1., 0., 0., 0., 0., 0., 0., 0., 0., 0.],\n",
       "       [1., 0., 0., 0., 0., 0., 0., 0., 0., 0.],\n",
       "       [1., 0., 0., 0., 0., 0., 0., 0., 0., 0.],\n",
       "       [1., 0., 0., 0., 0., 0., 0., 0., 0., 0.],\n",
       "       [1., 0., 0., 0., 0., 0., 0., 0., 0., 0.],\n",
       "       [1., 0., 0., 0., 0., 0., 0., 0., 0., 0.],\n",
       "       [1., 0., 0., 0., 0., 0., 0., 0., 0., 0.],\n",
       "       [1., 0., 0., 0., 0., 0., 0., 0., 0., 0.],\n",
       "       [1., 0., 0., 0., 0., 0., 0., 0., 0., 0.],\n",
       "       [1., 0., 0., 0., 0., 0., 0., 0., 0., 0.],\n",
       "       [1., 0., 0., 0., 0., 0., 0., 0., 0., 0.],\n",
       "       [1., 0., 0., 0., 0., 0., 0., 0., 0., 0.],\n",
       "       [1., 0., 0., 0., 0., 0., 0., 0., 0., 0.],\n",
       "       [1., 0., 0., 0., 0., 0., 0., 0., 0., 0.],\n",
       "       [1., 0., 0., 0., 0., 0., 0., 0., 0., 0.],\n",
       "       [1., 0., 0., 0., 0., 0., 0., 0., 0., 0.],\n",
       "       [1., 0., 0., 0., 0., 0., 0., 0., 0., 0.],\n",
       "       [1., 0., 0., 0., 0., 0., 0., 0., 0., 0.],\n",
       "       [1., 0., 0., 0., 0., 0., 0., 0., 0., 0.],\n",
       "       [1., 0., 0., 0., 0., 0., 0., 0., 0., 0.],\n",
       "       [1., 0., 0., 0., 0., 0., 0., 0., 0., 0.],\n",
       "       [1., 0., 0., 0., 0., 0., 0., 0., 0., 0.],\n",
       "       [1., 0., 0., 0., 0., 0., 0., 0., 0., 0.],\n",
       "       [1., 0., 0., 0., 0., 0., 0., 0., 0., 0.],\n",
       "       [1., 0., 0., 0., 0., 0., 0., 0., 0., 0.],\n",
       "       [1., 0., 0., 0., 0., 0., 0., 0., 0., 0.],\n",
       "       [1., 0., 0., 0., 0., 0., 0., 0., 0., 0.],\n",
       "       [1., 0., 0., 0., 0., 0., 0., 0., 0., 0.],\n",
       "       [1., 0., 0., 0., 0., 0., 0., 0., 0., 0.],\n",
       "       [1., 0., 0., 0., 0., 0., 0., 0., 0., 0.],\n",
       "       [1., 0., 0., 0., 0., 0., 0., 0., 0., 0.]], dtype=float32)"
      ]
     },
     "execution_count": 73,
     "metadata": {},
     "output_type": "execute_result"
    }
   ],
   "source": [
    "y_train[0]"
   ]
  },
  {
   "cell_type": "code",
   "execution_count": 74,
   "id": "b9f346d7",
   "metadata": {},
   "outputs": [
    {
     "name": "stdout",
     "output_type": "stream",
     "text": [
      "훈련 샘플 문장의 크기 : (11232, 70)\n",
      "훈련 샘플 레이블의 크기 : (11232, 70, 10)\n",
      "테스트 샘플 문장의 크기 : (2809, 70)\n",
      "테스트 샘플 레이블의 크기 : (2809, 70, 10)\n"
     ]
    }
   ],
   "source": [
    "print('훈련 샘플 문장의 크기 : {}'.format(X_train.shape))\n",
    "print('훈련 샘플 레이블의 크기 : {}'.format(y_train.shape))\n",
    "print('테스트 샘플 문장의 크기 : {}'.format(X_test.shape))\n",
    "print('테스트 샘플 레이블의 크기 : {}'.format(y_test.shape))"
   ]
  },
  {
   "cell_type": "markdown",
   "id": "38389fcd",
   "metadata": {},
   "source": [
    "#### 양방향 LSTM을 통한 개체명 인식"
   ]
  },
  {
   "cell_type": "code",
   "execution_count": 12,
   "id": "e552786e",
   "metadata": {},
   "outputs": [
    {
     "name": "stdout",
     "output_type": "stream",
     "text": [
      "Model: \"sequential\"\n",
      "_________________________________________________________________\n",
      " Layer (type)                Output Shape              Param #   \n",
      "=================================================================\n",
      " embedding (Embedding)       (None, 70, 128)           512000    \n",
      "                                                                 \n",
      " bidirectional (Bidirectiona  (None, 70, 256)          263168    \n",
      " l)                                                              \n",
      "                                                                 \n",
      " time_distributed (TimeDistr  (None, 70, 10)           2570      \n",
      " ibuted)                                                         \n",
      "                                                                 \n",
      "=================================================================\n",
      "Total params: 777,738\n",
      "Trainable params: 777,738\n",
      "Non-trainable params: 0\n",
      "_________________________________________________________________\n"
     ]
    }
   ],
   "source": [
    "from tensorflow.keras.models import Sequential\n",
    "from tensorflow.keras.layers import Dense, Embedding, LSTM, Bidirectional, TimeDistributed\n",
    "from tensorflow.keras.optimizers import Adam\n",
    "\n",
    "embedding_dim = 128\n",
    "hidden_units = 128\n",
    "\n",
    "model = Sequential()\n",
    "model.add(Embedding(input_dim=vocab_size, output_dim=embedding_dim, input_length=max_len, mask_zero=True))\n",
    "model.add(Bidirectional(LSTM(hidden_units, return_sequences=True)))\n",
    "model.add(TimeDistributed(Dense(tag_size, activation='softmax')))\n",
    "\n",
    "model.summary()"
   ]
  },
  {
   "cell_type": "code",
   "execution_count": 13,
   "id": "171e3ec7",
   "metadata": {},
   "outputs": [
    {
     "name": "stdout",
     "output_type": "stream",
     "text": [
      "Epoch 1/8\n",
      "88/88 [==============================] - 38s 382ms/step - loss: 0.9563 - accuracy: 0.8231 - val_loss: 0.6476 - val_accuracy: 0.8332\n",
      "Epoch 2/8\n",
      "88/88 [==============================] - 40s 455ms/step - loss: 0.5115 - accuracy: 0.8470 - val_loss: 0.4227 - val_accuracy: 0.8722\n",
      "Epoch 3/8\n",
      "88/88 [==============================] - 41s 469ms/step - loss: 0.3633 - accuracy: 0.8916 - val_loss: 0.3024 - val_accuracy: 0.9142\n",
      "Epoch 4/8\n",
      "88/88 [==============================] - 41s 471ms/step - loss: 0.2530 - accuracy: 0.9276 - val_loss: 0.2215 - val_accuracy: 0.9376\n",
      "Epoch 5/8\n",
      "88/88 [==============================] - 41s 464ms/step - loss: 0.1866 - accuracy: 0.9454 - val_loss: 0.1822 - val_accuracy: 0.9488\n",
      "Epoch 6/8\n",
      "88/88 [==============================] - 41s 464ms/step - loss: 0.1505 - accuracy: 0.9558 - val_loss: 0.1704 - val_accuracy: 0.9524\n",
      "Epoch 7/8\n",
      "88/88 [==============================] - 41s 471ms/step - loss: 0.1303 - accuracy: 0.9617 - val_loss: 0.1664 - val_accuracy: 0.9538\n",
      "Epoch 8/8\n",
      "88/88 [==============================] - 41s 466ms/step - loss: 0.1141 - accuracy: 0.9663 - val_loss: 0.1586 - val_accuracy: 0.9559\n"
     ]
    },
    {
     "data": {
      "text/plain": [
       "<keras.callbacks.History at 0x22d821dfe48>"
      ]
     },
     "execution_count": 13,
     "metadata": {},
     "output_type": "execute_result"
    }
   ],
   "source": [
    "model.compile(loss='categorical_crossentropy', optimizer=Adam(0.001), metrics=['accuracy'])\n",
    "model.fit(X_train, y_train, batch_size=128, epochs=8, validation_data=(X_test, y_test))"
   ]
  },
  {
   "cell_type": "code",
   "execution_count": 14,
   "id": "8a36194e",
   "metadata": {},
   "outputs": [
    {
     "name": "stdout",
     "output_type": "stream",
     "text": [
      "88/88 [==============================] - 2s 23ms/step - loss: 0.1599 - accuracy: 0.9559\n"
     ]
    },
    {
     "data": {
      "text/plain": [
       "[0.15992742776870728, 0.9559136629104614]"
      ]
     },
     "execution_count": 14,
     "metadata": {},
     "output_type": "execute_result"
    }
   ],
   "source": [
    "model.evaluate(X_test, y_test)"
   ]
  },
  {
   "cell_type": "code",
   "execution_count": 80,
   "id": "29fbaaa8",
   "metadata": {},
   "outputs": [
    {
     "name": "stdout",
     "output_type": "stream",
     "text": [
      "88/88 [==============================] - 4s 43ms/step - loss: 0.1610 - accuracy: 0.9552\n",
      "\n",
      " 테스트 정확도: 0.9552\n"
     ]
    }
   ],
   "source": [
    "# 정확도가 \n",
    "print(\"\\n 테스트 정확도: %.4f\" % (model.evaluate(X_test, y_test)[1]))"
   ]
  },
  {
   "cell_type": "code",
   "execution_count": 16,
   "id": "212a86ae",
   "metadata": {},
   "outputs": [
    {
     "name": "stdout",
     "output_type": "stream",
     "text": [
      "88/88 [==============================] - 2s 20ms/step\n"
     ]
    }
   ],
   "source": [
    "s = model.predict(X_test)"
   ]
  },
  {
   "cell_type": "code",
   "execution_count": 81,
   "id": "0ea94f4e",
   "metadata": {},
   "outputs": [
    {
     "name": "stdout",
     "output_type": "stream",
     "text": [
      "1/1 [==============================] - 2s 2s/step\n",
      "단어             |실제값  |예측값\n",
      "-----------------------------------\n",
      "sarah            : B-PER   B-PER\n",
      "brady            : I-PER   I-PER\n",
      ",                : O       O\n",
      "whose            : O       O\n",
      "republican       : B-MISC  B-MISC\n",
      "husband          : O       O\n",
      "was              : O       O\n",
      "OOV              : O       O\n",
      "OOV              : O       O\n",
      "in               : O       O\n",
      "an               : O       O\n",
      "OOV              : O       O\n",
      "attempt          : O       O\n",
      "on               : O       O\n",
      "president        : O       O\n",
      "ronald           : B-PER   B-PER\n",
      "reagan           : I-PER   I-PER\n",
      ",                : O       O\n",
      "took             : O       O\n",
      "centre           : O       O\n",
      "stage            : O       O\n",
      "at               : O       O\n",
      "the              : O       O\n",
      "democratic       : B-MISC  B-MISC\n",
      "national         : I-MISC  I-MISC\n",
      "convention       : I-MISC  I-MISC\n",
      "on               : O       O\n",
      "monday           : O       O\n",
      "night            : O       O\n",
      "to               : O       O\n",
      "OOV              : O       O\n",
      "president        : O       O\n",
      "bill             : B-PER   B-PER\n",
      "clinton          : I-PER   I-PER\n",
      "'s               : O       O\n",
      "gun              : O       O\n",
      "control          : O       O\n",
      "efforts          : O       O\n",
      ".                : O       O\n"
     ]
    }
   ],
   "source": [
    "i = 10 # 확인하고 싶은 테스트용 샘플의 인덱스.\n",
    "\n",
    "# 입력한 테스트용 샘플에 대해서 예측 y를 리턴\n",
    "y_predicted = model.predict(np.array([X_test[i]]))\n",
    "\n",
    "# 확률 벡터를 정수 레이블로 변경.\n",
    "y_predicted = np.argmax(y_predicted, axis=-1)\n",
    "\n",
    "# 원-핫 벡터를 정수 인코딩으로 변경.\n",
    "labels = np.argmax(y_test[i], -1)\n",
    "\n",
    "print(\"{:15}|{:5}|{}\".format(\"단어\", \"실제값\", \"예측값\"))\n",
    "print(35 * \"-\")\n",
    "\n",
    "for word, tag, pred in zip(X_test[i], labels, y_predicted[0]):\n",
    "    if word != 0: # PAD값은 제외함.\n",
    "        print(\"{:17}: {:7} {}\".format(index_to_word[word], index_to_ner[tag].upper(), index_to_ner[pred].upper()))"
   ]
  },
  {
   "cell_type": "markdown",
   "id": "bfd169a5",
   "metadata": {},
   "source": [
    "#### 평가지표: F1-score\n",
    "개체명 인식의 경우, 그 어떤 개체도 아님을 뜻하는 'O' 태깅이 대다수를 차지하기 때문에 평가 지표로 accuracy를 활용하는 것이 적절하지 않을 수 있음        \n",
    "(모두 'O'로 예측할 경우에도, 대다수가 개체가 아니라면 높은 정확도를 가질 수 있다)      \n",
    "-> precision과 recall의 조화평균인 f1-score를 사용     \n",
    "*precision: true로 예측한 값중 실제로 true인 비율       \n",
    "*recall: 실제로 true인 값 중 true로 잘 예측한 비율"
   ]
  },
  {
   "cell_type": "markdown",
   "id": "5f651f36",
   "metadata": {},
   "source": [
    "#### F1 score 사용 - seqeval\n",
    "*seqeval: sequence 레이블링에 대한 평가를 위해 만들어진 파이썬 프레임워크          \n",
    "(ex. 개체명 인식, pos tagging 등)"
   ]
  },
  {
   "cell_type": "code",
   "execution_count": 21,
   "id": "cce17bfc",
   "metadata": {},
   "outputs": [],
   "source": [
    "#!pip install seqeval"
   ]
  },
  {
   "cell_type": "code",
   "execution_count": 24,
   "id": "67406d81",
   "metadata": {},
   "outputs": [],
   "source": [
    "from seqeval.metrics import f1_score, classification_report"
   ]
  },
  {
   "cell_type": "code",
   "execution_count": 23,
   "id": "4b9aea5b",
   "metadata": {},
   "outputs": [
    {
     "name": "stdout",
     "output_type": "stream",
     "text": [
      "{1: 'o', 2: 'b-loc', 3: 'b-per', 4: 'b-org', 5: 'i-per', 6: 'i-org', 7: 'b-misc', 8: 'i-loc', 9: 'i-misc', 0: 'PAD'}\n"
     ]
    }
   ],
   "source": [
    "word_to_index = src_tokenizer.word_index\n",
    "index_to_word = src_tokenizer.index_word\n",
    "ner_to_index = tar_tokenizer.word_index\n",
    "index_to_ner = tar_tokenizer.index_word\n",
    "index_to_ner[0] = 'PAD'\n",
    "\n",
    "print(index_to_ner)"
   ]
  },
  {
   "cell_type": "code",
   "execution_count": 25,
   "id": "2cf3808e",
   "metadata": {},
   "outputs": [
    {
     "name": "stdout",
     "output_type": "stream",
     "text": [
      "88/88 [==============================] - 3s 19ms/step\n"
     ]
    },
    {
     "name": "stderr",
     "output_type": "stream",
     "text": [
      "C:\\Users\\yejin.hwang\\AppData\\Local\\Programs\\Python\\Python37\\py37\\lib\\site-packages\\seqeval\\metrics\\sequence_labeling.py:171: UserWarning: b-org seems not to be NE tag.\n",
      "  warnings.warn('{} seems not to be NE tag.'.format(chunk))\n",
      "C:\\Users\\yejin.hwang\\AppData\\Local\\Programs\\Python\\Python37\\py37\\lib\\site-packages\\seqeval\\metrics\\sequence_labeling.py:171: UserWarning: i-org seems not to be NE tag.\n",
      "  warnings.warn('{} seems not to be NE tag.'.format(chunk))\n",
      "C:\\Users\\yejin.hwang\\AppData\\Local\\Programs\\Python\\Python37\\py37\\lib\\site-packages\\seqeval\\metrics\\sequence_labeling.py:171: UserWarning: o seems not to be NE tag.\n",
      "  warnings.warn('{} seems not to be NE tag.'.format(chunk))\n",
      "C:\\Users\\yejin.hwang\\AppData\\Local\\Programs\\Python\\Python37\\py37\\lib\\site-packages\\seqeval\\metrics\\sequence_labeling.py:171: UserWarning: b-per seems not to be NE tag.\n",
      "  warnings.warn('{} seems not to be NE tag.'.format(chunk))\n",
      "C:\\Users\\yejin.hwang\\AppData\\Local\\Programs\\Python\\Python37\\py37\\lib\\site-packages\\seqeval\\metrics\\sequence_labeling.py:171: UserWarning: b-loc seems not to be NE tag.\n",
      "  warnings.warn('{} seems not to be NE tag.'.format(chunk))\n",
      "C:\\Users\\yejin.hwang\\AppData\\Local\\Programs\\Python\\Python37\\py37\\lib\\site-packages\\seqeval\\metrics\\sequence_labeling.py:171: UserWarning: i-per seems not to be NE tag.\n",
      "  warnings.warn('{} seems not to be NE tag.'.format(chunk))\n",
      "C:\\Users\\yejin.hwang\\AppData\\Local\\Programs\\Python\\Python37\\py37\\lib\\site-packages\\seqeval\\metrics\\sequence_labeling.py:171: UserWarning: b-misc seems not to be NE tag.\n",
      "  warnings.warn('{} seems not to be NE tag.'.format(chunk))\n",
      "C:\\Users\\yejin.hwang\\AppData\\Local\\Programs\\Python\\Python37\\py37\\lib\\site-packages\\seqeval\\metrics\\sequence_labeling.py:171: UserWarning: i-loc seems not to be NE tag.\n",
      "  warnings.warn('{} seems not to be NE tag.'.format(chunk))\n",
      "C:\\Users\\yejin.hwang\\AppData\\Local\\Programs\\Python\\Python37\\py37\\lib\\site-packages\\seqeval\\metrics\\sequence_labeling.py:171: UserWarning: i-misc seems not to be NE tag.\n",
      "  warnings.warn('{} seems not to be NE tag.'.format(chunk))\n"
     ]
    },
    {
     "name": "stdout",
     "output_type": "stream",
     "text": [
      "F1-score: 76.5%\n",
      "              precision    recall  f1-score   support\n",
      "\n",
      "           _       0.75      0.69      0.72      3375\n",
      "         loc       0.87      0.85      0.86      1379\n",
      "        misc       0.85      0.68      0.76       657\n",
      "         org       0.76      0.72      0.74      1239\n",
      "         per       0.80      0.80      0.80      1298\n",
      "\n",
      "   micro avg       0.79      0.74      0.77      7948\n",
      "   macro avg       0.81      0.75      0.78      7948\n",
      "weighted avg       0.79      0.74      0.76      7948\n",
      "\n"
     ]
    }
   ],
   "source": [
    "def sequences_to_tag(sequences):\n",
    "    result = []\n",
    "    # 전체 시퀀스로부터 시퀀스를 하나씩 꺼낸다.\n",
    "    for sequence in sequences:\n",
    "        word_sequence = []\n",
    "        # 시퀀스로부터 확률 벡터 또는 원-핫 벡터를 하나씩 꺼낸다.\n",
    "        for pred in sequence:\n",
    "            # 정수로 변환. 예를 들어 pred가 [0, 0, 1, 0 ,0]라면 1의 인덱스인 2를 리턴한다.\n",
    "            pred_index = np.argmax(pred)            \n",
    "            # index_to_ner을 사용하여 정수를 태깅 정보로 변환. 'PAD'는 'O'로 변경.\n",
    "            word_sequence.append(index_to_ner[pred_index].replace(\"PAD\", \"o\"))\n",
    "        result.append(word_sequence)\n",
    "    return result\n",
    "\n",
    "y_predicted = model.predict([X_test])\n",
    "pred_tags = sequences_to_tag(y_predicted)\n",
    "test_tags = sequences_to_tag(y_test)\n",
    "\n",
    "print(\"F1-score: {:.1%}\".format(f1_score(test_tags, pred_tags)))\n",
    "print(classification_report(test_tags, pred_tags))"
   ]
  }
 ],
 "metadata": {
  "kernelspec": {
   "display_name": "py37",
   "language": "python",
   "name": "py37"
  },
  "language_info": {
   "codemirror_mode": {
    "name": "ipython",
    "version": 3
   },
   "file_extension": ".py",
   "mimetype": "text/x-python",
   "name": "python",
   "nbconvert_exporter": "python",
   "pygments_lexer": "ipython3",
   "version": "3.7.9"
  }
 },
 "nbformat": 4,
 "nbformat_minor": 5
}
