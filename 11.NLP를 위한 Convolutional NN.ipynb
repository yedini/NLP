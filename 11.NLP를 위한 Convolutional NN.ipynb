{
 "cells": [
  {
   "cell_type": "code",
   "execution_count": 1,
   "id": "073a7511",
   "metadata": {},
   "outputs": [],
   "source": [
    "import pickle\n",
    "import pandas as pd\n",
    "import numpy as np\n",
    "import matplotlib.pyplot as plt\n",
    "import seaborn as sns\n",
    "import re\n",
    "import urllib.request\n",
    "from konlpy.tag import Okt\n",
    "from tqdm import tqdm\n",
    "from tensorflow.keras.preprocessing.text import Tokenizer\n",
    "from tensorflow.keras.preprocessing.sequence import pad_sequences"
   ]
  },
  {
   "cell_type": "code",
   "execution_count": 2,
   "id": "b5cb5d6c",
   "metadata": {},
   "outputs": [
    {
     "name": "stderr",
     "output_type": "stream",
     "text": [
      "C:\\Users\\yejin.hwang\\AppData\\Local\\Programs\\Python\\Python37\\py37\\lib\\site-packages\\ipykernel_launcher.py:11: FutureWarning: The default value of regex will change from True to False in a future version.\n",
      "  # This is added back by InteractiveShellApp.init_path()\n",
      "C:\\Users\\yejin.hwang\\AppData\\Local\\Programs\\Python\\Python37\\py37\\lib\\site-packages\\ipykernel_launcher.py:14: FutureWarning: The default value of regex will change from True to False in a future version.\n",
      "  \n",
      "C:\\Users\\yejin.hwang\\AppData\\Local\\Programs\\Python\\Python37\\py37\\lib\\site-packages\\ipykernel_launcher.py:20: FutureWarning: The default value of regex will change from True to False in a future version.\n",
      "C:\\Users\\yejin.hwang\\AppData\\Local\\Programs\\Python\\Python37\\py37\\lib\\site-packages\\ipykernel_launcher.py:21: FutureWarning: The default value of regex will change from True to False in a future version.\n"
     ]
    }
   ],
   "source": [
    "train_data = pd.read_table('ratings_train.txt')\n",
    "test_data = pd.read_table('ratings_test.txt')\n",
    "\n",
    "# train data 중복 제거\n",
    "train_data.drop_duplicates(subset=['document'], inplace=True)\n",
    "\n",
    "# Null 값이 존재하는 행 제거\n",
    "train_data = train_data.dropna(how = 'any') \n",
    "\n",
    "# 한글과 공백을 제외하고 모두 제거\n",
    "train_data['document'] = train_data['document'].str.replace(\"[^ㄱ-ㅎㅏ-ㅣ가-힣 ]\",\"\")\n",
    "\n",
    "# white space 데이터를 empty value로 변경, 빈 행은 제거\n",
    "train_data['document'] = train_data['document'].str.replace('^ +', \"\") \n",
    "train_data['document'].replace('', np.nan, inplace=True)\n",
    "train_data = train_data.dropna(how = 'any')\n",
    "\n",
    "# test data 전처리\n",
    "test_data.drop_duplicates(subset = ['document'], inplace=True) # document 열에서 중복인 내용이 있다면 중복 제거\n",
    "test_data['document'] = test_data['document'].str.replace(\"[^ㄱ-ㅎㅏ-ㅣ가-힣 ]\",\"\") # 정규 표현식 수행\n",
    "test_data['document'] = test_data['document'].str.replace('^ +', \"\") # 공백은 empty 값으로 변경\n",
    "test_data['document'].replace('', np.nan, inplace=True) # 공백은 Null 값으로 변경\n",
    "test_data = test_data.dropna(how='any') # Null 값 제거"
   ]
  },
  {
   "cell_type": "code",
   "execution_count": 4,
   "id": "951f4098",
   "metadata": {},
   "outputs": [
    {
     "name": "stderr",
     "output_type": "stream",
     "text": [
      "100%|█████████████████████████████████████████████████████████████████████████| 145393/145393 [04:29<00:00, 540.14it/s]\n",
      "100%|███████████████████████████████████████████████████████████████████████████| 48852/48852 [01:40<00:00, 484.37it/s]\n"
     ]
    }
   ],
   "source": [
    "okt = Okt()\n",
    "\n",
    "# 불용어 지정\n",
    "stopwords = ['의','가','이','은','들','는','좀','잘','걍','과','도','를','으로','자','에','와','한','하다']\n",
    "\n",
    "# train data 토큰화\n",
    "X_train = []\n",
    "for sentence in tqdm(train_data['document']):\n",
    "    tokenized_sentence = okt.morphs(sentence, stem=True) # 토큰화\n",
    "    stopwords_removed_sentence = [word for word in tokenized_sentence if not word in stopwords] # 불용어 제거\n",
    "    X_train.append(stopwords_removed_sentence)\n",
    "    \n",
    "# test data 토큰화\n",
    "X_test = []\n",
    "for sentence in tqdm(test_data['document']):\n",
    "    tokenized_sentence = okt.morphs(sentence, stem=True) # 토큰화\n",
    "    stopwords_removed_sentence = [word for word in tokenized_sentence if not word in stopwords] # 불용어 제거\n",
    "    X_test.append(stopwords_removed_sentence)"
   ]
  },
  {
   "cell_type": "code",
   "execution_count": 5,
   "id": "479bfaf5",
   "metadata": {},
   "outputs": [
    {
     "name": "stderr",
     "output_type": "stream",
     "text": [
      "C:\\Users\\yejin.hwang\\AppData\\Local\\Programs\\Python\\Python37\\py37\\lib\\site-packages\\numpy\\lib\\function_base.py:4454: VisibleDeprecationWarning: Creating an ndarray from ragged nested sequences (which is a list-or-tuple of lists-or-tuples-or ndarrays with different lengths or shapes) is deprecated. If you meant to do this, you must specify 'dtype=object' when creating the ndarray.\n",
      "  arr = asarray(arr)\n"
     ]
    }
   ],
   "source": [
    "# 정수인코딩\n",
    "tokenizer = Tokenizer()\n",
    "tokenizer.fit_on_texts(X_train)\n",
    "\n",
    "\n",
    "threshold = 3\n",
    "total_cnt = len(tokenizer.word_index) # 단어의 수\n",
    "rare_cnt = 0 # 등장 빈도수가 threshold보다 작은 단어의 개수를 카운트\n",
    "total_freq = 0 # 훈련 데이터의 전체 단어 빈도수 총 합\n",
    "rare_freq = 0 # 등장 빈도수가 threshold보다 작은 단어의 등장 빈도수의 총 합\n",
    "\n",
    "# 단어와 빈도수의 쌍(pair)을 key와 value로 받는다.\n",
    "for key, value in tokenizer.word_counts.items():\n",
    "    total_freq = total_freq + value\n",
    "\n",
    "    # 단어의 등장 빈도수가 threshold보다 작으면\n",
    "    if(value < threshold):\n",
    "        rare_cnt = rare_cnt + 1\n",
    "        #rare_freq = rare_freq + value\n",
    "\n",
    "vocab_size = total_cnt - rare_cnt + 1       \n",
    "\n",
    "# vocabsize를 3회 이상인 단어 집합 크기로 제한해서 3회 미만은 자동으로 tokenizer에 포함되지 않도록 함\n",
    "tokenizer = Tokenizer(vocab_size) \n",
    "tokenizer.fit_on_texts(X_train)\n",
    "X_train = tokenizer.texts_to_sequences(X_train)\n",
    "X_test = tokenizer.texts_to_sequences(X_test)\n",
    "\n",
    "# y 데이터는 별도로 지정\n",
    "y_train = np.array(train_data['label'])\n",
    "y_test = np.array(test_data['label'])\n",
    "\n",
    "\n",
    "# 빈도수 낮은 단어를 삭제하면서 생긴 빈 샘플 제거\n",
    "drop_train = [index for index, sentence in enumerate(X_train) if len(sentence) < 1]\n",
    "\n",
    "X_train = np.delete(X_train, drop_train, axis=0)\n",
    "y_train = np.delete(y_train, drop_train, axis=0)\n",
    "\n",
    "\n",
    "max_len = 30\n",
    "X_train = pad_sequences(X_train, maxlen=max_len)\n",
    "X_test = pad_sequences(X_test, maxlen=max_len)"
   ]
  },
  {
   "cell_type": "markdown",
   "id": "7f701153",
   "metadata": {},
   "source": [
    "#### 1D CNN"
   ]
  },
  {
   "cell_type": "code",
   "execution_count": 7,
   "id": "38bd45bb",
   "metadata": {},
   "outputs": [],
   "source": [
    "from tensorflow.keras.layers import Dense, Conv1D, GlobalMaxPooling1D, Embedding, Dropout, MaxPooling1D\n",
    "from tensorflow.keras.models import Sequential\n",
    "from tensorflow.keras.callbacks import EarlyStopping, ModelCheckpoint"
   ]
  },
  {
   "cell_type": "code",
   "execution_count": 9,
   "id": "436b93f1",
   "metadata": {},
   "outputs": [
    {
     "name": "stdout",
     "output_type": "stream",
     "text": [
      "Epoch 1/10\n",
      "1813/1815 [============================>.] - ETA: 0s - loss: 0.4145 - acc: 0.8096\n",
      "Epoch 1: val_acc improved from -inf to 0.84394, saving model to best_model.h5\n",
      "1815/1815 [==============================] - 21s 11ms/step - loss: 0.4145 - acc: 0.8096 - val_loss: 0.3612 - val_acc: 0.8439\n",
      "Epoch 2/10\n",
      "1813/1815 [============================>.] - ETA: 0s - loss: 0.3248 - acc: 0.8628\n",
      "Epoch 2: val_acc improved from 0.84394 to 0.84649, saving model to best_model.h5\n",
      "1815/1815 [==============================] - 27s 15ms/step - loss: 0.3248 - acc: 0.8628 - val_loss: 0.3567 - val_acc: 0.8465\n",
      "Epoch 3/10\n",
      "1814/1815 [============================>.] - ETA: 0s - loss: 0.2794 - acc: 0.8838\n",
      "Epoch 3: val_acc did not improve from 0.84649\n",
      "1815/1815 [==============================] - 26s 14ms/step - loss: 0.2794 - acc: 0.8838 - val_loss: 0.3669 - val_acc: 0.8452\n",
      "Epoch 4/10\n",
      "1813/1815 [============================>.] - ETA: 0s - loss: 0.2445 - acc: 0.9003\n",
      "Epoch 4: val_acc did not improve from 0.84649\n",
      "1815/1815 [==============================] - 25s 14ms/step - loss: 0.2445 - acc: 0.9004 - val_loss: 0.3898 - val_acc: 0.8428\n",
      "Epoch 5/10\n",
      "1812/1815 [============================>.] - ETA: 0s - loss: 0.2164 - acc: 0.9138\n",
      "Epoch 5: val_acc did not improve from 0.84649\n",
      "1815/1815 [==============================] - 25s 14ms/step - loss: 0.2164 - acc: 0.9138 - val_loss: 0.4142 - val_acc: 0.8393\n",
      "Epoch 5: early stopping\n"
     ]
    }
   ],
   "source": [
    "# hyperparamter\n",
    "embedding_dim = 64\n",
    "dropout_ratio = 0.3\n",
    "num_filters = 64\n",
    "kernel_size = 5\n",
    "\n",
    "model = Sequential()\n",
    "model.add(Embedding(vocab_size, embedding_dim))\n",
    "model.add(Dropout(dropout_ratio))\n",
    "model.add(Conv1D(num_filters, kernel_size, padding='valid', activation='relu'))\n",
    "model.add(GlobalMaxPooling1D())\n",
    "model.add(Dropout(dropout_ratio))\n",
    "model.add(Dense(1, activation='sigmoid'))\n",
    "model.compile(optimizer='adam', loss='binary_crossentropy', metrics=['acc'])\n",
    "\n",
    "es = EarlyStopping(monitor='val_loss', mode='min', verbose=1, patience=3)\n",
    "mc = ModelCheckpoint('best_model.h5', monitor = 'val_acc', mode='max', verbose=1, save_best_only=True)\n",
    "\n",
    "history = model.fit(X_train, y_train, epochs=10, batch_size=64, validation_split=0.2, callbacks=[es, mc])"
   ]
  },
  {
   "cell_type": "code",
   "execution_count": 11,
   "id": "2ad85509",
   "metadata": {},
   "outputs": [
    {
     "name": "stdout",
     "output_type": "stream",
     "text": [
      "1527/1527 [==============================] - 2s 1ms/step - loss: 0.4180 - acc: 0.8338\n",
      "\n",
      " 테스트 정확도: 0.8338\n"
     ]
    }
   ],
   "source": [
    "print(\"\\n 테스트 정확도: %.4f\" % (model.evaluate(X_test, y_test)[1]))"
   ]
  },
  {
   "cell_type": "markdown",
   "id": "1f57ce36",
   "metadata": {},
   "source": [
    "#### Multi-Kernel 1D CNN\n",
    "다양한 크기의 커널들을 혼합하여 사용     \n",
    "functional API를 사용함"
   ]
  },
  {
   "cell_type": "code",
   "execution_count": 12,
   "id": "25d7565b",
   "metadata": {},
   "outputs": [],
   "source": [
    "from tensorflow.keras.models import Sequential, Model\n",
    "from tensorflow.keras.layers import Embedding, Dropout, Conv1D, GlobalMaxPooling1D, Dense, Input, Flatten, Concatenate\n",
    "from tensorflow.keras.callbacks import EarlyStopping, ModelCheckpoint\n",
    "from tensorflow.keras.models import load_model"
   ]
  },
  {
   "cell_type": "code",
   "execution_count": 16,
   "id": "7fe23ad5",
   "metadata": {},
   "outputs": [],
   "source": [
    "#hyperparameter\n",
    "embedding_dim = 128\n",
    "dropout_ratio = (0.5, 0.8)\n",
    "num_filters = 32\n",
    "hidden_units = 128\n",
    "\n",
    "# 입력층, embedding층 정의\n",
    "model_input = Input(shape = (max_len,))\n",
    "z = Embedding(vocab_size, embedding_dim, input_length = max_len, name=\"embedding\")(model_input)\n",
    "z = Dropout(dropout_ratio[0])(z)\n",
    "\n",
    "# 3, 4, 5의 크기를 가지는 kernel을 각각 32개 사용하고, 이후 maxpooling 적용\n",
    "conv_blocks = []\n",
    "\n",
    "for sz in [3, 4, 5]:\n",
    "    conv = Conv1D(filters = num_filters,\n",
    "                         kernel_size = sz,\n",
    "                         padding = \"valid\",\n",
    "                         activation = \"relu\",\n",
    "                         strides = 1)(z)\n",
    "    conv = GlobalMaxPooling1D()(conv)\n",
    "    conv_blocks.append(conv)    # maxpooling을 적용한 각각의 결과를 conv_blocks에 저장\n",
    "\n",
    "# 모든 maxpooling 결과를 concatenate\n",
    "z = Concatenate()(conv_blocks) if len(conv_blocks) > 1 else conv_blocks[0]\n",
    "z = Dropout(dropout_ratio[1])(z)\n",
    "z = Dense(hidden_units, activation=\"relu\")(z)\n",
    "model_output = Dense(1, activation=\"sigmoid\")(z)\n",
    "\n",
    "model = Model(model_input, model_output)\n",
    "model.compile(loss=\"binary_crossentropy\", optimizer=\"adam\", metrics=[\"acc\"])"
   ]
  },
  {
   "cell_type": "code",
   "execution_count": 17,
   "id": "df391020",
   "metadata": {
    "scrolled": true
   },
   "outputs": [
    {
     "name": "stdout",
     "output_type": "stream",
     "text": [
      "Model: \"model_1\"\n",
      "__________________________________________________________________________________________________\n",
      " Layer (type)                   Output Shape         Param #     Connected to                     \n",
      "==================================================================================================\n",
      " input_2 (InputLayer)           [(None, 30)]         0           []                               \n",
      "                                                                                                  \n",
      " embedding (Embedding)          (None, 30, 128)      2485248     ['input_2[0][0]']                \n",
      "                                                                                                  \n",
      " dropout_6 (Dropout)            (None, 30, 128)      0           ['embedding[0][0]']              \n",
      "                                                                                                  \n",
      " conv1d_5 (Conv1D)              (None, 28, 32)       12320       ['dropout_6[0][0]']              \n",
      "                                                                                                  \n",
      " conv1d_6 (Conv1D)              (None, 27, 32)       16416       ['dropout_6[0][0]']              \n",
      "                                                                                                  \n",
      " conv1d_7 (Conv1D)              (None, 26, 32)       20512       ['dropout_6[0][0]']              \n",
      "                                                                                                  \n",
      " global_max_pooling1d_5 (Global  (None, 32)          0           ['conv1d_5[0][0]']               \n",
      " MaxPooling1D)                                                                                    \n",
      "                                                                                                  \n",
      " global_max_pooling1d_6 (Global  (None, 32)          0           ['conv1d_6[0][0]']               \n",
      " MaxPooling1D)                                                                                    \n",
      "                                                                                                  \n",
      " global_max_pooling1d_7 (Global  (None, 32)          0           ['conv1d_7[0][0]']               \n",
      " MaxPooling1D)                                                                                    \n",
      "                                                                                                  \n",
      " concatenate_1 (Concatenate)    (None, 96)           0           ['global_max_pooling1d_5[0][0]', \n",
      "                                                                  'global_max_pooling1d_6[0][0]', \n",
      "                                                                  'global_max_pooling1d_7[0][0]'] \n",
      "                                                                                                  \n",
      " dropout_7 (Dropout)            (None, 96)           0           ['concatenate_1[0][0]']          \n",
      "                                                                                                  \n",
      " dense_4 (Dense)                (None, 128)          12416       ['dropout_7[0][0]']              \n",
      "                                                                                                  \n",
      " dense_5 (Dense)                (None, 1)            129         ['dense_4[0][0]']                \n",
      "                                                                                                  \n",
      "==================================================================================================\n",
      "Total params: 2,547,041\n",
      "Trainable params: 2,547,041\n",
      "Non-trainable params: 0\n",
      "__________________________________________________________________________________________________\n"
     ]
    }
   ],
   "source": [
    "model.summary()"
   ]
  },
  {
   "cell_type": "code",
   "execution_count": 19,
   "id": "9b9be279",
   "metadata": {},
   "outputs": [
    {
     "name": "stdout",
     "output_type": "stream",
     "text": [
      "Epoch 1/5\n",
      "\n",
      "Epoch 1: val_acc improved from -inf to 0.83681, saving model to CNN_model.h5\n",
      "1815/1815 - 56s - loss: 0.4396 - acc: 0.7953 - val_loss: 0.4252 - val_acc: 0.8368 - 56s/epoch - 31ms/step\n",
      "Epoch 2/5\n",
      "\n",
      "Epoch 2: val_acc improved from 0.83681 to 0.83746, saving model to CNN_model.h5\n",
      "1815/1815 - 59s - loss: 0.3591 - acc: 0.8451 - val_loss: 0.4712 - val_acc: 0.8375 - 59s/epoch - 32ms/step\n",
      "Epoch 3/5\n",
      "\n",
      "Epoch 3: val_acc did not improve from 0.83746\n",
      "1815/1815 - 67s - loss: 0.3299 - acc: 0.8599 - val_loss: 0.4988 - val_acc: 0.8373 - 67s/epoch - 37ms/step\n",
      "Epoch 4/5\n",
      "\n",
      "Epoch 4: val_acc did not improve from 0.83746\n",
      "1815/1815 - 60s - loss: 0.3116 - acc: 0.8691 - val_loss: 0.5159 - val_acc: 0.8311 - 60s/epoch - 33ms/step\n",
      "Epoch 5/5\n",
      "\n",
      "Epoch 5: val_acc did not improve from 0.83746\n",
      "1815/1815 - 64s - loss: 0.2929 - acc: 0.8774 - val_loss: 0.5174 - val_acc: 0.8235 - 64s/epoch - 35ms/step\n",
      "Epoch 5: early stopping\n"
     ]
    },
    {
     "data": {
      "text/plain": [
       "<keras.callbacks.History at 0x21047c1cb08>"
      ]
     },
     "execution_count": 19,
     "metadata": {},
     "output_type": "execute_result"
    }
   ],
   "source": [
    "es = EarlyStopping(monitor='val_loss', mode='min', verbose=1, patience=4)\n",
    "mc = ModelCheckpoint('CNN_model.h5', monitor='val_acc', mode='max', verbose=1, save_best_only=True)\n",
    "\n",
    "model.fit(X_train, y_train, batch_size=64, epochs=5, validation_split=0.2, verbose=2, callbacks=[es, mc])"
   ]
  },
  {
   "cell_type": "code",
   "execution_count": 20,
   "id": "7c2f0207",
   "metadata": {},
   "outputs": [
    {
     "name": "stdout",
     "output_type": "stream",
     "text": [
      "1527/1527 [==============================] - 3s 2ms/step - loss: 0.4732 - acc: 0.8328\n",
      "\n",
      " 테스트 정확도: 0.8328\n"
     ]
    }
   ],
   "source": [
    "loaded_model = load_model('CNN_model.h5')\n",
    "print(\"\\n 테스트 정확도: %.4f\" % (loaded_model.evaluate(X_test, y_test)[1]))"
   ]
  },
  {
   "cell_type": "markdown",
   "id": "6720ada1",
   "metadata": {},
   "source": [
    "### Pre-trained 워드 임베딩을 이용한 의도 분류"
   ]
  },
  {
   "cell_type": "code",
   "execution_count": 1,
   "id": "73add7ec",
   "metadata": {},
   "outputs": [],
   "source": [
    "import os\n",
    "import pandas as pd\n",
    "import numpy as np\n",
    "import matplotlib.pyplot as plt\n",
    "import urllib.request\n",
    "from sklearn import preprocessing\n",
    "from tensorflow.keras.preprocessing.text import Tokenizer\n",
    "from tensorflow.keras.preprocessing.sequence import pad_sequences\n",
    "from tensorflow.keras.utils import to_categorical\n",
    "from sklearn.metrics import classification_report"
   ]
  },
  {
   "cell_type": "code",
   "execution_count": 2,
   "id": "7b4edd96",
   "metadata": {},
   "outputs": [],
   "source": [
    "# 의도 데이터 다운로드 (텍스트가 담고 있는 의도를 파악해서 분류하는 것이 목표!)\n",
    "urllib.request.urlretrieve(\"https://raw.githubusercontent.com/ukairia777/tensorflow-nlp-tutorial/main/11.%201D%20CNN%20Text%20Classification/dataset/intent_train_data.csv\", filename=\"intent_train_data.csv\")\n",
    "urllib.request.urlretrieve(\"https://raw.githubusercontent.com/ukairia777/tensorflow-nlp-tutorial/main/11.%201D%20CNN%20Text%20Classification/dataset/intent_test_data.csv\", filename=\"intent_test_data.csv\")\n",
    "\n",
    "train_data = pd.read_csv('intent_train_data.csv')\n",
    "test_data = pd.read_csv('intent_test_data.csv')"
   ]
  },
  {
   "cell_type": "code",
   "execution_count": 3,
   "id": "1986d023",
   "metadata": {},
   "outputs": [
    {
     "data": {
      "text/html": [
       "<div>\n",
       "<style scoped>\n",
       "    .dataframe tbody tr th:only-of-type {\n",
       "        vertical-align: middle;\n",
       "    }\n",
       "\n",
       "    .dataframe tbody tr th {\n",
       "        vertical-align: top;\n",
       "    }\n",
       "\n",
       "    .dataframe thead th {\n",
       "        text-align: right;\n",
       "    }\n",
       "</style>\n",
       "<table border=\"1\" class=\"dataframe\">\n",
       "  <thead>\n",
       "    <tr style=\"text-align: right;\">\n",
       "      <th></th>\n",
       "      <th>intent</th>\n",
       "      <th>label</th>\n",
       "    </tr>\n",
       "  </thead>\n",
       "  <tbody>\n",
       "    <tr>\n",
       "      <th>0</th>\n",
       "      <td>add another song to the cita rom ntica playlist</td>\n",
       "      <td>AddToPlaylist</td>\n",
       "    </tr>\n",
       "    <tr>\n",
       "      <th>1</th>\n",
       "      <td>add clem burke in my playlist pre party r b jams</td>\n",
       "      <td>AddToPlaylist</td>\n",
       "    </tr>\n",
       "    <tr>\n",
       "      <th>2</th>\n",
       "      <td>add live from aragon ballroom to trapeo</td>\n",
       "      <td>AddToPlaylist</td>\n",
       "    </tr>\n",
       "    <tr>\n",
       "      <th>3</th>\n",
       "      <td>add unite and win to my night out</td>\n",
       "      <td>AddToPlaylist</td>\n",
       "    </tr>\n",
       "    <tr>\n",
       "      <th>4</th>\n",
       "      <td>add track to my digster future hits</td>\n",
       "      <td>AddToPlaylist</td>\n",
       "    </tr>\n",
       "  </tbody>\n",
       "</table>\n",
       "</div>"
      ],
      "text/plain": [
       "                                             intent          label\n",
       "0   add another song to the cita rom ntica playlist  AddToPlaylist\n",
       "1  add clem burke in my playlist pre party r b jams  AddToPlaylist\n",
       "2           add live from aragon ballroom to trapeo  AddToPlaylist\n",
       "3                 add unite and win to my night out  AddToPlaylist\n",
       "4               add track to my digster future hits  AddToPlaylist"
      ]
     },
     "execution_count": 3,
     "metadata": {},
     "output_type": "execute_result"
    }
   ],
   "source": [
    "train_data.head()"
   ]
  },
  {
   "cell_type": "code",
   "execution_count": 15,
   "id": "4e9ba07c",
   "metadata": {},
   "outputs": [
    {
     "data": {
      "image/png": "[encoded data removed]",
      "text/plain": [
       "<Figure size 400x400 with 1 Axes>"
      ]
     },
     "metadata": {},
     "output_type": "display_data"
    }
   ],
   "source": [
    "# label 확인\n",
    "import seaborn as sns\n",
    "temp = pd.DataFrame(train_data['label'].value_counts()).reset_index(drop=False)\n",
    "plt.figure(figsize=(4,4))\n",
    "sns.barplot(x='index', y='label', data=temp, color=\"lightcoral\")\n",
    "plt.xticks(rotation=45);"
   ]
  },
  {
   "cell_type": "code",
   "execution_count": 5,
   "id": "21a70695",
   "metadata": {},
   "outputs": [
    {
     "name": "stdout",
     "output_type": "stream",
     "text": [
      "훈련용 문장의 수 : 11784\n",
      "훈련용 레이블의 수 : 11784\n",
      "테스트용 문장의 수 : 600\n",
      "테스트용 레이블의 수 : 600\n"
     ]
    }
   ],
   "source": [
    "# 데이터 및 레이블을 리스트로 저장\n",
    "intent_train = train_data['intent'].tolist()\n",
    "label_train = train_data['label'].tolist()\n",
    "intent_test = test_data['intent'].tolist()\n",
    "label_test = test_data['label'].tolist()\n",
    "\n",
    "print('훈련용 문장의 수 :', len(intent_train))\n",
    "print('훈련용 레이블의 수 :', len(label_train))\n",
    "print('테스트용 문장의 수 :', len(intent_test))\n",
    "print('테스트용 레이블의 수 :', len(label_test))"
   ]
  },
  {
   "cell_type": "code",
   "execution_count": 16,
   "id": "8c9c0e8a",
   "metadata": {},
   "outputs": [
    {
     "name": "stdout",
     "output_type": "stream",
     "text": [
      "레이블과 정수의 맵핑 관계 : {'AddToPlaylist': 0, 'BookRestaurant': 1, 'GetWeather': 2, 'RateBook': 3, 'SearchCreativeWork': 4, 'SearchScreeningEvent': 5}\n"
     ]
    }
   ],
   "source": [
    "# 레이블을 정수로 인코딩 -> scikit learn의 LabelEncoder 이용\n",
    "idx_encode = preprocessing.LabelEncoder()\n",
    "idx_encode.fit(label_train)\n",
    "\n",
    "label_train = idx_encode.transform(label_train) # 주어진 고유한 정수로 변환\n",
    "label_test = idx_encode.transform(label_test) # 고유한 정수로 변환\n",
    "\n",
    "label_idx = dict(zip(list(idx_encode.classes_), idx_encode.transform(list(idx_encode.classes_))))\n",
    "print('레이블과 정수의 맵핑 관계 :',label_idx)"
   ]
  },
  {
   "cell_type": "code",
   "execution_count": 17,
   "id": "55335f3d",
   "metadata": {},
   "outputs": [
    {
     "data": {
      "text/plain": [
       "[[11, 191, 61, 4, 1, 4013, 1141, 1572, 15],\n",
       " [11, 2624, 1573, 3, 14, 15, 939, 82, 256, 188, 548],\n",
       " [11, 187, 42, 2625, 4014, 4, 1968],\n",
       " [11, 2626, 22, 2627, 4, 14, 192, 27],\n",
       " [11, 92, 4, 14, 651, 520, 195]]"
      ]
     },
     "execution_count": 17,
     "metadata": {},
     "output_type": "execute_result"
    }
   ],
   "source": [
    "# data 정수 인코딩\n",
    "tokenizer = Tokenizer()\n",
    "tokenizer.fit_on_texts(intent_train)\n",
    "sequences = tokenizer.texts_to_sequences(intent_train)\n",
    "sequences[:5] # 상위 5개 샘플 출력"
   ]
  },
  {
   "cell_type": "code",
   "execution_count": 18,
   "id": "efc76908",
   "metadata": {},
   "outputs": [
    {
     "name": "stdout",
     "output_type": "stream",
     "text": [
      "단어 집합(Vocabulary)의 크기 : 9870\n"
     ]
    }
   ],
   "source": [
    "# 단어 집합의 크기 확인\n",
    "word_index = tokenizer.word_index\n",
    "vocab_size = len(word_index) + 1\n",
    "print('단어 집합(Vocabulary)의 크기 :',vocab_size)"
   ]
  },
  {
   "cell_type": "code",
   "execution_count": 20,
   "id": "20d0934a",
   "metadata": {},
   "outputs": [
    {
     "name": "stdout",
     "output_type": "stream",
     "text": [
      "문장의 최대 길이 : 35\n",
      "문장의 평균 길이 : 9.364392396469789\n"
     ]
    },
    {
     "data": {
      "image/png": "[encoded data removed]",
      "text/plain": [
       "<Figure size 400x400 with 1 Axes>"
      ]
     },
     "metadata": {},
     "output_type": "display_data"
    }
   ],
   "source": [
    "# 데이터의 길이 및 최대 길이 확인\n",
    "print('문장의 최대 길이 :',max(len(l) for l in sequences))\n",
    "print('문장의 평균 길이 :',sum(map(len, sequences))/len(sequences))\n",
    "plt.figure(figsize=(4, 4))\n",
    "plt.hist([len(s) for s in sequences], bins=50)\n",
    "plt.xlabel('length of samples')\n",
    "plt.ylabel('number of samples')\n",
    "plt.show()"
   ]
  },
  {
   "cell_type": "code",
   "execution_count": 22,
   "id": "48cf63d8",
   "metadata": {},
   "outputs": [],
   "source": [
    "# 모든 훈련 데이터를 최대 길이에 맞춰 padding\n",
    "max_len = 35\n",
    "intent_train = pad_sequences(sequences, maxlen = max_len)"
   ]
  },
  {
   "cell_type": "code",
   "execution_count": 23,
   "id": "72f09932",
   "metadata": {},
   "outputs": [
    {
     "data": {
      "text/plain": [
       "(11784, 6)"
      ]
     },
     "execution_count": 23,
     "metadata": {},
     "output_type": "execute_result"
    }
   ],
   "source": [
    "# label: 원핫인코딩 수행(다중 분류를 수행하기 위해)\n",
    "label_train = to_categorical(np.asarray(label_train))\n",
    "label_train.shape"
   ]
  },
  {
   "cell_type": "code",
   "execution_count": 24,
   "id": "b0164a67",
   "metadata": {},
   "outputs": [
    {
     "data": {
      "text/plain": [
       "array([   0,    0,    0,    0,    0,    0,    0,    0,    0,    0,    0,\n",
       "          0,    0,    0,    0,    0,    0,    0,    0,    0,    0,    0,\n",
       "          0,    0,    0,    0,   11,  191,   61,    4,    1, 4013, 1141,\n",
       "       1572,   15])"
      ]
     },
     "execution_count": 24,
     "metadata": {},
     "output_type": "execute_result"
    }
   ],
   "source": [
    "intent_train[0]"
   ]
  },
  {
   "cell_type": "code",
   "execution_count": 29,
   "id": "4237d0b3",
   "metadata": {},
   "outputs": [],
   "source": [
    "#validation set 만들기\n",
    "\n",
    "# 현재 데이터가 레이블별로 순서대로 나열되어 있으므로, \n",
    "# random number를 통해 train set의 순서를 섞고 이후에 validation set을 생성\n",
    "indices = np.arange(intent_train.shape[0])\n",
    "np.random.shuffle(indices)   # indices의 숫자를 random하게 섞어줌\n",
    "\n",
    "intent_train = intent_train[indices]\n",
    "label_train = label_train[indices]\n",
    "\n",
    "n_of_val = int(0.1 * intent_train.shape[0])\n",
    "\n",
    "X_train = intent_train[:-n_of_val]  # 뒤에 n_of_val개만큼 남기고 slicing\n",
    "y_train = label_train[:-n_of_val]\n",
    "X_val = intent_train[-n_of_val:]\n",
    "y_val = label_train[-n_of_val:]\n",
    "X_test = intent_test\n",
    "y_test = label_test"
   ]
  },
  {
   "cell_type": "code",
   "execution_count": 30,
   "id": "6000578b",
   "metadata": {},
   "outputs": [
    {
     "name": "stdout",
     "output_type": "stream",
     "text": [
      "훈련 데이터의 크기(shape): (10606, 35)\n",
      "검증 데이터의 크기(shape): (1178, 35)\n",
      "훈련 데이터 레이블의 크기(shape): (10606, 6)\n",
      "검증 데이터 레이블의 크기(shape): (1178, 6)\n",
      "테스트 데이터의 개수 : 600\n",
      "테스트 데이터 레이블의 개수 : 600\n"
     ]
    }
   ],
   "source": [
    "print('훈련 데이터의 크기(shape):', X_train.shape)\n",
    "print('검증 데이터의 크기(shape):', X_val.shape)\n",
    "print('훈련 데이터 레이블의 크기(shape):', y_train.shape)\n",
    "print('검증 데이터 레이블의 크기(shape):', y_val.shape)\n",
    "print('테스트 데이터의 개수 :', len(X_test))\n",
    "print('테스트 데이터 레이블의 개수 :', len(y_test))"
   ]
  },
  {
   "cell_type": "code",
   "execution_count": 28,
   "id": "2795d636",
   "metadata": {},
   "outputs": [
    {
     "data": {
      "text/plain": [
       "[3, 6, 5, 4, 3, 2, 0]"
      ]
     },
     "execution_count": 28,
     "metadata": {},
     "output_type": "execute_result"
    }
   ],
   "source": [
    "a = [3, 6, 5, 4, 3, 2, 0, 9, 22, 4]\n",
    "a[:-3]"
   ]
  },
  {
   "cell_type": "markdown",
   "id": "9d792588",
   "metadata": {},
   "source": [
    "### 사전 훈련된 워드 임베딩 사용\n",
    "훈련 데이터가 적은 상황일 경우 keras의 Embedding()으로 최적의 임베딩 벡터값을 얻는 것이 쉽지 않으므로,      \n",
    "보다 많은 데이터로 이미 훈련된 Word2Vec이나 GloVe 등 이미 학습되어 있는 임베딩 벡터를 사용하는 것이 성능 개선의 포인트가 될 수 있다.         \n",
    "- GloVe: 스탠포드 대학교에서 제공하는 임베딩            \n",
    "    - 다운로드 링크: http://nlp.stanford.edu/data/glove.6B.zip           \n",
    "- Word2Vec: 구글에서 사전 훈련한 임베딩\n",
    "    - 다운로드 링크: https://drive.google.com/file/d/0B7XkCwpI5KDYNlNUTTlSS21pQmM"
   ]
  },
  {
   "cell_type": "code",
   "execution_count": 35,
   "id": "87bf834a",
   "metadata": {},
   "outputs": [
    {
     "name": "stdout",
     "output_type": "stream",
     "text": [
      "100% [......................................................................] 862182613 / 862182613"
     ]
    },
    {
     "data": {
      "text/plain": [
       "'glove.6B.zip'"
      ]
     },
     "execution_count": 35,
     "metadata": {},
     "output_type": "execute_result"
    }
   ],
   "source": [
    "#!pip install wget\n",
    "import wget\n",
    "url = 'http://nlp.stanford.edu/data/glove.6B.zip'\n",
    "wget.download(url)"
   ]
  },
  {
   "cell_type": "code",
   "execution_count": 37,
   "id": "2d103125",
   "metadata": {},
   "outputs": [],
   "source": [
    "#!pip install zipfile\n",
    "import zipfile\n",
    "\n",
    "path_to_zip_file = './glove.6B.zip'\n",
    "directory_to_extract_to = './glove'\n",
    "\n",
    "with zipfile.ZipFile(path_to_zip_file, 'r') as zip_ref:\n",
    "    zip_ref.extractall(directory_to_extract_to)"
   ]
  },
  {
   "cell_type": "code",
   "execution_count": 38,
   "id": "70bb8d54",
   "metadata": {},
   "outputs": [
    {
     "name": "stdout",
     "output_type": "stream",
     "text": [
      "400000개의 Embedding vector가 있습니다.\n"
     ]
    }
   ],
   "source": [
    "# 임베딩 벡터 로드\n",
    "embedding_dict = dict()\n",
    "f = open(os.path.join('./glove/glove.6B.100d.txt'), encoding='utf-8')\n",
    "for line in f:\n",
    "    word_vector = line.split()\n",
    "    word = word_vector[0]\n",
    "    word_vector_arr = np.asarray(word_vector[1:], dtype='float32') # 100개의 값을 가지는 array로 변환\n",
    "    embedding_dict[word] = word_vector_arr\n",
    "f.close()\n",
    "\n",
    "print('%s개의 Embedding vector가 있습니다.' % len(embedding_dict))"
   ]
  },
  {
   "cell_type": "code",
   "execution_count": 39,
   "id": "2c07c87f",
   "metadata": {
    "scrolled": true
   },
   "outputs": [
    {
     "name": "stdout",
     "output_type": "stream",
     "text": [
      "[-0.049773   0.19903    0.10585    0.1391    -0.32395    0.44053\n",
      "  0.3947    -0.22805   -0.25793    0.49768    0.15384   -0.08831\n",
      "  0.0782    -0.8299    -0.037788   0.16772   -0.45197   -0.17085\n",
      "  0.74756    0.98256    0.81872    0.28507    0.16178   -0.48626\n",
      " -0.006265  -0.92469   -0.30625   -0.067318  -0.046762  -0.76291\n",
      " -0.0025264 -0.018795   0.12882   -0.52457    0.3586     0.43119\n",
      " -0.89477   -0.057421  -0.53724    0.25587    0.55195    0.44698\n",
      " -0.24252    0.29946    0.25776   -0.8717     0.68426   -0.05688\n",
      " -0.1848    -0.59352   -0.11227   -0.57692   -0.013593   0.18488\n",
      " -0.32507   -0.90171    0.17672    0.075601   0.54896   -0.21488\n",
      " -0.54018   -0.45882   -0.79536    0.26331    0.18879   -0.16363\n",
      "  0.3975     0.1099     0.1164    -0.083499   0.50159    0.35802\n",
      "  0.25677    0.088546   0.42108    0.28674   -0.71285   -0.82915\n",
      "  0.15297   -0.82712    0.022112   1.067     -0.31776    0.1211\n",
      " -0.069755  -0.61327    0.27308   -0.42638   -0.085084  -0.17694\n",
      " -0.0090944  0.1109     0.62543   -0.23682   -0.44928   -0.3667\n",
      " -0.21616   -0.19187   -0.032502   0.38025  ]\n",
      "100\n"
     ]
    }
   ],
   "source": [
    "# 예시 단어: respectable 의 임베딩 벡터값과 차원\n",
    "print(embedding_dict['respectable'])\n",
    "print(len(embedding_dict['respectable']))"
   ]
  },
  {
   "cell_type": "code",
   "execution_count": 41,
   "id": "cd77b05d",
   "metadata": {},
   "outputs": [
    {
     "name": "stdout",
     "output_type": "stream",
     "text": [
      "임베딩 테이블의 크기(shape) : (9870, 100)\n"
     ]
    }
   ],
   "source": [
    "# pre-trained 임베딩 벡터의 차원에 맞는 임베딩 테이블 생성\n",
    "# -> 행: vocab_size, 열: 100\n",
    "embedding_dim = 100\n",
    "embedding_matrix = np.zeros((vocab_size, embedding_dim))\n",
    "print('임베딩 테이블의 크기(shape) :',np.shape(embedding_matrix))"
   ]
  },
  {
   "cell_type": "code",
   "execution_count": 45,
   "id": "9e094704",
   "metadata": {},
   "outputs": [],
   "source": [
    "# 훈련 데이터를 통해 만든 단어집합 내 단어와 pre-trained 워드 임베딩 벡터의 값을 맵핑해서 임베딩 테이블에 저장\n",
    "for word, i in word_index.items():\n",
    "    embedding_vector = embedding_dict.get(word)\n",
    "    if embedding_vector is not None:  # train data에 대한 단어 집합 내 단어가 임베딩 벡터에도 있을 경우 맵핑\n",
    "        embedding_matrix[i] = embedding_vector"
   ]
  },
  {
   "cell_type": "markdown",
   "id": "346fd5db",
   "metadata": {},
   "source": [
    "#### 1D CNN을 이용한 의도분류"
   ]
  },
  {
   "cell_type": "code",
   "execution_count": 48,
   "id": "f451e9c8",
   "metadata": {},
   "outputs": [
    {
     "name": "stdout",
     "output_type": "stream",
     "text": [
      "Model: \"model_1\"\n",
      "__________________________________________________________________________________________________\n",
      " Layer (type)                   Output Shape         Param #     Connected to                     \n",
      "==================================================================================================\n",
      " input_2 (InputLayer)           [(None, 35)]         0           []                               \n",
      "                                                                                                  \n",
      " embedding_1 (Embedding)        (None, 35, 100)      987000      ['input_2[0][0]']                \n",
      "                                                                                                  \n",
      " conv1d_2 (Conv1D)              (None, 34, 512)      102912      ['embedding_1[0][0]']            \n",
      "                                                                                                  \n",
      " conv1d_3 (Conv1D)              (None, 33, 512)      154112      ['embedding_1[0][0]']            \n",
      "                                                                                                  \n",
      " conv1d_4 (Conv1D)              (None, 31, 512)      256512      ['embedding_1[0][0]']            \n",
      "                                                                                                  \n",
      " global_max_pooling1d_2 (Global  (None, 512)         0           ['conv1d_2[0][0]']               \n",
      " MaxPooling1D)                                                                                    \n",
      "                                                                                                  \n",
      " global_max_pooling1d_3 (Global  (None, 512)         0           ['conv1d_3[0][0]']               \n",
      " MaxPooling1D)                                                                                    \n",
      "                                                                                                  \n",
      " global_max_pooling1d_4 (Global  (None, 512)         0           ['conv1d_4[0][0]']               \n",
      " MaxPooling1D)                                                                                    \n",
      "                                                                                                  \n",
      " concatenate_1 (Concatenate)    (None, 1536)         0           ['global_max_pooling1d_2[0][0]', \n",
      "                                                                  'global_max_pooling1d_3[0][0]', \n",
      "                                                                  'global_max_pooling1d_4[0][0]'] \n",
      "                                                                                                  \n",
      " dropout_1 (Dropout)            (None, 1536)         0           ['concatenate_1[0][0]']          \n",
      "                                                                                                  \n",
      " dense_1 (Dense)                (None, 6)            9222        ['dropout_1[0][0]']              \n",
      "                                                                                                  \n",
      "==================================================================================================\n",
      "Total params: 1,509,758\n",
      "Trainable params: 522,758\n",
      "Non-trainable params: 987,000\n",
      "__________________________________________________________________________________________________\n"
     ]
    }
   ],
   "source": [
    "from tensorflow.keras.models import Model\n",
    "from tensorflow.keras.layers import Embedding, Dropout, Conv1D, GlobalMaxPooling1D, Dense, Input, Flatten, Concatenate\n",
    "\n",
    "kernel_sizes = [2, 3, 5]\n",
    "num_filters = 512\n",
    "dropout_ratio = 0.5\n",
    "\n",
    "model_input = Input(shape=(max_len,))\n",
    "output = Embedding(vocab_size, embedding_dim, weights=[embedding_matrix],\n",
    "                      input_length=max_len, trainable=False)(model_input)\n",
    "\n",
    "conv_blocks = []\n",
    "\n",
    "for size in kernel_sizes:\n",
    "    conv = Conv1D(filters=num_filters,\n",
    "                         kernel_size=size,\n",
    "                         padding=\"valid\",\n",
    "                         activation=\"relu\",\n",
    "                         strides=1)(output)\n",
    "    conv = GlobalMaxPooling1D()(conv)\n",
    "    conv_blocks.append(conv)\n",
    "\n",
    "output = Concatenate()(conv_blocks) if len(conv_blocks) > 1 else conv_blocks[0]\n",
    "output = Dropout(dropout_ratio)(output)\n",
    "model_output = Dense(len(label_idx), activation='softmax')(output)\n",
    "model = Model(model_input, model_output)\n",
    "\n",
    "model.compile(loss='categorical_crossentropy', optimizer='adam', metrics=['acc'])\n",
    "model.summary()"
   ]
  },
  {
   "cell_type": "code",
   "execution_count": 49,
   "id": "10dd2106",
   "metadata": {
    "scrolled": true
   },
   "outputs": [
    {
     "name": "stdout",
     "output_type": "stream",
     "text": [
      "Epoch 1/10\n",
      "166/166 [==============================] - 7s 39ms/step - loss: 0.1897 - acc: 0.9397 - val_loss: 0.0654 - val_acc: 0.9805\n",
      "Epoch 2/10\n",
      "166/166 [==============================] - 7s 44ms/step - loss: 0.0455 - acc: 0.9863 - val_loss: 0.0600 - val_acc: 0.9779\n",
      "Epoch 3/10\n",
      "166/166 [==============================] - 8s 48ms/step - loss: 0.0255 - acc: 0.9930 - val_loss: 0.0556 - val_acc: 0.9839\n",
      "Epoch 4/10\n",
      "166/166 [==============================] - 8s 47ms/step - loss: 0.0186 - acc: 0.9944 - val_loss: 0.0514 - val_acc: 0.9830\n",
      "Epoch 5/10\n",
      "166/166 [==============================] - 8s 46ms/step - loss: 0.0118 - acc: 0.9968 - val_loss: 0.0660 - val_acc: 0.9779\n",
      "Epoch 6/10\n",
      "166/166 [==============================] - 7s 45ms/step - loss: 0.0109 - acc: 0.9975 - val_loss: 0.0567 - val_acc: 0.9847\n",
      "Epoch 7/10\n",
      "166/166 [==============================] - 7s 45ms/step - loss: 0.0092 - acc: 0.9972 - val_loss: 0.0554 - val_acc: 0.9839\n",
      "Epoch 8/10\n",
      "166/166 [==============================] - 7s 44ms/step - loss: 0.0065 - acc: 0.9978 - val_loss: 0.0676 - val_acc: 0.9796\n",
      "Epoch 9/10\n",
      "166/166 [==============================] - 7s 45ms/step - loss: 0.0065 - acc: 0.9980 - val_loss: 0.0637 - val_acc: 0.9813\n",
      "Epoch 10/10\n",
      "166/166 [==============================] - 7s 44ms/step - loss: 0.0085 - acc: 0.9971 - val_loss: 0.0638 - val_acc: 0.9788\n"
     ]
    }
   ],
   "source": [
    "history = model.fit(X_train, y_train,\n",
    "          batch_size=64,\n",
    "          epochs=10,\n",
    "          validation_data=(X_val, y_val))"
   ]
  },
  {
   "cell_type": "code",
   "execution_count": 50,
   "id": "d8aa28bf",
   "metadata": {},
   "outputs": [
    {
     "data": {
      "image/png": "[encoded data removed]",
      "text/plain": [
       "<Figure size 640x480 with 1 Axes>"
      ]
     },
     "metadata": {},
     "output_type": "display_data"
    },
    {
     "data": {
      "image/png": "[encoded data removed]",
      "text/plain": [
       "<Figure size 640x480 with 1 Axes>"
      ]
     },
     "metadata": {},
     "output_type": "display_data"
    }
   ],
   "source": [
    "# 정확도 및 loss 변화 시각화\n",
    "epochs = range(1, len(history.history['acc']) + 1)\n",
    "plt.plot(epochs, history.history['acc'])\n",
    "plt.plot(epochs, history.history['val_acc'])\n",
    "plt.title('model accuracy')\n",
    "plt.ylabel('accuracy')\n",
    "plt.xlabel('epochs')\n",
    "plt.legend(['train', 'test'], loc='lower right')\n",
    "plt.show()\n",
    "\n",
    "epochs = range(1, len(history.history['loss']) + 1)\n",
    "plt.plot(epochs, history.history['loss'])\n",
    "plt.plot(epochs, history.history['val_loss'])\n",
    "plt.title('model loss')\n",
    "plt.ylabel('loss')\n",
    "plt.xlabel('epochs')\n",
    "plt.legend(['train', 'test'], loc='upper right')\n",
    "plt.show()"
   ]
  },
  {
   "cell_type": "code",
   "execution_count": 51,
   "id": "95a42dfd",
   "metadata": {},
   "outputs": [
    {
     "name": "stdout",
     "output_type": "stream",
     "text": [
      "19/19 [==============================] - 0s 8ms/step\n"
     ]
    }
   ],
   "source": [
    "# 테스트 데이터 예측\n",
    "X_test = tokenizer.texts_to_sequences(X_test)\n",
    "X_test = pad_sequences(X_test, maxlen=max_len)\n",
    "\n",
    "y_predicted = model.predict(X_test)\n",
    "y_predicted = y_predicted.argmax(axis=-1) # 예측을 정수 시퀀스로 변환"
   ]
  },
  {
   "cell_type": "code",
   "execution_count": 55,
   "id": "80c477ec",
   "metadata": {},
   "outputs": [
    {
     "name": "stdout",
     "output_type": "stream",
     "text": [
      "정확도(Accuracy) :  0.99\n"
     ]
    }
   ],
   "source": [
    "print('정확도(Accuracy) : ', sum(y_predicted == y_test) / len(y_test))"
   ]
  }
 ],
 "metadata": {
  "kernelspec": {
   "display_name": "py37",
   "language": "python",
   "name": "py37"
  },
  "language_info": {
   "codemirror_mode": {
    "name": "ipython",
    "version": 3
   },
   "file_extension": ".py",
   "mimetype": "text/x-python",
   "name": "python",
   "nbconvert_exporter": "python",
   "pygments_lexer": "ipython3",
   "version": "3.7.9"
  }
 },
 "nbformat": 4,
 "nbformat_minor": 5
}
